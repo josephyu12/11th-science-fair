{
 "cells": [
  {
   "cell_type": "code",
   "execution_count": 164,
   "id": "75bdc7ad-1599-4ccd-8abc-5536833571b1",
   "metadata": {},
   "outputs": [],
   "source": [
    "import tensorflow as tf\n",
    "import os\n",
    "import shutil\n",
    "import pandas as pd\n",
    "import numpy as np\n",
    "from sklearn.preprocessing import OneHotEncoder\n",
    "from sklearn.model_selection import train_test_split\n",
    "import matplotlib.pyplot as plt "
   ]
  },
  {
   "cell_type": "code",
   "execution_count": 165,
   "id": "0ee94ac9-7196-4112-a22a-6139be9dc26a",
   "metadata": {},
   "outputs": [
    {
     "data": {
      "text/plain": [
       "'2.7.0'"
      ]
     },
     "execution_count": 165,
     "metadata": {},
     "output_type": "execute_result"
    }
   ],
   "source": [
    "tf.__version__"
   ]
  },
  {
   "cell_type": "code",
   "execution_count": 166,
   "id": "f8ad4ef3-4138-41b8-b46b-3c8b5f078210",
   "metadata": {},
   "outputs": [
    {
     "data": {
      "text/plain": [
       "'Data/cAb-rep/cAb-Rep_heavy.nt.txt'"
      ]
     },
     "execution_count": 166,
     "metadata": {},
     "output_type": "execute_result"
    }
   ],
   "source": [
    "shutil.copy(\"Data/cAb-rep/cAb-Rep_heavy.nt.fasta\", \"Data/cAb-rep/cAb-Rep_heavy.nt.txt\")"
   ]
  },
  {
   "cell_type": "code",
   "execution_count": 174,
   "id": "ca827dc2-3d2e-4bbd-80ae-08b1ea26e6a4",
   "metadata": {},
   "outputs": [
    {
     "name": "stdout",
     "output_type": "stream",
     "text": [
      "AACCTACTGGAGTCTGGGGGAGGCTTAGTCAAGCCAGGAGGGTCCCTGAGACTGTCTTGTGAAGGCTCAGGATTCCTGTTCAGTCACTATTACATGAGTTGGATACGCCAGGGTCCCGAGAAGAGACTGGAGTTGGTTGCATACATTAGCTCCAATAGTACCGCCTTTTATTACGCAGACTCTGTGAAGGGCCGCTTCACCGTTTCCAAGGACGACGCCAAGAAGTCTGTGTTTCTCCAAATGACTTCCGTGTCAAGCGACGACACGGCCACCTATTACTGTGCGACGGGGGATTGGAGTCGTACCAATAACTTCGACACCTGGGGCCAGGGAACCCAGGTCATCGTCTCC\n",
      "\n"
     ]
    }
   ],
   "source": [
    "with open(\"Data/cAb-rep/cAb-Rep_heavy.nt.txt\") as myfile:\n",
    "    head = [next(myfile) for x in range(2000)]\n",
    "print(head[1])"
   ]
  },
  {
   "cell_type": "code",
   "execution_count": 175,
   "id": "057e029e-ba39-43dd-af95-8a50bce51fb6",
   "metadata": {
    "tags": []
   },
   "outputs": [],
   "source": [
    "healthy_sequences = []\n",
    "for i in head:\n",
    "    if i.find(\"cdr3_aa_seq=\") == -1:\n",
    "        continue\n",
    "    inner_str = i.split('cdr3_aa_seq=')[-1].split('size=')[0]\n",
    "    healthy_sequences.append(inner_str)"
   ]
  },
  {
   "cell_type": "code",
   "execution_count": 176,
   "id": "550d85f1-6320-432d-8b20-b6531a0fc845",
   "metadata": {
    "tags": []
   },
   "outputs": [
    {
     "data": {
      "text/html": [
       "<div>\n",
       "<style scoped>\n",
       "    .dataframe tbody tr th:only-of-type {\n",
       "        vertical-align: middle;\n",
       "    }\n",
       "\n",
       "    .dataframe tbody tr th {\n",
       "        vertical-align: top;\n",
       "    }\n",
       "\n",
       "    .dataframe thead th {\n",
       "        text-align: right;\n",
       "    }\n",
       "</style>\n",
       "<table border=\"1\" class=\"dataframe\">\n",
       "  <thead>\n",
       "    <tr style=\"text-align: right;\">\n",
       "      <th></th>\n",
       "      <th>CDRH3</th>\n",
       "    </tr>\n",
       "  </thead>\n",
       "  <tbody>\n",
       "    <tr>\n",
       "      <th>0</th>\n",
       "      <td>ARGQLGPWVGVDY</td>\n",
       "    </tr>\n",
       "    <tr>\n",
       "      <th>1</th>\n",
       "      <td>ARQGWLRGNFDY</td>\n",
       "    </tr>\n",
       "    <tr>\n",
       "      <th>2</th>\n",
       "      <td>ASQLWLRGAFDI</td>\n",
       "    </tr>\n",
       "    <tr>\n",
       "      <th>3</th>\n",
       "      <td>ARKGWLRGAFDI</td>\n",
       "    </tr>\n",
       "    <tr>\n",
       "      <th>4</th>\n",
       "      <td>ARKGWLRGAFDI</td>\n",
       "    </tr>\n",
       "    <tr>\n",
       "      <th>...</th>\n",
       "      <td>...</td>\n",
       "    </tr>\n",
       "    <tr>\n",
       "      <th>995</th>\n",
       "      <td>ARDLGPYGMDV</td>\n",
       "    </tr>\n",
       "    <tr>\n",
       "      <th>996</th>\n",
       "      <td>ARDLGAYGMDV</td>\n",
       "    </tr>\n",
       "    <tr>\n",
       "      <th>997</th>\n",
       "      <td>ARLPYGMDV</td>\n",
       "    </tr>\n",
       "    <tr>\n",
       "      <th>998</th>\n",
       "      <td>ARLPYGMDV</td>\n",
       "    </tr>\n",
       "    <tr>\n",
       "      <th>999</th>\n",
       "      <td>ARARIYTYGPDY</td>\n",
       "    </tr>\n",
       "  </tbody>\n",
       "</table>\n",
       "<p>1000 rows × 1 columns</p>\n",
       "</div>"
      ],
      "text/plain": [
       "             CDRH3\n",
       "0    ARGQLGPWVGVDY\n",
       "1     ARQGWLRGNFDY\n",
       "2     ASQLWLRGAFDI\n",
       "3     ARKGWLRGAFDI\n",
       "4     ARKGWLRGAFDI\n",
       "..             ...\n",
       "995    ARDLGPYGMDV\n",
       "996    ARDLGAYGMDV\n",
       "997      ARLPYGMDV\n",
       "998      ARLPYGMDV\n",
       "999   ARARIYTYGPDY\n",
       "\n",
       "[1000 rows x 1 columns]"
      ]
     },
     "execution_count": 176,
     "metadata": {},
     "output_type": "execute_result"
    }
   ],
   "source": [
    "df = pandas.read_csv(\"Data/CoV-AbDab_031022.csv\")\n",
    "df = df[[\"CDRH3\"]]\n",
    "df = df.head(1000)\n",
    "df"
   ]
  },
  {
   "cell_type": "code",
   "execution_count": 177,
   "id": "67483afe-f027-4dd9-9d03-e62e4145b446",
   "metadata": {
    "tags": []
   },
   "outputs": [
    {
     "name": "stdout",
     "output_type": "stream",
     "text": [
      "28\n",
      "28\n"
     ]
    }
   ],
   "source": [
    "covid_sequences = df.to_numpy()\n",
    "covid_sequences = np.squeeze(covid_sequences)\n",
    "# print(healthy_sequences)\n",
    "print(len(max(healthy_sequences, key=len)))\n",
    "print(len(max(covid_sequences, key=len)))\n",
    "# print(covid_sequences)"
   ]
  },
  {
   "cell_type": "code",
   "execution_count": 178,
   "id": "842f6433-f573-4d33-9280-86f26c1ac116",
   "metadata": {},
   "outputs": [],
   "source": [
    "# order from https://www.ncbi.nlm.nih.gov/Class/MLACourse/Modules/MolBioReview/iupac_aa_abbreviations.html"
   ]
  },
  {
   "cell_type": "code",
   "execution_count": 103,
   "id": "9cbddb66-062b-4be0-8384-222413c3aa62",
   "metadata": {
    "tags": []
   },
   "outputs": [
    {
     "name": "stdout",
     "output_type": "stream",
     "text": [
      "1000\n"
     ]
    }
   ],
   "source": [
    "covid_onehot = []\n",
    "healthy_onehot = []\n",
    "\n",
    "order = \"ARNDCQEGHILKMFPSTWYV\"\n",
    "\n",
    "for i in covid_sequences:\n",
    "    count = 0\n",
    "    b = np.zeros((28, 20))\n",
    "    for j in i:\n",
    "        b[count, order.index(j)] = 1\n",
    "        count+=1\n",
    "    covid_onehot.append(b)\n",
    "\n",
    "# print(covid_onehot)\n",
    "\n",
    "unique_aa = []\n",
    "\n",
    "for i in healthy_sequences:\n",
    "    i = i.strip()\n",
    "    count = 0\n",
    "    b = np.zeros((28, 20))\n",
    "    unique_aa = list(set(i)) + list(set(unique_aa))\n",
    "    for j in i:\n",
    "        b[count, order.index(j)] = 1\n",
    "        count+=1\n",
    "    healthy_onehot.append(b)\n",
    "    \n",
    "# print(set(unique_aa))\n",
    "\n",
    "# print(healthy_onehot)\n",
    "\n",
    "print(len(covid_onehot))\n",
    "\n",
    "# set infected 1, healthy 0"
   ]
  },
  {
   "cell_type": "code",
   "execution_count": 106,
   "id": "b745d707-e2ff-4562-9e2d-a602b198b1c1",
   "metadata": {
    "tags": []
   },
   "outputs": [],
   "source": [
    "healthy_lables = [0] * 1000\n",
    "covid_lables = [1] * 1000"
   ]
  },
  {
   "cell_type": "code",
   "execution_count": 113,
   "id": "5e4d82be-b95e-4fa8-b69b-8595404f4f86",
   "metadata": {},
   "outputs": [],
   "source": [
    "X = np.concatenate((healthy_onehot, covid_onehot))\n",
    "y = np.concatenate((healthy_lables, covid_lables))"
   ]
  },
  {
   "cell_type": "code",
   "execution_count": 122,
   "id": "7452eec8-9c73-452a-b112-92a653d1fcbf",
   "metadata": {},
   "outputs": [],
   "source": [
    "X_train, X_test, y_train, y_test = train_test_split(X, y, test_size=0.1, random_state=42)\n",
    "    \n",
    "X_train, X_val, y_train, y_val = train_test_split(X_train, y_train, test_size=0.1, random_state=42)"
   ]
  },
  {
   "cell_type": "code",
   "execution_count": 179,
   "id": "70aa6227-ef6f-45b8-922c-25ba840a1686",
   "metadata": {},
   "outputs": [],
   "source": [
    "model = tf.keras.models.Sequential([\n",
    "  tf.keras.layers.Flatten(input_shape=(28, 20)),\n",
    "  tf.keras.layers.Dense(256, activation='relu'),\n",
    "  tf.keras.layers.Dense(128, activation='relu'),\n",
    "  tf.keras.layers.Dense(64, activation='relu'),\n",
    "  tf.keras.layers.Dense(16, activation='relu'),\n",
    "  tf.keras.layers.Dense(4, activation='relu'),\n",
    "  # tf.keras.layers.Dropout(0.4),\n",
    "  tf.keras.layers.Dense(1, activation='sigmoid')\n",
    "])"
   ]
  },
  {
   "cell_type": "code",
   "execution_count": 180,
   "id": "22349718-95b0-4c78-b2d6-e3da5b6c2bc3",
   "metadata": {},
   "outputs": [],
   "source": [
    "model.compile(optimizer='adam',\n",
    "              loss=tf.keras.losses.binary_crossentropy,\n",
    "              metrics=['accuracy'])"
   ]
  },
  {
   "cell_type": "code",
   "execution_count": 181,
   "id": "3ad03e70-4fb2-4dcf-b7cd-7aa75c93013e",
   "metadata": {},
   "outputs": [
    {
     "name": "stdout",
     "output_type": "stream",
     "text": [
      "Epoch 1/20\n"
     ]
    },
    {
     "name": "stderr",
     "output_type": "stream",
     "text": [
      "2022-11-15 14:38:35.174274: I tensorflow/core/grappler/optimizers/custom_graph_optimizer_registry.cc:112] Plugin optimizer for device_type GPU is enabled.\n"
     ]
    },
    {
     "name": "stdout",
     "output_type": "stream",
     "text": [
      "51/51 [==============================] - 1s 11ms/step - loss: 0.6870 - accuracy: 0.5025 - val_loss: 0.6646 - val_accuracy: 0.5167\n",
      "Epoch 2/20\n",
      " 8/51 [===>..........................] - ETA: 0s - loss: 0.6186 - accuracy: 0.6172"
     ]
    },
    {
     "name": "stderr",
     "output_type": "stream",
     "text": [
      "2022-11-15 14:38:35.895096: I tensorflow/core/grappler/optimizers/custom_graph_optimizer_registry.cc:112] Plugin optimizer for device_type GPU is enabled.\n"
     ]
    },
    {
     "name": "stdout",
     "output_type": "stream",
     "text": [
      "51/51 [==============================] - 0s 8ms/step - loss: 0.6166 - accuracy: 0.6698 - val_loss: 0.6300 - val_accuracy: 0.7389\n",
      "Epoch 3/20\n",
      "51/51 [==============================] - 0s 8ms/step - loss: 0.5162 - accuracy: 0.8204 - val_loss: 0.6382 - val_accuracy: 0.7278\n",
      "Epoch 4/20\n",
      "51/51 [==============================] - 0s 8ms/step - loss: 0.4238 - accuracy: 0.8852 - val_loss: 0.6764 - val_accuracy: 0.7389\n",
      "Epoch 5/20\n",
      "51/51 [==============================] - 0s 8ms/step - loss: 0.3751 - accuracy: 0.9198 - val_loss: 0.8266 - val_accuracy: 0.7500\n",
      "Epoch 6/20\n",
      "51/51 [==============================] - 0s 8ms/step - loss: 0.3536 - accuracy: 0.9321 - val_loss: 0.8466 - val_accuracy: 0.7722\n",
      "Epoch 7/20\n",
      "51/51 [==============================] - 0s 7ms/step - loss: 0.3284 - accuracy: 0.9444 - val_loss: 0.9237 - val_accuracy: 0.7722\n",
      "Epoch 8/20\n",
      "51/51 [==============================] - 0s 7ms/step - loss: 0.3104 - accuracy: 0.9512 - val_loss: 1.0180 - val_accuracy: 0.7722\n",
      "Epoch 9/20\n",
      "51/51 [==============================] - 0s 7ms/step - loss: 0.2952 - accuracy: 0.9580 - val_loss: 1.2550 - val_accuracy: 0.7333\n",
      "Epoch 10/20\n",
      "51/51 [==============================] - 0s 7ms/step - loss: 0.2844 - accuracy: 0.9599 - val_loss: 1.1685 - val_accuracy: 0.7778\n",
      "Epoch 11/20\n",
      "51/51 [==============================] - 0s 8ms/step - loss: 0.2731 - accuracy: 0.9630 - val_loss: 0.9326 - val_accuracy: 0.7500\n",
      "Epoch 12/20\n",
      "51/51 [==============================] - 0s 8ms/step - loss: 0.2709 - accuracy: 0.9611 - val_loss: 1.1129 - val_accuracy: 0.7500\n",
      "Epoch 13/20\n",
      "51/51 [==============================] - 0s 8ms/step - loss: 0.2551 - accuracy: 0.9654 - val_loss: 0.9212 - val_accuracy: 0.7611\n",
      "Epoch 14/20\n",
      "51/51 [==============================] - 0s 8ms/step - loss: 0.2478 - accuracy: 0.9654 - val_loss: 1.1398 - val_accuracy: 0.7667\n",
      "Epoch 15/20\n",
      "51/51 [==============================] - 0s 8ms/step - loss: 0.2412 - accuracy: 0.9679 - val_loss: 1.0554 - val_accuracy: 0.7611\n",
      "Epoch 16/20\n",
      "51/51 [==============================] - 0s 8ms/step - loss: 0.2339 - accuracy: 0.9673 - val_loss: 1.1262 - val_accuracy: 0.7833\n",
      "Epoch 17/20\n",
      "51/51 [==============================] - 0s 8ms/step - loss: 0.2304 - accuracy: 0.9654 - val_loss: 1.0180 - val_accuracy: 0.7611\n",
      "Epoch 18/20\n",
      "51/51 [==============================] - 0s 8ms/step - loss: 0.2294 - accuracy: 0.9642 - val_loss: 1.2316 - val_accuracy: 0.7833\n",
      "Epoch 19/20\n",
      "51/51 [==============================] - 0s 8ms/step - loss: 0.2132 - accuracy: 0.9704 - val_loss: 1.2700 - val_accuracy: 0.7611\n",
      "Epoch 20/20\n",
      "51/51 [==============================] - 0s 7ms/step - loss: 0.2104 - accuracy: 0.9685 - val_loss: 1.0167 - val_accuracy: 0.7667\n"
     ]
    }
   ],
   "source": [
    "history = model.fit(X_train, y_train, epochs=20, validation_data = (X_val, y_val))"
   ]
  },
  {
   "cell_type": "code",
   "execution_count": 182,
   "id": "0a7ad3f5-b9e7-412b-97e4-157f4b40471e",
   "metadata": {},
   "outputs": [
    {
     "data": {
      "image/png": "[encoded data removed]",
      "text/plain": [
       "<Figure size 640x480 with 1 Axes>"
      ]
     },
     "metadata": {},
     "output_type": "display_data"
    }
   ],
   "source": [
    "plt.plot(history.history['accuracy'])\n",
    "plt.plot(history.history['val_accuracy'])\n",
    "plt.title('model accuracy')\n",
    "plt.ylabel('accuracy')\n",
    "plt.xlabel('epoch')\n",
    "plt.legend(['train', 'val'], loc='upper left')\n",
    "plt.show()"
   ]
  },
  {
   "cell_type": "code",
   "execution_count": 183,
   "id": "5c8ae687-0304-47b1-8a77-f2eadf1c8cc3",
   "metadata": {},
   "outputs": [
    {
     "name": "stdout",
     "output_type": "stream",
     "text": [
      "7/7 [==============================] - 0s 9ms/step - loss: 1.0097 - accuracy: 0.7750\n"
     ]
    },
    {
     "data": {
      "text/plain": [
       "[1.0096592903137207, 0.7749999761581421]"
      ]
     },
     "execution_count": 183,
     "metadata": {},
     "output_type": "execute_result"
    }
   ],
   "source": [
    "model.evaluate(X_test, y_test)"
   ]
  },
  {
   "cell_type": "code",
   "execution_count": null,
   "id": "d3c98555-1d8c-4a73-8dd3-da58926a06e0",
   "metadata": {},
   "outputs": [],
   "source": []
  }
 ],
 "metadata": {
  "kernelspec": {
   "display_name": "Python 3 (ipykernel)",
   "language": "python",
   "name": "python3"
  },
  "language_info": {
   "codemirror_mode": {
    "name": "ipython",
    "version": 3
   },
   "file_extension": ".py",
   "mimetype": "text/x-python",
   "name": "python",
   "nbconvert_exporter": "python",
   "pygments_lexer": "ipython3",
   "version": "3.9.13"
  }
 },
 "nbformat": 4,
 "nbformat_minor": 5
}
