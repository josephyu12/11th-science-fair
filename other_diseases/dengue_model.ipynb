{
 "cells": [
  {
   "cell_type": "markdown",
   "id": "6db8c101",
   "metadata": {},
   "source": [
    "### Do NOT click RUN ALL... or else you will spend 20 minutes redefining the embeddings"
   ]
  },
  {
   "cell_type": "code",
   "execution_count": null,
   "id": "75bdc7ad-1599-4ccd-8abc-5536833571b1",
   "metadata": {},
   "outputs": [
    {
     "ename": "",
     "evalue": "",
     "output_type": "error",
     "traceback": [
      "\u001b[1;31mJupyter cannot be started. Error attempting to locate Jupyter: Select an Interpreter to start Jupyter\n",
      "\u001b[1;31mRun the following command to install 'jupyter and notebook' into the Python environment. \n",
      "\u001b[1;31mCommand: 'python -m pip install jupyter notebook -U\n",
      "\u001b[1;31mor\n",
      "\u001b[1;31mconda install jupyter notebook -U'\n",
      "\u001b[1;31mClick <a href='https://aka.ms/installJupyterForVSCode'>here</a> for more info."
     ]
    }
   ],
   "source": [
    "import tensorflow as tf\n",
    "import pandas as pd\n",
    "import numpy as np\n",
    "from sklearn.model_selection import train_test_split\n",
    "from sklearn.metrics import classification_report\n",
    "import matplotlib.pyplot as plt \n",
    "import seaborn as sns\n",
    "import sklearn\n",
    "from Bio.Seq import Seq\n",
    "from transformers import TFBertModel, BertTokenizer,BertConfig\n",
    "import re\n",
    "import pickle\n",
    "import sys\n",
    "import gc\n",
    "import os\n",
    "import pdfplumber\n",
    "import shutil\n",
    "import glob\n",
    "from imblearn.over_sampling import SMOTE, SMOTENC, BorderlineSMOTE\n",
    "import math\n",
    "import random\n",
    "\n",
    "# np.random.seed(42)\n",
    "# tf.random.set_seed(42)\n",
    "# os.environ['PYTHONHASHSEED']=str(42)\n",
    "tf.keras.utils.set_random_seed(42)"
   ]
  },
  {
   "attachments": {},
   "cell_type": "markdown",
   "id": "80d2ab41",
   "metadata": {},
   "source": [
    "# Defining"
   ]
  },
  {
   "cell_type": "markdown",
   "id": "2d9eaad3",
   "metadata": {},
   "source": [
    "Code for ProtBERT and BFD"
   ]
  },
  {
   "cell_type": "code",
   "execution_count": 2,
   "id": "c91accfd",
   "metadata": {},
   "outputs": [
    {
     "name": "stdout",
     "output_type": "stream",
     "text": [
      "Metal device set to: Apple M1 Max\n",
      "\n",
      "systemMemory: 64.00 GB\n",
      "maxCacheSize: 24.00 GB\n",
      "\n"
     ]
    },
    {
     "name": "stderr",
     "output_type": "stream",
     "text": [
      "2023-01-26 19:53:03.453692: I tensorflow/core/common_runtime/pluggable_device/pluggable_device_factory.cc:306] Could not identify NUMA node of platform GPU ID 0, defaulting to 0. Your kernel may not have been built with NUMA support.\n",
      "2023-01-26 19:53:03.453841: I tensorflow/core/common_runtime/pluggable_device/pluggable_device_factory.cc:272] Created TensorFlow device (/job:localhost/replica:0/task:0/device:GPU:0 with 0 MB memory) -> physical PluggableDevice (device: 0, name: METAL, pci bus id: <undefined>)\n"
     ]
    }
   ],
   "source": [
    "tokenizer = BertTokenizer.from_pretrained(\"Rostlab/prot_bert_bfd\", do_lower_case=False)\n",
    "embedding_model = TFBertModel.from_pretrained(\"Rostlab/prot_bert_bfd\", from_pt=True)"
   ]
  },
  {
   "cell_type": "code",
   "execution_count": null,
   "id": "e3c7bc12",
   "metadata": {},
   "outputs": [],
   "source": [
    "def get_embeddings(sequence_list):\n",
    "    # tokenizer = BertTokenizer.from_pretrained(\"Rostlab/prot_bert_bfd\", do_lower_case=False )\n",
    "    # embedding_model = TFBertModel.from_pretrained(\"Rostlab/prot_bert_bfd\", from_pt=True)\n",
    "    sequence_list = [re.sub(r\"[UZOB]\", \"X\", sequence) for sequence in sequence_list]\n",
    "    ids = tokenizer.batch_encode_plus(sequence_list, add_special_tokens=True, padding=True, return_tensors=\"tf\")\n",
    "    input_ids = ids['input_ids']\n",
    "    attention_mask = np.asarray(ids['attention_mask'])\n",
    "    embedding = np.asarray(embedding_model(input_ids)[0])\n",
    "    print(np.shape(input_ids))\n",
    "    average_embeddings = []\n",
    "    for seq_num in range(len(embedding)):\n",
    "\n",
    "        seq_len = (attention_mask[seq_num] == 1).sum()\n",
    "        \n",
    "        # seq_len = (len(attention_mask[seq_num]))\n",
    "        residues = embedding[seq_num][1:seq_len-1]\n",
    "        average = np.mean(residues, axis=0)\n",
    "        average_embeddings.append(average)\n",
    "    \n",
    "    del residues\n",
    "    del average\n",
    "    del ids\n",
    "    del sequence_list\n",
    "    del embedding\n",
    "    del input_ids\n",
    "    del attention_mask\n",
    "    gc.collect()\n",
    "\n",
    "    return np.asarray(average_embeddings)"
   ]
  },
  {
   "cell_type": "code",
   "execution_count": null,
   "id": "a9072ca2",
   "metadata": {},
   "outputs": [],
   "source": [
    "sequences_Example = [\"A E T C Z A O\",\"S K T Z P\"] # REMEMBER SPACING"
   ]
  },
  {
   "cell_type": "code",
   "execution_count": null,
   "id": "4dd04caf",
   "metadata": {},
   "outputs": [
    {
     "name": "stdout",
     "output_type": "stream",
     "text": [
      "(2, 9)\n"
     ]
    }
   ],
   "source": [
    "average_embeddings = get_embeddings(sequences_Example)\n",
    "# print(residue_embeddings)"
   ]
  },
  {
   "cell_type": "code",
   "execution_count": null,
   "id": "0ee94ac9-7196-4112-a22a-6139be9dc26a",
   "metadata": {},
   "outputs": [
    {
     "data": {
      "text/plain": [
       "'2.10.0'"
      ]
     },
     "execution_count": 6,
     "metadata": {},
     "output_type": "execute_result"
    }
   ],
   "source": [
    "tf.__version__"
   ]
  },
  {
   "cell_type": "markdown",
   "id": "4cbc4fbf",
   "metadata": {},
   "source": [
    "# Data Formatting"
   ]
  },
  {
   "cell_type": "code",
   "execution_count": 7,
   "id": "ca827dc2-3d2e-4bbd-80ae-08b1ea26e6a4",
   "metadata": {},
   "outputs": [
    {
     "name": "stdout",
     "output_type": "stream",
     "text": [
      "['EVQLVQSGAEVKKPGSSVKVSCKASGGTFSSYAISWVRQAPGQGLEWMGGIIPIFGTANYAQKFQGRVTITADESTSTAYMELSSLRSEDTAVYYCAVGLPVDYWGQGTLVTVSSASTKGPSVFPLAPSSKSTSGGTAALGCLVKDYFPEPVTVSWNSGALTSGVHTFPAVLQSSGLYSLSSVVTVPSSSLGTQTYICNVNHKPSNTKVDKKVEPKSC\\n', 'SEIVLTQSPATLSLSPGERATLSCRASQSISTFLAWYQHKPGQAPRLLIYDASTRATGVPARFSGSRSGTDFTLTISTLEPEDFAVYYCQQRYNWPPYTFGQGTKVEIKAAADDDDKAGWSHPQFEKGGGSGGGSGGGSWSHPQFEK\\n', 'EVQLVESGGGVVQPGRSLRLSCAASGFTFSSYAMHWVRQAPGKGLEWVAVISYDGSNKYYADSVKGRFTISRDNSKSTLYLQMNNLRAEDTAVYYCARDHLGWSSIWSAPESFLDYWGQGTLVTVSSASTKGPSVFPLAPSSKSTSGGTAALGCLVKDYFPEPVTVSWNSGALTSGVHTFPAVLQSSGLYSLSSVVTVPSSSLGTQTYICNVNHKPSNTKVDKRVEPK\\n', 'EVQLVQSGAEVKKPGSSVKVSCKASGGTFSSYAISWVRQAPGQGLEWMGGIIPIFGTANYAQKFQGRVTITADESTSTAYMELSSLRSEDTAVYYCAVGLPVDYWGQGTLVTVSSASTKGPSVFPLAPSSKSTSGGTAALGCLVKDYFPEPVTVSWNSGALTSGVHTFPAVLQSSGLYSLSSVVTVPSSSLGTQTYICNVNHKPSNTKVDKKVEP\\n', 'EIVLTQSPATLSLSPGQRATLSCRASQSVSNYFAWYQQKPGQAPRLLIYDTSKRATGTPARFSGSGSGTDFTLTISSLEPEDFAVYYCQERNNWPLTWTFGLGTKVEIKRTVAAPSVFIFPPSDEQLKSGTASVVCLLNNFYPREAKVQWKVDNALQSGNSQESVTEQDSKDSTYSLSSTLTLSKADYEKHKVYACEVTHQGLSSPVTKSFNRGEC\\n'] 80\n"
     ]
    }
   ],
   "source": [
    "# Read GenBank and Uniprot\n",
    "\n",
    "dummy = []\n",
    "head = []\n",
    "flag = False\n",
    "with open(\"../Data/Dengue/genbank.txt\") as myfile:\n",
    "    for i in myfile:\n",
    "        dummy.append(i)\n",
    "    for i in dummy:\n",
    "        if flag == True:\n",
    "            flag = False\n",
    "            continue\n",
    "        if i.find(\"light\") != -1:\n",
    "            flag = True\n",
    "            continue\n",
    "        if i.find(\">\") == -1 & i.find(\"-\") == -1 & i.find(\"X\") == -1:\n",
    "            if (len(i) <= 300) & (len(i) >= 120):\n",
    "                if i not in head:\n",
    "                    head.append(i)\n",
    "    np.random.shuffle(head)\n",
    "print(head[:5], len(head))\n",
    "dengue_sequences = head\n",
    "\n",
    "textual_sequences = list(dict.fromkeys(dengue_sequences))"
   ]
  },
  {
   "cell_type": "code",
   "execution_count": 8,
   "id": "2cd3f123",
   "metadata": {},
   "outputs": [
    {
     "name": "stdout",
     "output_type": "stream",
     "text": [
      "EVQLQESGPELARPGASVKLSCKASGYGFTNCLIDWVKQSPGRGLEWMGMVNSNGDTCYHEKFKDKANLAAEKSSSTAYMQFQSEDPAVYFCARRVPYYRDYWGQGTTVTVSS\n",
      "QVQLQQSGAELVRPGTSVKVSCKASGYAFTNYLIEWVMQRPGQGLEWIGVINGSGDTYYNEKFKEKAAPAADKSSSTAYMQLTSEDSAVYFCARGDLTYYDYWGQGTTVTVSS\n",
      "EVQLQQSGAELVRPGASVKVSCKASGYAFTGYLIEWVMQRPGQGLEWIGVINGSGDTYHKEKFKAKTTLTADKSSSTAYMQLTSEDSAVYFCARGDLTYYDYWGQGTTVTVSS\n",
      "QVKLQQSGADLVRPGASVKLSCKASGYAFTSYLIEWVMQRPGQGLEWIGVIISSGDTTYDEKFKGKATMTADKSSSTAYMQLTSEDSAVYFCARRGTTLLDYWGQGTTVTVSS\n",
      "QIQLVQSGPELKKPGETVKISCKASGYTFTDYSMHWVKQAPGKGLKWMGWFNETGEPTYADDFKGRFAFSLETSASTAFLQIKNEDTATYFCARGGDFYSDYWGQGTSVTVSS\n",
      "QIQLVQSGPELKKPGETVKISCKASGYTFTDYSMHWVKQTPGKGLKWLGWINKTGEPTYVDDFKGRFAFYLETSSSTAYLQIKNEDTATYFCARGYDYYSDYWGQGTLVTVSS\n",
      "QVQLKESGPGLVAPSQSLSITCTVSGFSLTSYGVDWVRQSPGKGLEWLGVIWGAGSTNYNSAFRSRLSISKDNSKSQVFLKMQTDDTAMYYCASGTGTGADYWGQGTSVTVSS\n",
      "EVQVQQSGPELVTPGASVKISCKTSGYTFTEYTVHWVKQSHGKSLEWIGGINTSGGTNYNQRFRGKATLTVDRSSSTAYMELTSEDSAVYFCAGTLYGYPDFWGQGTTLTVSS\n",
      "QVTLKESGPGILQSSQTLSLTCSFSGFSLSTSSMGWIRQPSGKGLEWLAHIYWDDDKRYSPSLKSRLTISKDTSRNQVFLKIENVDSATYYCARKDGYVPDYWGQGISVTVSS\n",
      "QVQLQQPGADLVRPGTSVKLSCKASGYTFTIYWMHWVKQRPGQGLEWIGVIDSAGYTNYSQNFKDKATLTVDTSSSTAYMQLTSEDSAVYYCARHGHYFGDVWGTGTTVTVSS\n",
      "QAHLVESGGGVVQPGRSLRLSCAASAFNFSTNAMHWVRQAPGKGLEWVAVISDGSHKYYADSVKGRFTISRDNSKNTLYLQMRAADTAVYYCATVGVLTWHHWGQGSLVSVSS\n",
      "EVQLVESGGGLVQPGRSLRLSCAASGFTFDDYAMFWVRQAPGKGLEWISGISNSATIGYADSVKGRFTISRDNAKKSLDLQMRPDDTALYYCAKGGPRGLDYWGQGTLVTVSS\n",
      "EVQLQQSGPELVKPGTSVKISCKTSGYTFTEYTIHWVKQSHGKSLAWIGGIDNSGGTNYSPNFKGKATLTVDKSSSTAYMDLSSEDSAVYFCARIYHYDGDVWGAGTAVTVSS\n"
     ]
    }
   ],
   "source": [
    "# Read JSAV\n",
    "df = pd.read_csv(\"../Data/Dengue/JSAV_Export.csv\", skiprows=1)\n",
    "df.drop(df.columns[[0, 1, 2, 3, 4, 5]], axis=1, inplace=True)\n",
    "df.drop([\"H35A\", \"H35B\", \"H52A\", \"H82A\", \"H82B\", \"H82C\", \"H100A\", \"H100B\", \"H100C\", \"H100D\", \"H100E\", \"H100F\", \"H100G\", \"H100H\", \"H100I\", \"H100J\"], axis=1, inplace=True)\n",
    "array = df.to_string(header=False, index=False, index_names=False).split('\\n')\n",
    "jsav_sequences = []\n",
    "for i in array:\n",
    "    if i.find(\">\") == -1 & i.find(\"-\") == -1 & i.find(\"X\") == -1:\n",
    "        i = i.replace(\" \", \"\")\n",
    "        print(i)\n",
    "        jsav_sequences.append(i)"
   ]
  },
  {
   "cell_type": "code",
   "execution_count": 9,
   "id": "09249e4d",
   "metadata": {},
   "outputs": [
    {
     "name": "stdout",
     "output_type": "stream",
     "text": [
      ">3I50_3|Chain C[auth H]|murine heavy chain (IgG3) of E53 monoclonal antibody Fab|Mus musculus (10090)\n",
      "\n",
      ">4AL8_2|Chain B[auth H]|FAB 2H12 HEAVY CHAIN|HOMO SAPIENS (9606)\n",
      "\n",
      ">4UIH_2|Chains D, F|ANTIGEN-BINDING FRAGMENT OF HUMAN ANTIBODY 2D22 -HEAVY CHAIN|HOMO SAPIENS (9606)\n",
      "\n",
      ">4FFY_2|Chain B[auth H]|DENV1-E111 single chain variable fragment (heavy chain)|Mus musculus (10090)\n",
      "\n",
      ">6IDI_3|Chains G[auth H], H[auth I], K[auth M]|Fab 1H10 heavy chain (V-region)|Homo sapiens (9606)\n",
      "\n",
      ">3UC0_2|Chains C[auth H], D[auth I]|Heavy chain, monoclonal antibody 5H2|Pan troglodytes (9598)\n",
      "\n",
      ">3UZQ_1|Chain A|anti-dengue Mab 4E11|Mus musculus (10090)\n",
      "\n",
      ">4BZ1_2|Chain B[auth H]|FAB 3E31 HEAVY CHAIN|MUS MUSCULUS (10090)\n",
      "\n",
      ">7K93_2|Chains E, F[auth G], G[auth I], H[auth K]|2B7 single chain fab variable region|Mus musculus (10090)\n",
      "\n",
      ">4UTA_2|Chains C[auth H], D[auth I]|BROADLY NEUTRALIZING HUMAN ANTIBODY EDE1 C8 HEAVY CHAIN|HOMO SAPIENS (9606)\n",
      "\n",
      ">3J8D_2|Chains B[auth A], C[auth D]|antibody E111 Fab fragment|Mus musculus (10090)\n",
      "\n",
      ">4BZ2_2|Chain B[auth H]|FAB 2D73 HEAVY CHAIN|MUS MUSCULUS (10090)\n",
      "\n",
      ">3J42_3|Chains G, I, K|Ig heavy chain V region MOPC 21, Igh protein chimera|Mus musculus (10090)\n",
      "\n",
      ">3UZV_2|Chain B|anti-dengue Mab 4E11|Mus musculus (10090)\n",
      "\n",
      ">4C2I_3|Chains G[auth H], I[auth M]|HEAVY CHAIN FAB FRAGMENT OF ANTIBODY 1F4|HOMO SAPIENS (9606)\n",
      "\n",
      ">6FLC_2|Chains B, D[auth H]|Heavy chain of 2C8 Fab|Mus musculus (10090)\n",
      "\n",
      ">3UYP_1|Chain A|anti-dengue Mab 4E11|Mus musculus (10090)\n",
      "\n",
      ">5AAM_1|Chains A, B|SCFV513|MUS MUSCULUS (10090)\n",
      "\n",
      ">6FLA_1|Chains A, D[auth H]|Heavy chain|Mus musculus (10090)\n",
      "\n",
      ">2R69_2|Chain B[auth H]|Heavy chain of 1A1D-2|Mus musculus (10090)\n",
      "\n",
      ">4L5F_1|Chain A[auth H]|Heavy chain of E106 antibody (VH and CH1 of IgG2c)|Mus musculus (10090)\n",
      "\n",
      ">4CAU_2|Chains D, E|FAB 14C10|HOMO SAPIENS (9606)\n",
      "\n",
      ">4AM0_1|Chains A, C, E, G[auth H]|FAB 2H12, HEAVY CHAIN|HOMO SAPIENS (9606)\n",
      "\n",
      ">6WEQ_2|Chains E, G, I, K|2B7 Fab fragment heavy chain|Mus musculus (10090)\n",
      "\n",
      ">4ALA_2|Chain B[auth H]|FAB 2H12 HEAVY CHAIN|MUS MUSCULUS (10090)\n",
      "\n",
      "['EVKLVESGGGLVLPGGSLRLSCATSGFTFTDYYMTWVRQPPGKALEWLGFIGNKANDYTTEYSASVKGRFTISRDDSQSILYLQMSTLRAEDRATYYCATVYGNYPYFDVWGVGTTVAVSSATTTAPSVYPLVPGCSDTSGSSVTLGCLVKGYFPEPVTVKWNYGALSSGVRTVSSVLQSGFYSLSSLVTVPSSTWPSQTVICNVAHPASKVDLIKEISGP\\n', 'DVQLVEPGAELVQPGASVKMSCKASGYTFSSYWINWEKQRPGKGLEWIGNIYPGSGTVNYDDKFKSKATLTIDTSSNTAYMQLSSLTSEDSAVYYCTRGGSHAMDYWGQGTSVTVSSAKTTPPSVYPLAPGCGDTTGSSVTLGCLVKGYFPESVTVTWNSGSLSSSVHTFPALLQSGLYTMSSSVTVPSSTWPSQTVTCSVAHPASSTTVDKKLEPR\\n', 'EVQLVESGAEVKKPGSSVKVSCKASGGTFNNYAISWVRQAPGQGLEWMGGIIPIFGGANYAQKFQGRVTITADRSTSTVYMELSGLRSEDTAVYYCARRPQSIFDWNFDLWGRGTLVTVSSAGTKGPS\\n', 'QVQLLQPGAELVKPGASMKLSCKASGYTFTNWWMHWVRLRPGRGLEWIGRIDPNSDVNKYNEKFENRASLTVDKHSSTAYMQLSSLTSEDSAIYYCARWFFPWYFDVWGTGTTVTVSSAASGADHHHHHH\\n', 'QVQLVESGGGVVQPGRSLRLSCAASGFTFSNFAMHWVRQAPGKGLEWVSLISYDGSNKYNADSVRGRFSISRDNSKNTLYLQMNSLRLEDTAVYYCVRVRQPWTQAWSTNYFYYYGMDVWGQGTTVTVSSASTKGPS\\n', 'EVQLLESGPGLVKPSETLSLTCTVSGGSISDFYWSWLRQSPGKGLEWIGYAHSRVSAYYNPSLKSRVTISVDTSKNQISLRLSAVTAADTALYYCARQGTGTTGVSEDSFDLWGQGTKVIVSLASTKGPSVFPLAPSSKSTSGGTAALGCLVKDYFPEPVTVSWNSGALTSGVHTFPAVLQSSGLYSLSSVVTVPSSSLGTQTYICNVDHKPSNTKVDKKVEPKSCDTTSHHHHHH\\n', 'EVKLLEQSGAELVKPGASVRLSCTASGFNIKDTYMSWVKQRPEQGLEWIGRIDPANGDTKYDPKFQGKATITADTSSNTAYLHLSSLTSGDTAVYYCSRGWEGFAYWGQGTLVTVSAGGGGSGGGGSGGGGSELVMTQTPASLAVSLGQRATISCRASENVDRYGNSFMHWYQQKAGQPPKLLIYRASNLESGIPARFSGSGSRTDFTLTINPVEADDVATYFCQRSNEVPWTFGGGTKLEIKRPLEHHHHHH\\n', 'QVQLQQPGAEFVKPGASVKMSCKASGYTFTSYWINWVKQRPGQGLEWIGDIYPGRGTTNYNENFKSKATLTLDTSSSTAYMQLSSLTSEDSAVYYCSRGSKGAMDYWGQGTSVTVSSAKTTPPSVYPLAPGTAALKSSMVTLGCLVKGYFPEPVTLTWNSGSLSSGVHTFPAVLQSDLYTLSSSVTVTSSTWPSQTITCNVAHPASSTKVDKKIVPR\\n', 'SNAEVQLQQSGPELVKPGASVKMSCKASGCTLTNCFMHWMKQKPGQDLEWIGYINPYNDMTKYSENFKGKATLTSDKSSSTAFMELSSLTSEDSAVYYCARGYLLRTGCFDYWGQGTTLTVSSGGSGGGSGGGSGGGSGGNIVLTQSPASLAVSLGQRATISCRASESVDSYGYSFMHWYQQKPGQPPKVLIYLASNLESGVPARFSGSGSRTDFTLTIDPVEADDAATYYCQQNNENPLTFGAGTKLELK\\n', 'EVQLVESGGGLVQPGGSLRLSCSASGFTFSTYSMHWVRQAPGKGLEYVSAITGEGDSAFYADSVKGRFTISRDNSKNTLYFEMNSLRPEDTAVYYCVGGYSNFYYYYTMDVWGQGTTVTVSSASTKGPSVFPLAPSSKSTSGGTAALGCLVKDYFPEPVTVSWNSGALTSGVHTFPAVLQSSGLYSLSSVVTVPSSSLGTQTYICNVNHKPSNTKVDKRVEPKSCDKTHTCPPCPLEDDDDKAGWSHPQFEKGGGSGGGSGGGSWSHPQFEK\\n', 'NIVLTQSPASLAVSLGQRATISCRASESVDSFIYWYQQKPGQPPKLLIYLASNLESGVPARFSGSGSETDFTLTIDSVETDDAATYYCQQNNEDPYTFGGGTKLEIKQVQLLQPGAELVKPGASMKLSCKASGYTFTNWWMHWVRLRPGRGLEWIGRIDPNSDVNKYNEKFENRASLTVDKHSSTAYMQLTSEDSAIYYCARWFFPWYFDVWGTGTTVTVSRADAAPTVSIFPPSSEQLTSGGASVVCFLNNFYPKDINVKWKIDGSERQNGVLNSWTDQDSKDSTYSMSSTLTLTKDEYERHNSYTCEATHKTSTSPIVKSFNRSAKTTAPSVYPLAPVCGGTTGSSVTLGCLVKGYFPEPVTLTWNSGSLSSGVHTFPALLQSGLYTLSSSVTVTSNTWPSQTITCNVAHPASSTKVDKKIES\\n', 'EVQLQQSGPELVKPGASVKISCKASGYTFTDYNMHWVKQSHGKSLEWVGYTYPYNGGIGYNQKFKSKATLTLDNSSRTAYMELRSLTSEDSAVYYCVRRGYRYDGAHFDYWGQGTTLTVSSAKTTAPSVYPLAPVCGGTTGSSVTLGCLVKGYFPEPVTLTWNSGSLSAGVHTFPAVLQSDLYTLSSSVTVTSSTWPSQTITCNVAHPASSTKVDKKIEPR\\n', 'DVQLVESGGGLVQPGGSRKLSCAASGFTFSSFGMHWVRQAPEKGLEWVAYISSGSSTLHYADTVKGRFTISRDNPKNTLFLQMTSLRSEDTAMYYCARWGNYPHYAMDYWGQGTSVTVSSAKTTAPSVYPLAPVCGDTTGSSVTLGCLVKGYFPEPVTLTWNSGSLSSGVHTFPAVLQSGLYTLSSSVTVTSSTWPSQTITCNVAHPASSTKVDKKIEPRV\\n', 'EVKLLEQSGAELVKPGASVRLSCTASGFNIKDTYMSWVKQRPEQGLEWIGRIDPANGDTKYDPKFQGKATITADTSSNTAYLHLSSLTSGDTAVYYCSRGWEGFAYWGQGTLVTVSAGGGGSGGGGSGGGGSELVMTQTPASLAVSLGQRATISCRASENVDRYGNSFMHWYQQKAGQPPKLLIYRASNLESGIPARFSGSGSRTDFTLTINPVEADDVATYFCQRSNEVPWTFGGGTKLEIKRPLEHHHHHH\\n', 'GSWAQVQLVESGGGVVQPGRSLRLSCAASGFTFSAYGMHWVRQAPGKGLEWVAIIWYDGSNKYYADSVKGRFTISRDNSKNTLHLQMNSLRAEDTAIYYCARDKNPGTKPYYHYGMDVWGQGTTVTVSSAGTKGPSVFPLAPSSKSTSGGTAALGCLVKDYFPEPVTVSWNSGALTSGVHTFPAVLQSSGLYSLSSVVTVPSSSLGTQTYICNVNHKPSNTKVDKKVEPKSC\\n', 'EVKLVESGGGLVQPGGSLSLSCAASGFTFTDYYMTWVRQPPGKALEWLALIRNKASGYTTEYSASVKGRFTISRDNSQSILYLQMNALRAEDSATYYCTRAKWDGHYFDYWGQGTTLTVSSAKTTAPSVYPLAPVCGDTTGSSVTLGCLVKGYFPEPVTLTWNSGSLSSGVHTFPAVLQSDLYTLSSSVTVTSSTWPSQSITCNVAHPASSTKVDKKIEPRGPTIKPCPPC\\n', 'EVKLLEQSGAELVKPGASVRLSCTASGFNIKDTYMSWVKQRPEQGLEWIGRIDPANGDTKYDPKFQGKATITADTSSNTAYLHLSSLTSGDTAVYYCSRGWEGFAYWGQGTLVTVSAGGGGSGGGGSGGGGSELVMTQTPASLAVSLGQRATISCRASENVDRYGNSFMHWYQQKAGQPPKLLIYRASNLESGIPARFSGSGSRTDFTLTINPVEADDVATYFCQRSNEVPWTFGGGTKLEIKRPLEHHHHHH\\n', 'QVQLVQSGAEVKKPGASVKVSCKAGFNIKDVYMSWVRQAPEQGLEWMGRIDPENGDTKYDPKLQGRVTMTADTSTNTAYMELRSLRSDDTAVYYCARGWEGFAYWGQGTLVTVSSGGGGSGGGGSGGGGSDIVMTQSPASLAVSLGQRATISCRASENVDKYGNSFMHWYQQKPGQPPKLLIYRASELQWGVPDRFSGSGSGTDFTLTISSLQAEDVAVYYCQRSNEVPWTFGQGTKLEIKRTVAHHHHHH\\n', 'QVQLQQSGAEVARPGASVKLSCKASGYTFTSYWLQWVKQRPGQGLEWIGAIWPGDDDTRYAQKFQGKATMTADKSSSTAYIQLSNLASEDSAVYYCARKGGFAMDYWGQGTSVTVSSAKTTPPSVYPLAPGSGAQTNSMVTLGCLVKGYFPEPVTVTWNSGSLSSGVHTFPAVLQSDLYTLSSSVTVPSSTWPSETVTCNVAHPASSTKVDKKIEPRDCGKHHHHHH\\n', 'EVQLQQSGAELVKPGASVKLSCTASGFNIKDTYMHWVKQRPEQGLEWIGRIDPANGYSKYDPKFQGKATITADTSSNAAYLQLSSLTSEDTAVYFCARDYEGFAYWGQGTLVTVSSAKTTPPSVYPLAPGAATSSSVTLGCLVKGYFPEPVTLTWNSGSLSSGVHTFPAVLQSDLYTLSSSVTVTSSTWPSQTITCNVAHPASSTKVDKKIEPR\\n', 'EVQLQQSGPELVKPGASVKISCKASGYSFIGYYIHWVKQSPEKSLEWIGEINPRTGDTTYNQKFKAKATLTVDKSSSTAYMQLTSLTSEDSAVYYCTKRINWALDYWGQGTTLTVSSAKTTAPSVYPLAPVCGGTTGSSVTLGCLVKGYFPEPVTLTWNSGSLSSGVHTFPALLQSGLYTLSSSVTVTSNTWPSQTITCNVAHPASSTKVDKKIESRR\\n', 'EVQLVESGGGVVQPGRSLRLSCAASGFSFSSYGMHWVRQAPGKGLEWVAVIWYDGSKTYYGDSVKGRFTISKDNSKKMVNLQMDSLGVEDTAFYYCARGIAGGWAFWGIDLWGQGTLVTVSSDVVMTQSPGTLSLSPGERATLSCRASQNVYSYLGWYQHKPGRSPRLLIFGVTSRATGVPDRFSGSGSGTDFTLTISRLEPEDFAVYYCQQYAGSAYTFGQGTKVEIKR\\n', 'DVQLVEPGAELVQPGASVKMSCKASGYTFSSYWINWEKQRPGKGLEWIGNIYPGSGTVNYDDKFKSKATLTIDTSSNTAYMQLSSLTSEDSAVYYCTRGGSHAMDYWGQGTSVTVSSAKTTPPSVYPLAPGSADTTGSSVTLGCLVKGYFPESVTVTWNSGSLSSSVHTFPALLQSGLYTMSSSVTVPSSTWPSQTVTCSVAHPASSTTVDKKLEPR\\n', 'MEWSWIFLFLLSGTAGVHSEVQLQQSGPELVKPGASVKMSCKASGCTLTNCFMHWMKQKPGQDLEWIGYINPYNDMTKYSENFKGKATLTSDKSSSTAFMELSSLTSEDSAVYYCARGYLLRTGCFDYWGQGTTLTVSSAKTTPPSVYPLAPGCGDTTGSSVTLGCLVKGYFPESVTVTWNSGSLSSSVHTFPALLQSGLYTMSSSVTVPSSTWPSQTVTCSVAHPASSTTVDKKLEPSGPISTINPCPPCKECHKCPAPNLEGGPSV\\n', 'DVQLVEPGAELVQPGASVKMSCKASGYTFSSYWINWEKQRPGKGLEWIGNIYPGSGTVNYDDKFKSKATLTIDTSSNTAYMQLSSLTSEDSAVYYCTRGGSHAMDYWGQGTSVTVSSAKTTPPSVYPLAPGCGDTTGSSVTLGCLVKGYFPESVTVTWNSGSLSSSVHTFPALLQSGLYTMSSSVTVPSSTWPSQTVTCSVAHPASSTTVDKKLEPR\\n']\n"
     ]
    }
   ],
   "source": [
    "# Read PDB's\n",
    "pdb_sequences = []\n",
    "stem = \"../Data/Dengue/PDB/\"\n",
    "# filelist = os.listdir(\"../Data/Dengue/PDB/\")\n",
    "# filelist.remove(\".DS_Store\")\n",
    "# for i in filelist:\n",
    "#     shutil.copy(stem + i, stem + i.split(\".\")[-2] + \".txt\")\n",
    "\n",
    "filelist = glob.glob(stem + '*.txt')\n",
    "for i in filelist:\n",
    "    with open(i) as myfile:\n",
    "        flag = False\n",
    "        for j in myfile:\n",
    "            if flag == True:\n",
    "                pdb_sequences.append(j)\n",
    "                flag = False\n",
    "                continue\n",
    "            if \" \" not in j.strip():\n",
    "                continue\n",
    "            if j.find(\"Heavy\") != -1 or j.find(\"heavy\") != -1:\n",
    "                print(j)\n",
    "                flag = True\n",
    "                continue\n",
    "            if re.search('Domain', j, re.IGNORECASE) or re.search('POLYPROTEIN', j, re.IGNORECASE) or re.search('PrM', j, re.IGNORECASE) or re.search('premembrane', j, re.IGNORECASE) or re.search('non-structural', j, re.IGNORECASE) or re.search('ectodomain', j, re.IGNORECASE) or re.search('glycoprotein', j, re.IGNORECASE) or re.search('envelope protein', j, re.IGNORECASE) or re.search('kappa', j, re.IGNORECASE) or re.search('lambda', j, re.IGNORECASE) or re.search('light', j, re.IGNORECASE):\n",
    "                continue\n",
    "            else:\n",
    "                print(j)\n",
    "                flag = True\n",
    "print(pdb_sequences)"
   ]
  },
  {
   "cell_type": "code",
   "execution_count": 10,
   "id": "94c23ae4",
   "metadata": {},
   "outputs": [
    {
     "name": "stdout",
     "output_type": "stream",
     "text": [
      "108\n",
      "95\n",
      "94\n",
      "94\n"
     ]
    }
   ],
   "source": [
    "# need mass filtering, making sure between 100 and 138\n",
    "\n",
    "dengue_sequences = np.concatenate((textual_sequences, jsav_sequences, pdb_sequences))\n",
    "\n",
    "dengue_sequences = list(dict.fromkeys(dengue_sequences))\n",
    "print(len(dengue_sequences))\n",
    "dengue_sequences = [i for i in dengue_sequences if len(i) >= 120]\n",
    "print(len(dengue_sequences))\n",
    "dengue_sequences = [i for i in dengue_sequences if len(i) <= 300]\n",
    "print(len(dengue_sequences))\n",
    "dengue_sequences = [i for i in dengue_sequences if i.find(\"X\") == -1 if i.find(\"-\") == -1]\n",
    "print(len(dengue_sequences))\n",
    "np.random.shuffle(dengue_sequences)"
   ]
  },
  {
   "cell_type": "code",
   "execution_count": 11,
   "id": "fef066e1",
   "metadata": {},
   "outputs": [],
   "source": [
    "# shutil.copy(\"../Data/dengue/heavy_seqs_aa.fasta\", \"../Data/dengue/heavy_seqs_aa.txt\")\n",
    "# OR\n",
    "# Run the following too when new download\n",
    "# awk '/^>/ {printf(\"\\n%s\\n\",$0);next; } { printf(\"%s\",$0);}  END {printf(\"\\n\");}' < file.fa > out.txt\n",
    "# Then, delete the first empty line"
   ]
  },
  {
   "cell_type": "code",
   "execution_count": 12,
   "id": "ca827dc2-3d2e-4bbd-80ae-08b1ea26e6a4",
   "metadata": {},
   "outputs": [
    {
     "name": "stderr",
     "output_type": "stream",
     "text": [
      "/Users/joseph/miniforge3/envs/test_env/lib/python3.10/site-packages/Bio/Seq.py:3482: BiopythonWarning: Partial codon, len(sequence) not a multiple of three. Explicitly trim the sequence or add trailing N before translation. This may become an error in future.\n",
      "  warnings.warn(\n"
     ]
    },
    {
     "name": "stdout",
     "output_type": "stream",
     "text": [
      "['EVQLVESGGGLVKPGGSLRLSCAASGFTFSDYSMNWVRQAPGKGLEWVSSISTGSSSYIYYADSVKGRFTISRDNAKNSLYLQMNSLRAEDTAVYYCAREERNNWNDFGEHYFDYWGQGTLVTVSS', 'EAQLVQSGAEVKKPGESLKISCKASGYFFSSYWIGWVRQMPGKGLEWMGIIYPGDSDTRYSPSFQGQVTISADKSINTAYLQWSSLEASDTAMYYCARRGGANNYGYDYWGQGSLVTVSS', 'QVQLVQSGAEVKKPGASVKVSCKASGYTFTGYYMHWVRQAPGQGLEWMGWINPNSGGTNYAQKFQGRVTMTRDTSISTAYMELSRLRSDDTAVYYCARLPGGYIAAQPNDAFDIWGQGTMVTVSS', 'QVQLVQSGAEVKKPGASVRVSCKASGYTFSGHYMHWVRQAPGQGLEWMGRINPHSGDTHYAQKFQGRVTMTRDTSIDTAYLELSRLRSDDTAVYYCARTWIQLWTPDFDFWGQGTSVTVSS', 'EVQLLESGGGLVQPGGSLRLSCAASGFTFSSYAMSWVRQAPGKGLEWVSAISGSGGSTYYADSVKGRFTISRDNSKNTLYLQMNSLRAEDTAVYYCAKALQSVVTHEYYFDYWGQGTLVTVSS'] 3000\n"
     ]
    }
   ],
   "source": [
    "dummy = []\n",
    "head = []\n",
    "\n",
    "with open(\"../Data/cAb-rep/cAb-Rep_heavy.nt.txt\") as myfile:\n",
    "    # count = 0\n",
    "    for i in myfile:\n",
    "        # if count <= 1:\n",
    "        #     print(i)\n",
    "        #     if i.find(\">\") == -1 & i.find(\"-\") == -1:\n",
    "        #         print(Seq.translate(i.strip()))\n",
    "        #     count+=1\n",
    "        dummy.append(i)\n",
    "    np.random.shuffle(dummy)\n",
    "    \n",
    "    for i in dummy:\n",
    "        if i.find(\">\") == -1 & i.find(\"-\") == -1 & i.find(\"N\") == -1 & i.find(\"E\") == -1: # These conditions must be met for a valid sequence, the longest was 141. However, there is no 141 sequence for dengue, the greatest is 138, so we go with that\n",
    "            aa_sequence = Seq.translate(i.strip())\n",
    "            if (len(aa_sequence) <= 300) & (len(aa_sequence) >= 120):\n",
    "                head.append(aa_sequence)\n",
    "                if len(head) >= 3000:\n",
    "                    break\n",
    "print(head[:5], len(head))\n",
    "healthy_sequences = head"
   ]
  },
  {
   "cell_type": "code",
   "execution_count": 13,
   "id": "67483afe-f027-4dd9-9d03-e62e4145b446",
   "metadata": {
    "tags": []
   },
   "outputs": [
    {
     "name": "stdout",
     "output_type": "stream",
     "text": [
      "139\n",
      "284\n",
      "3000\n",
      "94\n"
     ]
    }
   ],
   "source": [
    "# print(healthy_sequences)\n",
    "print(len(max(healthy_sequences, key=len)))\n",
    "print(len(max(dengue_sequences, key=len)))\n",
    "print(len(healthy_sequences))\n",
    "print(len(dengue_sequences))\n",
    "# print(dengue_sequences)"
   ]
  },
  {
   "cell_type": "code",
   "execution_count": 14,
   "id": "ee3c0779",
   "metadata": {},
   "outputs": [
    {
     "data": {
      "text/plain": [
       "0"
      ]
     },
     "execution_count": 14,
     "metadata": {},
     "output_type": "execute_result"
    }
   ],
   "source": [
    "del head\n",
    "del myfile\n",
    "del dummy\n",
    "gc.collect()"
   ]
  },
  {
   "cell_type": "code",
   "execution_count": 15,
   "id": "842f6433-f573-4d33-9280-86f26c1ac116",
   "metadata": {},
   "outputs": [],
   "source": [
    "# order from https://www.ncbi.nlm.nih.gov/Class/MLACourse/Modules/MolBioReview/iupac_aa_abbreviations.html"
   ]
  },
  {
   "cell_type": "markdown",
   "id": "7de76540",
   "metadata": {},
   "source": [
    "# Preprocessing"
   ]
  },
  {
   "cell_type": "code",
   "execution_count": 16,
   "id": "31e15776",
   "metadata": {},
   "outputs": [],
   "source": [
    "if os.path.exists('dengue_binary_embeddings') == False:\n",
    "    os.mkdir('dengue_binary_embeddings')"
   ]
  },
  {
   "cell_type": "code",
   "execution_count": 17,
   "id": "a02f41ad",
   "metadata": {},
   "outputs": [
    {
     "name": "stdout",
     "output_type": "stream",
     "text": [
      "(94, 285)\n"
     ]
    }
   ],
   "source": [
    "number_param_dengue = math.ceil(len(dengue_sequences)/3000)\n",
    "\n",
    "for i in range(number_param_dengue):\n",
    "    dengue_sequences_new = [(\" \".join(s)) for s in dengue_sequences][round(len(dengue_sequences) * (1/number_param_dengue) * i):round(len(dengue_sequences) * (1/number_param_dengue) * (i+1))]\n",
    "    dengue_average_embeddings = get_embeddings(dengue_sequences_new)\n",
    "\n",
    "    with open(\"dengue_binary_embeddings/dengue_\" + str(i) + \".pkl\", \"wb\") as f:\n",
    "        pickle.dump(dengue_average_embeddings, f)\n",
    "\n",
    "    del dengue_sequences_new\n",
    "    del dengue_average_embeddings\n",
    "    gc.collect()"
   ]
  },
  {
   "cell_type": "code",
   "execution_count": 18,
   "id": "bb01187f",
   "metadata": {},
   "outputs": [
    {
     "name": "stdout",
     "output_type": "stream",
     "text": [
      "(3000, 141)\n"
     ]
    }
   ],
   "source": [
    "number_param_healthy = math.ceil(len(healthy_sequences)/3000)\n",
    "\n",
    "for i in range(number_param_healthy):\n",
    "    healthy_sequences_new = [(\" \".join(s)) for s in healthy_sequences][round(len(healthy_sequences) * (1/number_param_healthy) * i):round(len(healthy_sequences) * (1/number_param_healthy) * (i+1))]\n",
    "    healthy_average_embeddings = get_embeddings(healthy_sequences_new)\n",
    "\n",
    "    with open(\"dengue_binary_embeddings/healthy_\" + str(i) + \".pkl\", \"wb\") as f:\n",
    "        pickle.dump(healthy_average_embeddings, f)\n",
    "    f.close()\n",
    "\n",
    "    del healthy_sequences_new\n",
    "    del healthy_average_embeddings\n",
    "    gc.collect()"
   ]
  },
  {
   "cell_type": "markdown",
   "id": "6b8678af",
   "metadata": {},
   "source": [
    "# Loading"
   ]
  },
  {
   "cell_type": "code",
   "execution_count": null,
   "id": "729403d9",
   "metadata": {},
   "outputs": [
    {
     "ename": "",
     "evalue": "",
     "output_type": "error",
     "traceback": [
      "\u001b[1;31mFailed to start the Kernel. \n",
      "\u001b[1;31mThe Jupyter notebook server failed to launch in time. \n",
      "\u001b[1;31mView Jupyter <a href='command:jupyter.viewOutput'>log</a> for further details."
     ]
    }
   ],
   "source": [
    "dengue_average_embeddings = [[None] * 1024]"
   ]
  },
  {
   "cell_type": "code",
   "execution_count": null,
   "id": "6e8fde19",
   "metadata": {},
   "outputs": [
    {
     "ename": "",
     "evalue": "",
     "output_type": "error",
     "traceback": [
      "\u001b[1;31mFailed to start the Kernel. \n",
      "\u001b[1;31mThe Jupyter notebook server failed to launch in time. \n",
      "\u001b[1;31mView Jupyter <a href='command:jupyter.viewOutput'>log</a> for further details."
     ]
    }
   ],
   "source": [
    "number_param_dengue = 1\n",
    "for i in range(number_param_dengue):\n",
    "    with open(\"dengue_binary_embeddings/dengue_\" + str(i) + \".pkl\", \"rb\") as f:\n",
    "        dengue_temp = pickle.load(f)\n",
    "        dengue_average_embeddings = np.concatenate((dengue_average_embeddings, dengue_temp))\n",
    "    f.close()\n",
    "\n",
    "dengue_average_embeddings = np.delete(dengue_average_embeddings, 0, 0)"
   ]
  },
  {
   "cell_type": "code",
   "execution_count": null,
   "id": "729403d9",
   "metadata": {},
   "outputs": [
    {
     "ename": "",
     "evalue": "",
     "output_type": "error",
     "traceback": [
      "\u001b[1;31mFailed to start the Kernel. \n",
      "\u001b[1;31mThe Jupyter notebook server failed to launch in time. \n",
      "\u001b[1;31mView Jupyter <a href='command:jupyter.viewOutput'>log</a> for further details."
     ]
    }
   ],
   "source": [
    "healthy_average_embeddings = [[None] * 1024]"
   ]
  },
  {
   "cell_type": "code",
   "execution_count": null,
   "id": "228bba2a",
   "metadata": {},
   "outputs": [
    {
     "ename": "",
     "evalue": "",
     "output_type": "error",
     "traceback": [
      "\u001b[1;31mFailed to start the Kernel. \n",
      "\u001b[1;31mThe Jupyter notebook server failed to launch in time. \n",
      "\u001b[1;31mView Jupyter <a href='command:jupyter.viewOutput'>log</a> for further details."
     ]
    }
   ],
   "source": [
    "number_param_healthy = 1\n",
    "for i in range(number_param_healthy):\n",
    "    with open(\"dengue_binary_embeddings/healthy_\" + str(i) + \".pkl\", \"rb\") as f:\n",
    "        healthy_temp = pickle.load(f)\n",
    "        healthy_average_embeddings = np.concatenate((healthy_average_embeddings, healthy_temp))\n",
    "    f.close()\n",
    "\n",
    "healthy_average_embeddings = np.delete(healthy_average_embeddings, 0, 0)"
   ]
  },
  {
   "cell_type": "code",
   "execution_count": null,
   "id": "3a98eb59",
   "metadata": {},
   "outputs": [
    {
     "ename": "",
     "evalue": "",
     "output_type": "error",
     "traceback": [
      "\u001b[1;31mFailed to start the Kernel. \n",
      "\u001b[1;31mThe Jupyter notebook server failed to launch in time. \n",
      "\u001b[1;31mView Jupyter <a href='command:jupyter.viewOutput'>log</a> for further details."
     ]
    }
   ],
   "source": [
    "print(healthy_average_embeddings.shape)"
   ]
  },
  {
   "cell_type": "code",
   "execution_count": null,
   "id": "b745d707-e2ff-4562-9e2d-a602b198b1c1",
   "metadata": {
    "tags": []
   },
   "outputs": [
    {
     "ename": "",
     "evalue": "",
     "output_type": "error",
     "traceback": [
      "\u001b[1;31mFailed to start the Kernel. \n",
      "\u001b[1;31mThe Jupyter notebook server failed to launch in time. \n",
      "\u001b[1;31mView Jupyter <a href='command:jupyter.viewOutput'>log</a> for further details."
     ]
    }
   ],
   "source": [
    "healthy_lables = [0] * 94 # 350\n",
    "dengue_lables = [1] * 94"
   ]
  },
  {
   "attachments": {},
   "cell_type": "markdown",
   "id": "d6a973fd",
   "metadata": {},
   "source": [
    "# Visualization"
   ]
  },
  {
   "cell_type": "code",
   "execution_count": 8,
   "id": "a1d874fe",
   "metadata": {},
   "outputs": [],
   "source": [
    "from sklearn.manifold import TSNE\n",
    "embeds = np.concatenate((dengue_average_embeddings, healthy_average_embeddings[:1000]))"
   ]
  },
  {
   "cell_type": "code",
   "execution_count": 9,
   "id": "3b5622c5-47a1-41e0-8193-55a80fe2e712",
   "metadata": {},
   "outputs": [
    {
     "name": "stderr",
     "output_type": "stream",
     "text": [
      "/Users/joseph/miniforge3/envs/test_env/lib/python3.10/site-packages/sklearn/manifold/_t_sne.py:996: FutureWarning: The PCA initialization in TSNE will change to have the standard deviation of PC1 equal to 1e-4 in 1.2. This will ensure better convergence.\n",
      "  warnings.warn(\n"
     ]
    }
   ],
   "source": [
    "%%time\n",
    "\n",
    "tsne = TSNE(n_components=2, init='pca', learning_rate='auto', perplexity=10)\n",
    "X_embedded = tsne.fit_transform(embeds)"
   ]
  },
  {
   "cell_type": "code",
   "execution_count": null,
   "id": "8122ec69",
   "metadata": {},
   "outputs": [
    {
     "ename": "NameError",
     "evalue": "name 'dengue_sequences' is not defined",
     "output_type": "error",
     "traceback": [
      "\u001b[0;31m---------------------------------------------------------------------------\u001b[0m",
      "\u001b[0;31mNameError\u001b[0m                                 Traceback (most recent call last)",
      "Cell \u001b[0;32mIn [10], line 1\u001b[0m\n\u001b[0;32m----> 1\u001b[0m all_sequences \u001b[39m=\u001b[39m np\u001b[39m.\u001b[39mconcatenate((dengue_sequences, healthy_sequences[:\u001b[39m1000\u001b[39m]))\n\u001b[1;32m      2\u001b[0m disease_labels \u001b[39m=\u001b[39m [\u001b[39m'\u001b[39m\u001b[39mDENGUE\u001b[39m\u001b[39m'\u001b[39m] \u001b[39m*\u001b[39m \u001b[39m94\u001b[39m \u001b[39m+\u001b[39m [\u001b[39m'\u001b[39m\u001b[39mHealthy\u001b[39m\u001b[39m'\u001b[39m] \u001b[39m*\u001b[39m \u001b[39m1000\u001b[39m\n",
      "\u001b[0;31mNameError\u001b[0m: name 'dengue_sequences' is not defined"
     ]
    }
   ],
   "source": [
    "all_sequences = np.concatenate((dengue_sequences, healthy_sequences[:1000]))\n",
    "disease_labels = ['DENGUE'] * 94 + ['Healthy'] * 1000"
   ]
  },
  {
   "cell_type": "code",
   "execution_count": null,
   "id": "5441bd4d",
   "metadata": {},
   "outputs": [
    {
     "data": {
      "text/html": [
       "<div>\n",
       "<style scoped>\n",
       "    .dataframe tbody tr th:only-of-type {\n",
       "        vertical-align: middle;\n",
       "    }\n",
       "\n",
       "    .dataframe tbody tr th {\n",
       "        vertical-align: top;\n",
       "    }\n",
       "\n",
       "    .dataframe thead th {\n",
       "        text-align: right;\n",
       "    }\n",
       "</style>\n",
       "<table border=\"1\" class=\"dataframe\">\n",
       "  <thead>\n",
       "    <tr style=\"text-align: right;\">\n",
       "      <th></th>\n",
       "      <th>t-SNE 1</th>\n",
       "      <th>t-SNE 2</th>\n",
       "      <th>Sequence</th>\n",
       "      <th>Disease Label</th>\n",
       "    </tr>\n",
       "  </thead>\n",
       "  <tbody>\n",
       "    <tr>\n",
       "      <th>0</th>\n",
       "      <td>-34.909103</td>\n",
       "      <td>8.684224</td>\n",
       "      <td>MHKEEHEVAVLGPPPSTILPRSTVINIHSETSVPDHVVWSLFNTLF...</td>\n",
       "      <td>DENGUE</td>\n",
       "    </tr>\n",
       "    <tr>\n",
       "      <th>1</th>\n",
       "      <td>35.282345</td>\n",
       "      <td>26.414106</td>\n",
       "      <td>QVQLVESGGGVVQPGRSLRLSCAASGFIFSNYGMHWVRQAPGKGLE...</td>\n",
       "      <td>DENGUE</td>\n",
       "    </tr>\n",
       "    <tr>\n",
       "      <th>2</th>\n",
       "      <td>35.128330</td>\n",
       "      <td>27.177040</td>\n",
       "      <td>EVQLVQSGGGLVKPGGSLRLSCAASGFTFAPFSLTWVRQAPGKGLE...</td>\n",
       "      <td>DENGUE</td>\n",
       "    </tr>\n",
       "    <tr>\n",
       "      <th>3</th>\n",
       "      <td>31.495695</td>\n",
       "      <td>27.525154</td>\n",
       "      <td>QVQLLQPGAELVKPGASMKLSCKASGYTFTNWWMHWVRLRPGRGLE...</td>\n",
       "      <td>DENGUE</td>\n",
       "    </tr>\n",
       "    <tr>\n",
       "      <th>4</th>\n",
       "      <td>-34.858967</td>\n",
       "      <td>8.714244</td>\n",
       "      <td>MNHIVQTFSPVNSGQPPNYEMLKEEQEVAMLGVPHNPAPPMSTVIH...</td>\n",
       "      <td>DENGUE</td>\n",
       "    </tr>\n",
       "    <tr>\n",
       "      <th>...</th>\n",
       "      <td>...</td>\n",
       "      <td>...</td>\n",
       "      <td>...</td>\n",
       "      <td>...</td>\n",
       "    </tr>\n",
       "    <tr>\n",
       "      <th>1089</th>\n",
       "      <td>-24.518461</td>\n",
       "      <td>-24.981241</td>\n",
       "      <td>EVQLVESGAEVKKPGESLKISCKGSGYTFSAYWIGWVRQMPGKGLE...</td>\n",
       "      <td>Healthy</td>\n",
       "    </tr>\n",
       "    <tr>\n",
       "      <th>1090</th>\n",
       "      <td>27.677677</td>\n",
       "      <td>-20.803076</td>\n",
       "      <td>AVQLVESGGGLVQPGRSLRLSCAASGFTFDDYAMHWVRQAPGKGLE...</td>\n",
       "      <td>Healthy</td>\n",
       "    </tr>\n",
       "    <tr>\n",
       "      <th>1091</th>\n",
       "      <td>6.684856</td>\n",
       "      <td>12.834910</td>\n",
       "      <td>EVQLVQSGAEVEKPGASVSISCKASGYTFTSYYIHWVRQAPGQGLE...</td>\n",
       "      <td>Healthy</td>\n",
       "    </tr>\n",
       "    <tr>\n",
       "      <th>1092</th>\n",
       "      <td>36.997715</td>\n",
       "      <td>-10.930943</td>\n",
       "      <td>QITLKESGPTLVKPTQTLTLTCTFSGFSLTTRGVGVGWLRQPPGKA...</td>\n",
       "      <td>Healthy</td>\n",
       "    </tr>\n",
       "    <tr>\n",
       "      <th>1093</th>\n",
       "      <td>-9.136138</td>\n",
       "      <td>47.433102</td>\n",
       "      <td>QVQLVQSGAEVKKPGASVKVSCKVSGYTLTELSMHWVRQAPGKGLE...</td>\n",
       "      <td>Healthy</td>\n",
       "    </tr>\n",
       "  </tbody>\n",
       "</table>\n",
       "<p>1094 rows × 4 columns</p>\n",
       "</div>"
      ],
      "text/plain": [
       "        t-SNE 1    t-SNE 2                                           Sequence  \\\n",
       "0    -34.909103   8.684224  MHKEEHEVAVLGPPPSTILPRSTVINIHSETSVPDHVVWSLFNTLF...   \n",
       "1     35.282345  26.414106  QVQLVESGGGVVQPGRSLRLSCAASGFIFSNYGMHWVRQAPGKGLE...   \n",
       "2     35.128330  27.177040  EVQLVQSGGGLVKPGGSLRLSCAASGFTFAPFSLTWVRQAPGKGLE...   \n",
       "3     31.495695  27.525154  QVQLLQPGAELVKPGASMKLSCKASGYTFTNWWMHWVRLRPGRGLE...   \n",
       "4    -34.858967   8.714244  MNHIVQTFSPVNSGQPPNYEMLKEEQEVAMLGVPHNPAPPMSTVIH...   \n",
       "...         ...        ...                                                ...   \n",
       "1089 -24.518461 -24.981241  EVQLVESGAEVKKPGESLKISCKGSGYTFSAYWIGWVRQMPGKGLE...   \n",
       "1090  27.677677 -20.803076  AVQLVESGGGLVQPGRSLRLSCAASGFTFDDYAMHWVRQAPGKGLE...   \n",
       "1091   6.684856  12.834910  EVQLVQSGAEVEKPGASVSISCKASGYTFTSYYIHWVRQAPGQGLE...   \n",
       "1092  36.997715 -10.930943  QITLKESGPTLVKPTQTLTLTCTFSGFSLTTRGVGVGWLRQPPGKA...   \n",
       "1093  -9.136138  47.433102  QVQLVQSGAEVKKPGASVKVSCKVSGYTLTELSMHWVRQAPGKGLE...   \n",
       "\n",
       "     Disease Label  \n",
       "0           DENGUE  \n",
       "1           DENGUE  \n",
       "2           DENGUE  \n",
       "3           DENGUE  \n",
       "4           DENGUE  \n",
       "...            ...  \n",
       "1089       Healthy  \n",
       "1090       Healthy  \n",
       "1091       Healthy  \n",
       "1092       Healthy  \n",
       "1093       Healthy  \n",
       "\n",
       "[1094 rows x 4 columns]"
      ]
     },
     "execution_count": 25,
     "metadata": {},
     "output_type": "execute_result"
    }
   ],
   "source": [
    "df = pd.DataFrame()\n",
    "df.insert(0, 't-SNE 1', X_embedded[:,0])\n",
    "df.insert(1, 't-SNE 2', X_embedded[:,1])\n",
    "df.insert(2, 'Sequence', all_sequences)\n",
    "df.insert(3, 'Disease Label', disease_labels)\n",
    "df"
   ]
  },
  {
   "cell_type": "code",
   "execution_count": 26,
   "id": "7aab42d5-29f2-409c-a534-24e453635936",
   "metadata": {},
   "outputs": [
    {
     "data": {
      "image/png": "[encoded data removed]",
      "text/plain": [
       "<Figure size 1200x1200 with 1 Axes>"
      ]
     },
     "metadata": {},
     "output_type": "display_data"
    }
   ],
   "source": [
    "plt.figure(figsize=(12,12))\n",
    "sns.scatterplot(\n",
    "    x=\"t-SNE 1\", y=\"t-SNE 2\",\n",
    "    hue=\"Disease Label\",\n",
    "    data=df,\n",
    "    legend=\"full\"\n",
    ")\n",
    "plt.show()"
   ]
  },
  {
   "cell_type": "markdown",
   "id": "db14a7af",
   "metadata": {},
   "source": [
    "# Model 3: Averaging Embeddings"
   ]
  },
  {
   "cell_type": "code",
   "execution_count": null,
   "id": "5e4d82be-b95e-4fa8-b69b-8595404f4f86",
   "metadata": {},
   "outputs": [
    {
     "ename": "",
     "evalue": "",
     "output_type": "error",
     "traceback": [
      "\u001b[1;31mFailed to start the Kernel. \n",
      "\u001b[1;31mThe Jupyter notebook server failed to launch in time. \n",
      "\u001b[1;31mView Jupyter <a href='command:jupyter.viewOutput'>log</a> for further details."
     ]
    }
   ],
   "source": [
    "X = np.concatenate((healthy_average_embeddings[:94], dengue_average_embeddings))\n",
    "y = np.concatenate((healthy_lables, dengue_lables))"
   ]
  },
  {
   "cell_type": "code",
   "execution_count": null,
   "id": "568d6d9a",
   "metadata": {},
   "outputs": [
    {
     "ename": "",
     "evalue": "",
     "output_type": "error",
     "traceback": [
      "\u001b[1;31mFailed to start the Kernel. \n",
      "\u001b[1;31mThe Jupyter notebook server failed to launch in time. \n",
      "\u001b[1;31mView Jupyter <a href='command:jupyter.viewOutput'>log</a> for further details."
     ]
    }
   ],
   "source": [
    "del dengue_average_embeddings\n",
    "gc.collect()"
   ]
  },
  {
   "cell_type": "code",
   "execution_count": null,
   "id": "7452eec8-9c73-452a-b112-92a653d1fcbf",
   "metadata": {},
   "outputs": [
    {
     "ename": "",
     "evalue": "",
     "output_type": "error",
     "traceback": [
      "\u001b[1;31mFailed to start the Kernel. \n",
      "\u001b[1;31mThe Jupyter notebook server failed to launch in time. \n",
      "\u001b[1;31mView Jupyter <a href='command:jupyter.viewOutput'>log</a> for further details."
     ]
    }
   ],
   "source": [
    "X_train, X_test, y_train, y_test = train_test_split(X, y, test_size=0.2, random_state=42)"
   ]
  },
  {
   "cell_type": "code",
   "execution_count": null,
   "id": "693c497f",
   "metadata": {},
   "outputs": [
    {
     "ename": "",
     "evalue": "",
     "output_type": "error",
     "traceback": [
      "\u001b[1;31mFailed to start the Kernel. \n",
      "\u001b[1;31mThe Jupyter notebook server failed to launch in time. \n",
      "\u001b[1;31mView Jupyter <a href='command:jupyter.viewOutput'>log</a> for further details."
     ]
    }
   ],
   "source": [
    "print(len(X_train))\n",
    "print(len(X_test))"
   ]
  },
  {
   "cell_type": "code",
   "execution_count": null,
   "id": "cccec52e",
   "metadata": {},
   "outputs": [
    {
     "ename": "",
     "evalue": "",
     "output_type": "error",
     "traceback": [
      "\u001b[1;31mFailed to start the Kernel. \n",
      "\u001b[1;31mThe Jupyter notebook server failed to launch in time. \n",
      "\u001b[1;31mView Jupyter <a href='command:jupyter.viewOutput'>log</a> for further details."
     ]
    }
   ],
   "source": [
    "print(len([i for i in y_test if i == 0]))\n",
    "print(len([i for i in y_test if i == 1]))"
   ]
  },
  {
   "cell_type": "code",
   "execution_count": null,
   "id": "308832ba",
   "metadata": {},
   "outputs": [
    {
     "ename": "",
     "evalue": "",
     "output_type": "error",
     "traceback": [
      "\u001b[1;31mFailed to start the Kernel. \n",
      "\u001b[1;31mThe Jupyter notebook server failed to launch in time. \n",
      "\u001b[1;31mView Jupyter <a href='command:jupyter.viewOutput'>log</a> for further details."
     ]
    }
   ],
   "source": [
    "# val_set = zip(X_val, y_val)\n",
    "# new_y_val = []\n",
    "# new_X_val = []\n",
    "# count = 0\n",
    "# for i in val_set:\n",
    "#     if i[1] == 1:\n",
    "#         new_X_val.append(i[0])\n",
    "#         new_y_val.append(i[1])\n",
    "#     if i[1] == 0 and count < 11:\n",
    "#         new_X_val.append(i[0])\n",
    "#         new_y_val.append(i[1])\n",
    "#         count+=1\n",
    "\n",
    "# c = list(zip(new_X_val, new_y_val))\n",
    "\n",
    "# random.shuffle(c)\n",
    "\n",
    "# X_val, y_val = zip(*c)\n",
    "# y_val = np.array(y_val)\n",
    "# print(y_val)"
   ]
  },
  {
   "cell_type": "code",
   "execution_count": null,
   "id": "308832ba",
   "metadata": {},
   "outputs": [
    {
     "ename": "",
     "evalue": "",
     "output_type": "error",
     "traceback": [
      "\u001b[1;31mFailed to start the Kernel. \n",
      "\u001b[1;31mThe Jupyter notebook server failed to launch in time. \n",
      "\u001b[1;31mView Jupyter <a href='command:jupyter.viewOutput'>log</a> for further details."
     ]
    }
   ],
   "source": [
    "# test_set = zip(X_test, y_test)\n",
    "# new_y_test = []\n",
    "# new_X_test = []\n",
    "# count = 0\n",
    "# for i in test_set:\n",
    "#     if i[1] == 1:\n",
    "#         new_X_test.append(i[0])\n",
    "#         new_y_test.append(i[1])\n",
    "#     if i[1] == 0 and count < 15:\n",
    "#         new_X_test.append(i[0])\n",
    "#         new_y_test.append(i[1])\n",
    "#         count+=1\n",
    "\n",
    "# c = list(zip(new_X_test, new_y_test))\n",
    "\n",
    "# random.shuffle(c)\n",
    "\n",
    "# X_test, y_test = zip(*c)\n",
    "# y_test = np.array(y_test)\n",
    "# print(y_test)"
   ]
  },
  {
   "cell_type": "code",
   "execution_count": null,
   "id": "47807149",
   "metadata": {},
   "outputs": [
    {
     "ename": "",
     "evalue": "",
     "output_type": "error",
     "traceback": [
      "\u001b[1;31mFailed to start the Kernel. \n",
      "\u001b[1;31mThe Jupyter notebook server failed to launch in time. \n",
      "\u001b[1;31mView Jupyter <a href='command:jupyter.viewOutput'>log</a> for further details."
     ]
    }
   ],
   "source": [
    "# Don't run this stuff! Ignore SMOTE!"
   ]
  },
  {
   "cell_type": "code",
   "execution_count": null,
   "id": "e4d7a8f0",
   "metadata": {},
   "outputs": [
    {
     "ename": "",
     "evalue": "",
     "output_type": "error",
     "traceback": [
      "\u001b[1;31mFailed to start the Kernel. \n",
      "\u001b[1;31mThe Jupyter notebook server failed to launch in time. \n",
      "\u001b[1;31mView Jupyter <a href='command:jupyter.viewOutput'>log</a> for further details."
     ]
    }
   ],
   "source": [
    "X_train = np.concatenate((X_train, healthy_average_embeddings[94:1000]))\n",
    "y_train = np.concatenate((y_train, [0] * len(healthy_average_embeddings[94:1000])))"
   ]
  },
  {
   "cell_type": "code",
   "execution_count": null,
   "id": "d7a145b8",
   "metadata": {},
   "outputs": [
    {
     "ename": "",
     "evalue": "",
     "output_type": "error",
     "traceback": [
      "\u001b[1;31mFailed to start the Kernel. \n",
      "\u001b[1;31mThe Jupyter notebook server failed to launch in time. \n",
      "\u001b[1;31mView Jupyter <a href='command:jupyter.viewOutput'>log</a> for further details."
     ]
    }
   ],
   "source": [
    "for i in y_train:\n",
    "    print(i)"
   ]
  },
  {
   "cell_type": "code",
   "execution_count": null,
   "id": "22372ea6",
   "metadata": {},
   "outputs": [
    {
     "ename": "",
     "evalue": "",
     "output_type": "error",
     "traceback": [
      "\u001b[1;31mFailed to start the Kernel. \n",
      "\u001b[1;31mThe Jupyter notebook server failed to launch in time. \n",
      "\u001b[1;31mView Jupyter <a href='command:jupyter.viewOutput'>log</a> for further details."
     ]
    }
   ],
   "source": [
    "del X\n",
    "del healthy_average_embeddings\n",
    "del y\n",
    "gc.collect()"
   ]
  },
  {
   "attachments": {},
   "cell_type": "markdown",
   "id": "9599bc6e",
   "metadata": {},
   "source": [
    "### Using SMOTE"
   ]
  },
  {
   "cell_type": "code",
   "execution_count": null,
   "id": "276f8a17",
   "metadata": {},
   "outputs": [
    {
     "ename": "",
     "evalue": "",
     "output_type": "error",
     "traceback": [
      "\u001b[1;31mFailed to start the Kernel. \n",
      "\u001b[1;31mThe Jupyter notebook server failed to launch in time. \n",
      "\u001b[1;31mView Jupyter <a href='command:jupyter.viewOutput'>log</a> for further details."
     ]
    }
   ],
   "source": [
    "# print(len([i for i in y_train if i == 0]))\n",
    "# sm = SMOTE(random_state=42, sampling_strategy=1.0)\n",
    "# X_train, y_train = sm.fit_resample(X_train, y_train)\n",
    "# print(X_train.shape)"
   ]
  },
  {
   "attachments": {},
   "cell_type": "markdown",
   "id": "2e2054a1",
   "metadata": {},
   "source": [
    "### Using Borderline SMOTE"
   ]
  },
  {
   "cell_type": "code",
   "execution_count": null,
   "id": "276f8a17",
   "metadata": {},
   "outputs": [
    {
     "ename": "",
     "evalue": "",
     "output_type": "error",
     "traceback": [
      "\u001b[1;31mFailed to start the Kernel. \n",
      "\u001b[1;31mThe Jupyter notebook server failed to launch in time. \n",
      "\u001b[1;31mView Jupyter <a href='command:jupyter.viewOutput'>log</a> for further details."
     ]
    }
   ],
   "source": [
    "# print(len([i for i in y_train if i == 0]))\n",
    "# sm = BorderlineSMOTE(random_state=42, sampling_strategy=1.0)\n",
    "# X_train, y_train = sm.fit_resample(X_train, y_train)\n",
    "# print(X_train.shape)"
   ]
  },
  {
   "cell_type": "code",
   "execution_count": null,
   "id": "4984af8a",
   "metadata": {},
   "outputs": [
    {
     "ename": "",
     "evalue": "",
     "output_type": "error",
     "traceback": [
      "\u001b[1;31mFailed to start the Kernel. \n",
      "\u001b[1;31mThe Jupyter notebook server failed to launch in time. \n",
      "\u001b[1;31mView Jupyter <a href='command:jupyter.viewOutput'>log</a> for further details."
     ]
    }
   ],
   "source": [
    "for i in y_train:\n",
    "    print(i)"
   ]
  },
  {
   "cell_type": "code",
   "execution_count": null,
   "id": "308832ba",
   "metadata": {},
   "outputs": [
    {
     "ename": "",
     "evalue": "",
     "output_type": "error",
     "traceback": [
      "\u001b[1;31mFailed to start the Kernel. \n",
      "\u001b[1;31mThe Jupyter notebook server failed to launch in time. \n",
      "\u001b[1;31mView Jupyter <a href='command:jupyter.viewOutput'>log</a> for further details."
     ]
    }
   ],
   "source": [
    "c = list(zip(X_train, y_train))\n",
    "\n",
    "random.shuffle(c)\n",
    "\n",
    "X_train, y_train = zip(*c)\n",
    "y_train = np.array(y_train)\n",
    "for i in y_train:\n",
    "    print(i)"
   ]
  },
  {
   "attachments": {},
   "cell_type": "markdown",
   "id": "80239e46",
   "metadata": {},
   "source": [
    "### Model Evaluation"
   ]
  },
  {
   "cell_type": "code",
   "execution_count": null,
   "id": "1b3a957b",
   "metadata": {},
   "outputs": [
    {
     "ename": "",
     "evalue": "",
     "output_type": "error",
     "traceback": [
      "\u001b[1;31mFailed to start the Kernel. \n",
      "\u001b[1;31mThe Jupyter notebook server failed to launch in time. \n",
      "\u001b[1;31mView Jupyter <a href='command:jupyter.viewOutput'>log</a> for further details."
     ]
    }
   ],
   "source": [
    "X_train = np.asarray(X_train).astype('float32')\n",
    "X_test = np.asarray(X_test).astype('float32')"
   ]
  },
  {
   "cell_type": "code",
   "execution_count": null,
   "id": "70aa6227-ef6f-45b8-922c-25ba840a1686",
   "metadata": {},
   "outputs": [
    {
     "ename": "",
     "evalue": "",
     "output_type": "error",
     "traceback": [
      "\u001b[1;31mFailed to start the Kernel. \n",
      "\u001b[1;31mThe Jupyter notebook server failed to launch in time. \n",
      "\u001b[1;31mView Jupyter <a href='command:jupyter.viewOutput'>log</a> for further details."
     ]
    }
   ],
   "source": [
    "model = tf.keras.models.Sequential([\n",
    "  tf.keras.layers.Flatten(input_shape=(1024,)),\n",
    "  tf.keras.layers.Dense(1024, activation='relu'),\n",
    "  tf.keras.layers.Dense(784, activation='relu'),\n",
    "  tf.keras.layers.Dropout(0.5, seed=42),\n",
    "  tf.keras.layers.Dense(512, activation='relu'),\n",
    "  tf.keras.layers.Dense(384, activation='relu'),\n",
    "  tf.keras.layers.Dense(256, activation='relu'),\n",
    "  tf.keras.layers.Dropout(0.5, seed=42),\n",
    "  tf.keras.layers.Dense(128, activation='relu'),\n",
    "  tf.keras.layers.Dense(64, activation='relu'),\n",
    "  # tf.keras.layers.Dense(32, activation='relu'),\n",
    "  tf.keras.layers.Dense(16, activation='relu'),\n",
    "  # tf.keras.layers.Dense(8, activation='relu'),\n",
    "  # tf.keras.layers.Dense(4, activation='relu'),\n",
    "  tf.keras.layers.Dense(1, activation='sigmoid')\n",
    "])\n",
    "\n",
    "# model = tf.keras.models.Sequential([\n",
    "#   tf.keras.layers.Flatten(input_shape=(1024,)),\n",
    "#   tf.keras.layers.Dense(1024, activation='relu'),\n",
    "#   tf.keras.layers.Dense(512, activation='relu'),\n",
    "#   tf.keras.layers.Dropout(0.5, seed=42),\n",
    "#   tf.keras.layers.Dense(256, activation='relu'),\n",
    "#   tf.keras.layers.Dense(128, activation='relu'),\n",
    "#   tf.keras.layers.Dropout(0.5, seed=42),\n",
    "#   tf.keras.layers.Dense(64, activation='relu'),\n",
    "#   tf.keras.layers.Dense(32, activation='relu'),\n",
    "#   tf.keras.layers.Dense(16, activation='relu'),\n",
    "#   # tf.keras.layers.Dense(8, activation='relu'),\n",
    "#   # tf.keras.layers.Dense(4, activation='relu'),\n",
    "#   tf.keras.layers.Dense(1, activation='sigmoid')\n",
    "# ])\n",
    "\n",
    "model.summary()"
   ]
  },
  {
   "cell_type": "code",
   "execution_count": null,
   "id": "22349718-95b0-4c78-b2d6-e3da5b6c2bc3",
   "metadata": {},
   "outputs": [
    {
     "ename": "",
     "evalue": "",
     "output_type": "error",
     "traceback": [
      "\u001b[1;31mFailed to start the Kernel. \n",
      "\u001b[1;31mThe Jupyter notebook server failed to launch in time. \n",
      "\u001b[1;31mView Jupyter <a href='command:jupyter.viewOutput'>log</a> for further details."
     ]
    }
   ],
   "source": [
    "model.compile(optimizer='adam',\n",
    "              loss=tf.keras.losses.binary_crossentropy,\n",
    "              metrics=['accuracy'])"
   ]
  },
  {
   "cell_type": "code",
   "execution_count": null,
   "id": "76e19d4a",
   "metadata": {},
   "outputs": [
    {
     "ename": "",
     "evalue": "",
     "output_type": "error",
     "traceback": [
      "\u001b[1;31mFailed to start the Kernel. \n",
      "\u001b[1;31mThe Jupyter notebook server failed to launch in time. \n",
      "\u001b[1;31mView Jupyter <a href='command:jupyter.viewOutput'>log</a> for further details."
     ]
    }
   ],
   "source": [
    "es = tf.keras.callbacks.EarlyStopping(\n",
    "    monitor='val_accuracy',\n",
    "    patience=15,\n",
    "    mode='auto',\n",
    "    restore_best_weights=True,\n",
    ")"
   ]
  },
  {
   "cell_type": "code",
   "execution_count": null,
   "id": "3ad03e70-4fb2-4dcf-b7cd-7aa75c93013e",
   "metadata": {},
   "outputs": [
    {
     "ename": "",
     "evalue": "",
     "output_type": "error",
     "traceback": [
      "\u001b[1;31mFailed to start the Kernel. \n",
      "\u001b[1;31mThe Jupyter notebook server failed to launch in time. \n",
      "\u001b[1;31mView Jupyter <a href='command:jupyter.viewOutput'>log</a> for further details."
     ]
    }
   ],
   "source": [
    "# With SMOTE\n",
    "history = model.fit(X_train, y_train, epochs=100, validation_data = (X_test, y_test), callbacks=[es])"
   ]
  },
  {
   "cell_type": "code",
   "execution_count": null,
   "id": "0a7ad3f5-b9e7-412b-97e4-157f4b40471e",
   "metadata": {},
   "outputs": [
    {
     "ename": "",
     "evalue": "",
     "output_type": "error",
     "traceback": [
      "\u001b[1;31mFailed to start the Kernel. \n",
      "\u001b[1;31mThe Jupyter notebook server failed to launch in time. \n",
      "\u001b[1;31mView Jupyter <a href='command:jupyter.viewOutput'>log</a> for further details."
     ]
    }
   ],
   "source": [
    "plt.plot(history.history['accuracy'])\n",
    "plt.plot(history.history['val_accuracy'])\n",
    "plt.title('Dengue vs. Healthy - Protein LM', fontsize=18)\n",
    "plt.ylabel('Accuracy', fontsize=14)\n",
    "plt.xlabel('Epochs', fontsize=14)\n",
    "# plt.yticks(np.arange(0.75, 1.0, 0.02))\n",
    "# plt.xticks(np.arange(0, 20, 1.0))\n",
    "plt.legend(['train', 'val'], loc='lower right')\n",
    "plt.show()"
   ]
  },
  {
   "cell_type": "markdown",
   "id": "11da2740",
   "metadata": {},
   "source": [
    "## Model 3 Testing"
   ]
  },
  {
   "cell_type": "code",
   "execution_count": 23,
   "id": "3cfb5a0f",
   "metadata": {},
   "outputs": [],
   "source": [
    "model.save(\"dengue_model.h5\")"
   ]
  },
  {
   "cell_type": "code",
   "execution_count": 18,
   "id": "5c8ae687-0304-47b1-8a77-f2eadf1c8cc3",
   "metadata": {},
   "outputs": [
    {
     "name": "stderr",
     "output_type": "stream",
     "text": [
      "2023-02-02 21:41:14.684652: W tensorflow/core/platform/profile_utils/cpu_utils.cc:128] Failed to get CPU frequency: 0 Hz\n",
      "2023-02-02 21:41:14.770359: I tensorflow/core/grappler/optimizers/custom_graph_optimizer_registry.cc:114] Plugin optimizer for device_type GPU is enabled.\n"
     ]
    },
    {
     "name": "stdout",
     "output_type": "stream",
     "text": [
      "2/2 [==============================] - 0s 81ms/step - loss: 0.3797 - accuracy: 0.7895\n"
     ]
    },
    {
     "data": {
      "text/plain": [
       "[0.3797115385532379, 0.7894737124443054]"
      ]
     },
     "execution_count": 18,
     "metadata": {},
     "output_type": "execute_result"
    }
   ],
   "source": [
    "model.evaluate(X_test, y_test)"
   ]
  },
  {
   "cell_type": "code",
   "execution_count": 15,
   "id": "987ab23b",
   "metadata": {},
   "outputs": [
    {
     "name": "stderr",
     "output_type": "stream",
     "text": [
      "2023-02-02 21:41:01.034491: I tensorflow/core/common_runtime/pluggable_device/pluggable_device_factory.cc:306] Could not identify NUMA node of platform GPU ID 0, defaulting to 0. Your kernel may not have been built with NUMA support.\n",
      "2023-02-02 21:41:01.034707: I tensorflow/core/common_runtime/pluggable_device/pluggable_device_factory.cc:272] Created TensorFlow device (/job:localhost/replica:0/task:0/device:GPU:0 with 0 MB memory) -> physical PluggableDevice (device: 0, name: METAL, pci bus id: <undefined>)\n"
     ]
    },
    {
     "name": "stdout",
     "output_type": "stream",
     "text": [
      "Metal device set to: Apple M1 Max\n",
      "\n",
      "systemMemory: 64.00 GB\n",
      "maxCacheSize: 24.00 GB\n",
      "\n"
     ]
    }
   ],
   "source": [
    "model = tf.keras.models.load_model(\"dengue_model.h5\")"
   ]
  },
  {
   "cell_type": "code",
   "execution_count": 33,
   "id": "d3c98555-1d8c-4a73-8dd3-da58926a06e0",
   "metadata": {},
   "outputs": [
    {
     "name": "stderr",
     "output_type": "stream",
     "text": [
      "2023-01-26 11:51:16.039779: I tensorflow/core/grappler/optimizers/custom_graph_optimizer_registry.cc:114] Plugin optimizer for device_type GPU is enabled.\n"
     ]
    },
    {
     "name": "stdout",
     "output_type": "stream",
     "text": [
      "1/1 [==============================] - 0s 362ms/step\n",
      "1/1 [==============================] - 0s 16ms/step\n",
      "1/1 [==============================] - 0s 15ms/step\n",
      "1/1 [==============================] - 0s 16ms/step\n",
      "1/1 [==============================] - 0s 16ms/step\n",
      "1/1 [==============================] - 0s 17ms/step\n",
      "1/1 [==============================] - 0s 14ms/step\n",
      "1/1 [==============================] - 0s 15ms/step\n",
      "1/1 [==============================] - 0s 15ms/step\n",
      "1/1 [==============================] - 0s 14ms/step\n",
      "1/1 [==============================] - 0s 16ms/step\n",
      "1/1 [==============================] - 0s 17ms/step\n",
      "1/1 [==============================] - 0s 14ms/step\n",
      "1/1 [==============================] - 0s 16ms/step\n",
      "1/1 [==============================] - 0s 16ms/step\n",
      "1/1 [==============================] - 0s 15ms/step\n",
      "1/1 [==============================] - 0s 15ms/step\n",
      "1/1 [==============================] - 0s 15ms/step\n",
      "1/1 [==============================] - 0s 15ms/step\n"
     ]
    },
    {
     "data": {
      "text/plain": [
       "[array([[1.]], dtype=float32),\n",
       " array([[1.]], dtype=float32),\n",
       " array([[0.]], dtype=float32),\n",
       " array([[0.]], dtype=float32),\n",
       " array([[0.]], dtype=float32),\n",
       " array([[1.]], dtype=float32),\n",
       " array([[0.]], dtype=float32),\n",
       " array([[0.]], dtype=float32),\n",
       " array([[0.]], dtype=float32),\n",
       " array([[1.]], dtype=float32),\n",
       " array([[0.]], dtype=float32),\n",
       " array([[1.]], dtype=float32),\n",
       " array([[0.]], dtype=float32),\n",
       " array([[1.]], dtype=float32),\n",
       " array([[0.]], dtype=float32),\n",
       " array([[1.]], dtype=float32),\n",
       " array([[1.]], dtype=float32),\n",
       " array([[1.]], dtype=float32),\n",
       " array([[0.]], dtype=float32)]"
      ]
     },
     "execution_count": 33,
     "metadata": {},
     "output_type": "execute_result"
    }
   ],
   "source": [
    "y_pred = []\n",
    "y_true = y_test\n",
    "\n",
    "for i in X_test:\n",
    "    i = np.expand_dims(i, axis=0)\n",
    "    y_pred.append(np.round(model.predict(i)))\n",
    "\n",
    "y_pred"
   ]
  },
  {
   "cell_type": "code",
   "execution_count": 34,
   "id": "4dd1f721",
   "metadata": {},
   "outputs": [
    {
     "data": {
      "image/png": "[encoded data removed]",
      "text/plain": [
       "<Figure size 1000x800 with 2 Axes>"
      ]
     },
     "metadata": {},
     "output_type": "display_data"
    },
    {
     "name": "stdout",
     "output_type": "stream",
     "text": [
      "tf.Tensor(\n",
      "[[10  1]\n",
      " [ 0  8]], shape=(2, 2), dtype=int32)\n"
     ]
    }
   ],
   "source": [
    "correct_labels = np.array(tf.concat([item for item in y_true], axis = 0))\n",
    "predicted_labels = np.array(tf.concat([item for item in y_pred], axis = 0))\n",
    "\n",
    "confusion_mtx = tf.math.confusion_matrix(correct_labels, predicted_labels)\n",
    "plt.figure(figsize=(10, 8))\n",
    "plt.title('    dengue vs. Healthy - Confusion Matrix\\n', fontsize=30)\n",
    "sns.set(font_scale=1.5)\n",
    "\n",
    "cmap = sns.color_palette(\"Blues_r\", as_cmap=True)\n",
    "\n",
    "sns.heatmap(confusion_mtx,\n",
    "            xticklabels=[\"Healthy\", \"dengue\"],\n",
    "            yticklabels=[\"Healthy\", \"dengue\"],\n",
    "            annot=True, fmt='g', annot_kws={\"size\":40}, cmap=cmap)\n",
    "plt.xlabel('Prediction', fontsize=30)\n",
    "plt.ylabel('Ground Truth', fontsize=30)\n",
    "plt.show()\n",
    "\n",
    "print(confusion_mtx)"
   ]
  },
  {
   "cell_type": "code",
   "execution_count": 35,
   "id": "0526582e",
   "metadata": {},
   "outputs": [
    {
     "data": {
      "text/plain": [
       "<tf.Tensor: shape=(2, 2), dtype=int32, numpy=\n",
       "array([[0, 5],\n",
       "       [0, 0]], dtype=int32)>"
      ]
     },
     "execution_count": 35,
     "metadata": {},
     "output_type": "execute_result"
    }
   ],
   "source": [
    "tf.math.confusion_matrix([0, 0, 0, 0, 0], [1, 1, 1, 1, 1]) # represents # of false positives (0 actual 1 pred)"
   ]
  },
  {
   "cell_type": "code",
   "execution_count": 36,
   "id": "9483ae4f",
   "metadata": {},
   "outputs": [
    {
     "data": {
      "image/png": "[encoded data removed]",
      "text/plain": [
       "<Figure size 640x480 with 1 Axes>"
      ]
     },
     "metadata": {},
     "output_type": "display_data"
    }
   ],
   "source": [
    "fpr, tpr, _ = sklearn.metrics.roc_curve(correct_labels,  predicted_labels)\n",
    "auc = sklearn.metrics.roc_auc_score(correct_labels, predicted_labels)\n",
    "plt.plot(fpr,tpr,label=\"AUC = \"+str(auc))\n",
    "plt.legend(loc=4)\n",
    "plt.show()"
   ]
  },
  {
   "cell_type": "code",
   "execution_count": null,
   "id": "231d3011",
   "metadata": {},
   "outputs": [],
   "source": []
  }
 ],
 "metadata": {
  "kernelspec": {
   "display_name": "test_env",
   "language": "python",
   "name": "python3"
  },
  "language_info": {
   "codemirror_mode": {
    "name": "ipython",
    "version": 3
   },
   "file_extension": ".py",
   "mimetype": "text/x-python",
   "name": "python",
   "nbconvert_exporter": "python",
   "pygments_lexer": "ipython3",
   "version": "3.10.8 | packaged by conda-forge | (main, Nov 22 2022, 08:25:29) [Clang 14.0.6 ]"
  },
  "vscode": {
   "interpreter": {
    "hash": "8a5edab282632443219e051e4ade2d1d5bbc671c781051bf1437897cbdfea0f1"
   }
  }
 },
 "nbformat": 4,
 "nbformat_minor": 5
}
