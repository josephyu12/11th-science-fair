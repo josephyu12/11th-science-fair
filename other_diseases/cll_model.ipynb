{
 "cells": [
  {
   "cell_type": "markdown",
   "id": "6db8c101",
   "metadata": {},
   "source": [
    "### Do NOT click RUN ALL... or else you will spend 20 minutes redefining the embeddings"
   ]
  },
  {
   "cell_type": "code",
   "execution_count": null,
   "id": "75bdc7ad-1599-4ccd-8abc-5536833571b1",
   "metadata": {},
   "outputs": [
    {
     "ename": "",
     "evalue": "",
     "output_type": "error",
     "traceback": [
      "\u001b[1;31mFailed to start the Kernel. \n",
      "\u001b[1;31mThe Jupyter notebook server failed to launch in time. \n",
      "\u001b[1;31mView Jupyter <a href='command:jupyter.viewOutput'>log</a> for further details."
     ]
    }
   ],
   "source": [
    "import tensorflow as tf\n",
    "import pandas as pd\n",
    "import numpy as np\n",
    "from sklearn.model_selection import train_test_split\n",
    "from sklearn.metrics import classification_report\n",
    "import matplotlib.pyplot as plt \n",
    "import seaborn as sns\n",
    "import sklearn\n",
    "from Bio.Seq import Seq\n",
    "from transformers import TFBertModel, BertTokenizer,BertConfig\n",
    "import re\n",
    "import pickle\n",
    "import sys\n",
    "import gc\n",
    "import os\n",
    "import pdfplumber\n",
    "import shutil\n",
    "import glob\n",
    "import math\n",
    "from imblearn.over_sampling import SMOTE, SMOTENC, BorderlineSMOTE\n",
    "import random\n",
    "\n",
    "# np.random.seed(42)\n",
    "# tf.random.set_seed(42)\n",
    "# os.environ['PYTHONHASHSEED']=str(42)\n",
    "tf.keras.utils.set_random_seed(42)\n"
   ]
  },
  {
   "attachments": {},
   "cell_type": "markdown",
   "id": "80d2ab41",
   "metadata": {},
   "source": [
    "# Defining"
   ]
  },
  {
   "cell_type": "markdown",
   "id": "2d9eaad3",
   "metadata": {},
   "source": [
    "Code for ProtBERT and BFD"
   ]
  },
  {
   "cell_type": "code",
   "execution_count": null,
   "id": "c91accfd",
   "metadata": {},
   "outputs": [
    {
     "ename": "",
     "evalue": "",
     "output_type": "error",
     "traceback": [
      "\u001b[1;31mFailed to start the Kernel. \n",
      "\u001b[1;31mThe Jupyter notebook server failed to launch in time. \n",
      "\u001b[1;31mView Jupyter <a href='command:jupyter.viewOutput'>log</a> for further details."
     ]
    }
   ],
   "source": [
    "tokenizer = BertTokenizer.from_pretrained(\"Rostlab/prot_bert_bfd\", do_lower_case=False)\n",
    "embedding_model = TFBertModel.from_pretrained(\"Rostlab/prot_bert_bfd\", from_pt=True)"
   ]
  },
  {
   "cell_type": "code",
   "execution_count": null,
   "id": "e3c7bc12",
   "metadata": {},
   "outputs": [
    {
     "ename": "",
     "evalue": "",
     "output_type": "error",
     "traceback": [
      "\u001b[1;31mFailed to start the Kernel. \n",
      "\u001b[1;31mThe Jupyter notebook server failed to launch in time. \n",
      "\u001b[1;31mView Jupyter <a href='command:jupyter.viewOutput'>log</a> for further details."
     ]
    }
   ],
   "source": [
    "def get_embeddings(sequence_list):\n",
    "    # tokenizer = BertTokenizer.from_pretrained(\"Rostlab/prot_bert_bfd\", do_lower_case=False )\n",
    "    # embedding_model = TFBertModel.from_pretrained(\"Rostlab/prot_bert_bfd\", from_pt=True)\n",
    "    sequence_list = [re.sub(r\"[UZOB]\", \"X\", sequence) for sequence in sequence_list]\n",
    "    ids = tokenizer.batch_encode_plus(sequence_list, add_special_tokens=True, padding=True, return_tensors=\"tf\")\n",
    "    input_ids = ids['input_ids']\n",
    "    attention_mask = np.asarray(ids['attention_mask'])\n",
    "    embedding = np.asarray(embedding_model(input_ids)[0])\n",
    "    print(np.shape(input_ids))\n",
    "    average_embeddings = []\n",
    "    for seq_num in range(len(embedding)):\n",
    "\n",
    "        seq_len = (attention_mask[seq_num] == 1).sum()\n",
    "        # seq_len = (len(attention_mask[seq_num]))\n",
    "        residues = embedding[seq_num][1:seq_len-1]\n",
    "        average = np.mean(residues, axis=0)\n",
    "        average_embeddings.append(average)\n",
    "    \n",
    "    del residues\n",
    "    del average\n",
    "    del ids\n",
    "    del sequence_list\n",
    "    del embedding\n",
    "    del input_ids\n",
    "    del attention_mask\n",
    "    gc.collect()\n",
    "\n",
    "    return np.asarray(average_embeddings)"
   ]
  },
  {
   "cell_type": "code",
   "execution_count": null,
   "id": "a9072ca2",
   "metadata": {},
   "outputs": [
    {
     "ename": "",
     "evalue": "",
     "output_type": "error",
     "traceback": [
      "\u001b[1;31mFailed to start the Kernel. \n",
      "\u001b[1;31mThe Jupyter notebook server failed to launch in time. \n",
      "\u001b[1;31mView Jupyter <a href='command:jupyter.viewOutput'>log</a> for further details."
     ]
    }
   ],
   "source": [
    "sequences_Example = [\"A E T C Z A O\",\"S K T Z P\"] # REMEMBER SPACING"
   ]
  },
  {
   "cell_type": "code",
   "execution_count": null,
   "id": "4dd04caf",
   "metadata": {},
   "outputs": [
    {
     "ename": "",
     "evalue": "",
     "output_type": "error",
     "traceback": [
      "\u001b[1;31mFailed to start the Kernel. \n",
      "\u001b[1;31mThe Jupyter notebook server failed to launch in time. \n",
      "\u001b[1;31mView Jupyter <a href='command:jupyter.viewOutput'>log</a> for further details."
     ]
    }
   ],
   "source": [
    "average_embeddings = get_embeddings(sequences_Example)\n",
    "# print(residue_embeddings)"
   ]
  },
  {
   "cell_type": "code",
   "execution_count": null,
   "id": "0ee94ac9-7196-4112-a22a-6139be9dc26a",
   "metadata": {},
   "outputs": [
    {
     "ename": "",
     "evalue": "",
     "output_type": "error",
     "traceback": [
      "\u001b[1;31mFailed to start the Kernel. \n",
      "\u001b[1;31mThe Jupyter notebook server failed to launch in time. \n",
      "\u001b[1;31mView Jupyter <a href='command:jupyter.viewOutput'>log</a> for further details."
     ]
    }
   ],
   "source": [
    "tf.__version__"
   ]
  },
  {
   "cell_type": "markdown",
   "id": "4cbc4fbf",
   "metadata": {},
   "source": [
    "# Data Formatting"
   ]
  },
  {
   "cell_type": "code",
   "execution_count": null,
   "id": "ca827dc2-3d2e-4bbd-80ae-08b1ea26e6a4",
   "metadata": {},
   "outputs": [
    {
     "ename": "",
     "evalue": "",
     "output_type": "error",
     "traceback": [
      "\u001b[1;31mFailed to start the Kernel. \n",
      "\u001b[1;31mThe Jupyter notebook server failed to launch in time. \n",
      "\u001b[1;31mView Jupyter <a href='command:jupyter.viewOutput'>log</a> for further details."
     ]
    }
   ],
   "source": [
    "# Read Heavy_Seqs\n",
    "\n",
    "dummy = []\n",
    "head = []\n",
    "flag = False\n",
    "with open(\"../Data/CLL/heavy_seqs.txt\") as myfile:\n",
    "    for i in myfile:\n",
    "        dummy.append(i)\n",
    "    for i in dummy:\n",
    "        if flag == True:\n",
    "            flag = False\n",
    "            continue\n",
    "        if i.find(\"light\") != -1:\n",
    "            flag = True\n",
    "            continue\n",
    "        if i.find(\">\") == -1 & i.find(\"-\") == -1 & i.find(\"X\") == -1:\n",
    "            if (len(i) <= 145) & (len(i) >= 100):\n",
    "                if i not in head:\n",
    "                    head.append(i)\n",
    "    np.random.shuffle(head)\n",
    "print(head[:5], len(head))\n",
    "cll_sequences = head\n",
    "\n",
    "textual_sequences = list(dict.fromkeys(cll_sequences))"
   ]
  },
  {
   "cell_type": "code",
   "execution_count": null,
   "id": "2cd3f123",
   "metadata": {},
   "outputs": [
    {
     "ename": "",
     "evalue": "",
     "output_type": "error",
     "traceback": [
      "\u001b[1;31mFailed to start the Kernel. \n",
      "\u001b[1;31mThe Jupyter notebook server failed to launch in time. \n",
      "\u001b[1;31mView Jupyter <a href='command:jupyter.viewOutput'>log</a> for further details."
     ]
    }
   ],
   "source": [
    "# Read JSAV\n",
    "df = pd.read_csv(\"../Data/CLL/JSAV_Export.csv\", skiprows=1)\n",
    "df.drop(df.columns[[0, 1, 2, 3, 4, 5]], axis=1, inplace=True)\n",
    "df.drop([\"H52A\", \"H52B\", \"H52C\", \"H82A\", \"H82B\", \"H82C\", \"H100A\", \"H100B\", \"H100C\", \"H100D\", \"H100E\", \"H100F\", \"H100G\", \"H100H\", \"H100I\", \"H100J\", \"H100K\", \"H100L\"], axis=1, inplace=True)\n",
    "array = df.to_string(header=False, index=False, index_names=False).split('\\n')\n",
    "jsav_sequences = []\n",
    "for i in array:\n",
    "    if i.find(\">\") == -1 & i.find(\"-\") == -1 & i.find(\"X\") == -1:\n",
    "        i = i.replace(\" \", \"\")\n",
    "        print(i)\n",
    "        jsav_sequences.append(i)"
   ]
  },
  {
   "cell_type": "code",
   "execution_count": null,
   "id": "898d4081",
   "metadata": {},
   "outputs": [
    {
     "ename": "",
     "evalue": "",
     "output_type": "error",
     "traceback": [
      "\u001b[1;31mFailed to start the Kernel. \n",
      "\u001b[1;31mThe Jupyter notebook server failed to launch in time. \n",
      "\u001b[1;31mView Jupyter <a href='command:jupyter.viewOutput'>log</a> for further details."
     ]
    }
   ],
   "source": [
    "# Read CSV\n",
    "excel_sequences = []\n",
    "## mini function but I'm too lazy to write it as one\n",
    "df1 = pd.read_excel(\"../Data/CLL/CLL_Hydropathy.xlsx\", skiprows=2)\n",
    "df1 = df1[[\"IGHV Sequence\"]]\n",
    "df1 = df1.dropna()\n",
    "temp_sequences = df1.to_numpy()\n",
    "temp_sequences = [i for sub_list in temp_sequences for i in sub_list]\n",
    "for i in temp_sequences:\n",
    "    temp = Seq.translate(i.strip())\n",
    "    excel_sequences.append(temp)\n",
    "excel_sequences = [i for i in excel_sequences if i.find(\"*\") == -1]\n",
    "print(len(excel_sequences))\n",
    "print(excel_sequences)"
   ]
  },
  {
   "cell_type": "code",
   "execution_count": null,
   "id": "94c23ae4",
   "metadata": {},
   "outputs": [
    {
     "ename": "",
     "evalue": "",
     "output_type": "error",
     "traceback": [
      "\u001b[1;31mFailed to start the Kernel. \n",
      "\u001b[1;31mThe Jupyter notebook server failed to launch in time. \n",
      "\u001b[1;31mView Jupyter <a href='command:jupyter.viewOutput'>log</a> for further details."
     ]
    }
   ],
   "source": [
    "# need mass filtering, making sure between 100 and 138\n",
    "\n",
    "cll_sequences = np.concatenate((textual_sequences, jsav_sequences, excel_sequences))\n",
    "\n",
    "cll_sequences = list(dict.fromkeys(cll_sequences))\n",
    "print(len(cll_sequences))\n",
    "cll_sequences = [i for i in cll_sequences if len(i) >= 100]\n",
    "print(len(cll_sequences))\n",
    "# cll_sequences = [i for i in cll_sequences if len(i) <= 138]\n",
    "# print(len(cll_sequences))\n",
    "cll_sequences = [i for i in cll_sequences if i.find(\"X\") == -1 if i.find(\"-\") == -1]\n",
    "print(len(cll_sequences))\n",
    "np.random.shuffle(cll_sequences)"
   ]
  },
  {
   "cell_type": "code",
   "execution_count": null,
   "id": "fef066e1",
   "metadata": {},
   "outputs": [
    {
     "ename": "",
     "evalue": "",
     "output_type": "error",
     "traceback": [
      "\u001b[1;31mFailed to start the Kernel. \n",
      "\u001b[1;31mThe Jupyter notebook server failed to launch in time. \n",
      "\u001b[1;31mView Jupyter <a href='command:jupyter.viewOutput'>log</a> for further details."
     ]
    }
   ],
   "source": [
    "# shutil.copy(\"../Data/cll/heavy_seqs_aa.fasta\", \"../Data/cll/heavy_seqs_aa.txt\")\n",
    "# OR\n",
    "# Run the following too when new download\n",
    "# awk '/^>/ {printf(\"\\n%s\\n\",$0);next; } { printf(\"%s\",$0);}  END {printf(\"\\n\");}' < file.fa > out.txt\n",
    "# Then, delete the first empty line"
   ]
  },
  {
   "cell_type": "code",
   "execution_count": null,
   "id": "ca827dc2-3d2e-4bbd-80ae-08b1ea26e6a4",
   "metadata": {},
   "outputs": [
    {
     "ename": "",
     "evalue": "",
     "output_type": "error",
     "traceback": [
      "\u001b[1;31mFailed to start the Kernel. \n",
      "\u001b[1;31mThe Jupyter notebook server failed to launch in time. \n",
      "\u001b[1;31mView Jupyter <a href='command:jupyter.viewOutput'>log</a> for further details."
     ]
    }
   ],
   "source": [
    "dummy = []\n",
    "head = []\n",
    "with open(\"../Data/cAb-rep/cAb-Rep_heavy.nt.txt\") as myfile:\n",
    "    # count = 0\n",
    "    for i in myfile:\n",
    "        # if count <= 1:\n",
    "        #     print(i)\n",
    "        #     if i.find(\">\") == -1 & i.find(\"-\") == -1:\n",
    "        #         print(Seq.translate(i.strip()))\n",
    "        #     count+=1\n",
    "        dummy.append(i)\n",
    "    np.random.shuffle(dummy)\n",
    "    \n",
    "    for i in dummy:\n",
    "        if i.find(\">\") == -1 & i.find(\"-\") == -1 & i.find(\"N\") == -1: # These conditions must be met for a valid sequence, the longest was 141. However, there is no 141 sequence for cll, the greatest is 138, so we go with that\n",
    "            aa_sequence = Seq.translate(i.strip())\n",
    "            if (len(aa_sequence) <= 138) & (len(aa_sequence) >= 100):\n",
    "                head.append(aa_sequence)\n",
    "                if len(head) >= 250:\n",
    "                    break\n",
    "print(head[:5], len(head))\n",
    "healthy_sequences = head"
   ]
  },
  {
   "cell_type": "code",
   "execution_count": null,
   "id": "67483afe-f027-4dd9-9d03-e62e4145b446",
   "metadata": {
    "tags": []
   },
   "outputs": [
    {
     "ename": "",
     "evalue": "",
     "output_type": "error",
     "traceback": [
      "\u001b[1;31mFailed to start the Kernel. \n",
      "\u001b[1;31mThe Jupyter notebook server failed to launch in time. \n",
      "\u001b[1;31mView Jupyter <a href='command:jupyter.viewOutput'>log</a> for further details."
     ]
    }
   ],
   "source": [
    "# print(healthy_sequences)\n",
    "print(len(max(healthy_sequences, key=len)))\n",
    "print(len(max(cll_sequences, key=len)))\n",
    "print(len(healthy_sequences))\n",
    "print(len(cll_sequences))\n",
    "# print(cll_sequences)"
   ]
  },
  {
   "cell_type": "code",
   "execution_count": null,
   "id": "ee3c0779",
   "metadata": {},
   "outputs": [
    {
     "ename": "",
     "evalue": "",
     "output_type": "error",
     "traceback": [
      "\u001b[1;31mFailed to start the Kernel. \n",
      "\u001b[1;31mThe Jupyter notebook server failed to launch in time. \n",
      "\u001b[1;31mView Jupyter <a href='command:jupyter.viewOutput'>log</a> for further details."
     ]
    }
   ],
   "source": [
    "del head\n",
    "del myfile\n",
    "del dummy\n",
    "gc.collect()"
   ]
  },
  {
   "cell_type": "code",
   "execution_count": 15,
   "id": "842f6433-f573-4d33-9280-86f26c1ac116",
   "metadata": {},
   "outputs": [],
   "source": [
    "# order from https://www.ncbi.nlm.nih.gov/Class/MLACourse/Modules/MolBioReview/iupac_aa_abbreviations.html"
   ]
  },
  {
   "cell_type": "markdown",
   "id": "7de76540",
   "metadata": {},
   "source": [
    "# Preprocessing"
   ]
  },
  {
   "cell_type": "code",
   "execution_count": 16,
   "id": "31e15776",
   "metadata": {},
   "outputs": [],
   "source": [
    "if os.path.exists('cll_binary_embeddings') == False:\n",
    "    os.mkdir('cll_binary_embeddings')"
   ]
  },
  {
   "cell_type": "code",
   "execution_count": 17,
   "id": "a02f41ad",
   "metadata": {},
   "outputs": [
    {
     "name": "stdout",
     "output_type": "stream",
     "text": [
      "(75, 144)\n"
     ]
    }
   ],
   "source": [
    "number_param_cll = math.ceil(len(cll_sequences)/3000)\n",
    "\n",
    "for i in range(number_param_cll):\n",
    "    cll_sequences_new = [(\" \".join(s)) for s in cll_sequences][round(len(cll_sequences) * (1/number_param_cll) * i):round(len(cll_sequences) * (1/number_param_cll) * (i+1))]\n",
    "    cll_average_embeddings = get_embeddings(cll_sequences_new)\n",
    "\n",
    "    with open(\"cll_binary_embeddings/cll_\" + str(i) + \".pkl\", \"wb\") as f:\n",
    "        pickle.dump(cll_average_embeddings, f)\n",
    "\n",
    "    del cll_sequences_new\n",
    "    del cll_average_embeddings\n",
    "    gc.collect()"
   ]
  },
  {
   "cell_type": "code",
   "execution_count": 18,
   "id": "bb01187f",
   "metadata": {},
   "outputs": [
    {
     "name": "stdout",
     "output_type": "stream",
     "text": [
      "(250, 133)\n"
     ]
    }
   ],
   "source": [
    "number_param_healthy = math.ceil(len(healthy_sequences)/3000)\n",
    "\n",
    "for i in range(number_param_healthy):\n",
    "    healthy_sequences_new = [(\" \".join(s)) for s in healthy_sequences][round(len(healthy_sequences) * (1/number_param_healthy) * i):round(len(healthy_sequences) * (1/number_param_healthy) * (i+1))]\n",
    "    healthy_average_embeddings = get_embeddings(healthy_sequences_new)\n",
    "\n",
    "    with open(\"cll_binary_embeddings/healthy_\" + str(i) + \".pkl\", \"wb\") as f:\n",
    "        pickle.dump(healthy_average_embeddings, f)\n",
    "    f.close()\n",
    "\n",
    "    del healthy_sequences_new\n",
    "    del healthy_average_embeddings\n",
    "    gc.collect()"
   ]
  },
  {
   "cell_type": "markdown",
   "id": "6b8678af",
   "metadata": {},
   "source": [
    "# Loading"
   ]
  },
  {
   "cell_type": "code",
   "execution_count": null,
   "id": "729403d9",
   "metadata": {},
   "outputs": [
    {
     "ename": "",
     "evalue": "",
     "output_type": "error",
     "traceback": [
      "\u001b[1;31mFailed to start the Kernel. \n",
      "\u001b[1;31mThe Jupyter notebook server failed to launch in time. \n",
      "\u001b[1;31mView Jupyter <a href='command:jupyter.viewOutput'>log</a> for further details."
     ]
    }
   ],
   "source": [
    "cll_average_embeddings = [[None] * 1024]"
   ]
  },
  {
   "cell_type": "code",
   "execution_count": null,
   "id": "6e8fde19",
   "metadata": {},
   "outputs": [
    {
     "ename": "",
     "evalue": "",
     "output_type": "error",
     "traceback": [
      "\u001b[1;31mFailed to start the Kernel. \n",
      "\u001b[1;31mThe Jupyter notebook server failed to launch in time. \n",
      "\u001b[1;31mView Jupyter <a href='command:jupyter.viewOutput'>log</a> for further details."
     ]
    }
   ],
   "source": [
    "number_param_cll = 1\n",
    "for i in range(number_param_cll):\n",
    "    with open(\"cll_binary_embeddings/cll_\" + str(i) + \".pkl\", \"rb\") as f:\n",
    "        cll_temp = pickle.load(f)\n",
    "        cll_average_embeddings = np.concatenate((cll_average_embeddings, cll_temp))\n",
    "    f.close()\n",
    "\n",
    "cll_average_embeddings = np.delete(cll_average_embeddings, 0, 0)"
   ]
  },
  {
   "cell_type": "code",
   "execution_count": null,
   "id": "729403d9",
   "metadata": {},
   "outputs": [
    {
     "ename": "",
     "evalue": "",
     "output_type": "error",
     "traceback": [
      "\u001b[1;31mFailed to start the Kernel. \n",
      "\u001b[1;31mThe Jupyter notebook server failed to launch in time. \n",
      "\u001b[1;31mView Jupyter <a href='command:jupyter.viewOutput'>log</a> for further details."
     ]
    }
   ],
   "source": [
    "healthy_average_embeddings = [[None] * 1024]"
   ]
  },
  {
   "cell_type": "code",
   "execution_count": null,
   "id": "228bba2a",
   "metadata": {},
   "outputs": [
    {
     "ename": "",
     "evalue": "",
     "output_type": "error",
     "traceback": [
      "\u001b[1;31mFailed to start the Kernel. \n",
      "\u001b[1;31mThe Jupyter notebook server failed to launch in time. \n",
      "\u001b[1;31mView Jupyter <a href='command:jupyter.viewOutput'>log</a> for further details."
     ]
    }
   ],
   "source": [
    "number_param_healthy = 1\n",
    "for i in range(number_param_healthy):\n",
    "    with open(\"cll_binary_embeddings/healthy_\" + str(i) + \".pkl\", \"rb\") as f:\n",
    "        healthy_temp = pickle.load(f)\n",
    "        healthy_average_embeddings = np.concatenate((healthy_average_embeddings, healthy_temp))\n",
    "    f.close()\n",
    "\n",
    "healthy_average_embeddings = np.delete(healthy_average_embeddings, 0, 0)"
   ]
  },
  {
   "cell_type": "code",
   "execution_count": null,
   "id": "3a98eb59",
   "metadata": {},
   "outputs": [
    {
     "ename": "",
     "evalue": "",
     "output_type": "error",
     "traceback": [
      "\u001b[1;31mFailed to start the Kernel. \n",
      "\u001b[1;31mThe Jupyter notebook server failed to launch in time. \n",
      "\u001b[1;31mView Jupyter <a href='command:jupyter.viewOutput'>log</a> for further details."
     ]
    }
   ],
   "source": [
    "print(healthy_average_embeddings.shape)"
   ]
  },
  {
   "cell_type": "code",
   "execution_count": null,
   "id": "b745d707-e2ff-4562-9e2d-a602b198b1c1",
   "metadata": {
    "tags": []
   },
   "outputs": [
    {
     "ename": "",
     "evalue": "",
     "output_type": "error",
     "traceback": [
      "\u001b[1;31mFailed to start the Kernel. \n",
      "\u001b[1;31mThe Jupyter notebook server failed to launch in time. \n",
      "\u001b[1;31mView Jupyter <a href='command:jupyter.viewOutput'>log</a> for further details."
     ]
    }
   ],
   "source": [
    "healthy_lables = [0] * 75 # 250\n",
    "cll_lables = [1] * 75"
   ]
  },
  {
   "attachments": {},
   "cell_type": "markdown",
   "id": "68972867",
   "metadata": {},
   "source": [
    "# Visualization"
   ]
  },
  {
   "cell_type": "code",
   "execution_count": 8,
   "id": "a1d874fe",
   "metadata": {},
   "outputs": [],
   "source": [
    "from sklearn.manifold import TSNE\n",
    "embeds = np.concatenate((cll_average_embeddings, healthy_average_embeddings[:250]))"
   ]
  },
  {
   "cell_type": "code",
   "execution_count": 9,
   "id": "3b5622c5-47a1-41e0-8193-55a80fe2e712",
   "metadata": {},
   "outputs": [
    {
     "name": "stderr",
     "output_type": "stream",
     "text": [
      "/Users/joseph/miniforge3/envs/test_env/lib/python3.10/site-packages/sklearn/manifold/_t_sne.py:996: FutureWarning: The PCA initialization in TSNE will change to have the standard deviation of PC1 equal to 1e-4 in 1.2. This will ensure better convergence.\n",
      "  warnings.warn(\n"
     ]
    },
    {
     "ename": "",
     "evalue": "",
     "output_type": "error",
     "traceback": [
      "\u001b[1;31mFailed to restart the Kernel. \n",
      "\u001b[1;31mThe Jupyter notebook server failed to launch in time. \n",
      "\u001b[1;31mView Jupyter <a href='command:jupyter.viewOutput'>log</a> for further details."
     ]
    }
   ],
   "source": [
    "%%time\n",
    "\n",
    "tsne = TSNE(n_components=2, init='pca', learning_rate='auto', perplexity=10)\n",
    "X_embedded = tsne.fit_transform(embeds)"
   ]
  },
  {
   "cell_type": "code",
   "execution_count": null,
   "id": "8122ec69",
   "metadata": {},
   "outputs": [],
   "source": [
    "all_sequences = np.concatenate((cll_sequences, healthy_sequences[:250]))\n",
    "disease_labels = ['CLL'] * 75 + ['Healthy'] * 250"
   ]
  },
  {
   "cell_type": "code",
   "execution_count": 25,
   "id": "5441bd4d",
   "metadata": {},
   "outputs": [
    {
     "data": {
      "text/html": [
       "<div>\n",
       "<style scoped>\n",
       "    .dataframe tbody tr th:only-of-type {\n",
       "        vertical-align: middle;\n",
       "    }\n",
       "\n",
       "    .dataframe tbody tr th {\n",
       "        vertical-align: top;\n",
       "    }\n",
       "\n",
       "    .dataframe thead th {\n",
       "        text-align: right;\n",
       "    }\n",
       "</style>\n",
       "<table border=\"1\" class=\"dataframe\">\n",
       "  <thead>\n",
       "    <tr style=\"text-align: right;\">\n",
       "      <th></th>\n",
       "      <th>t-SNE 1</th>\n",
       "      <th>t-SNE 2</th>\n",
       "      <th>Sequence</th>\n",
       "      <th>Disease Label</th>\n",
       "    </tr>\n",
       "  </thead>\n",
       "  <tbody>\n",
       "    <tr>\n",
       "      <th>0</th>\n",
       "      <td>7.296477</td>\n",
       "      <td>-36.155716</td>\n",
       "      <td>QVQLVQSGAEVKNPGASVKVSCKASGYTFITYAMHWVRQAPGQRLE...</td>\n",
       "      <td>CLL</td>\n",
       "    </tr>\n",
       "    <tr>\n",
       "      <th>1</th>\n",
       "      <td>32.473263</td>\n",
       "      <td>7.692873</td>\n",
       "      <td>GGSLRLSCAASGFSFSDYDINWVRQAPGKGLEWVSGISGSGDSTYY...</td>\n",
       "      <td>CLL</td>\n",
       "    </tr>\n",
       "    <tr>\n",
       "      <th>2</th>\n",
       "      <td>-30.096914</td>\n",
       "      <td>-9.730415</td>\n",
       "      <td>EVQLVETGGGLVQPGKSLELTCATSGFIFNTAWMHWVRQSPDKRLE...</td>\n",
       "      <td>CLL</td>\n",
       "    </tr>\n",
       "    <tr>\n",
       "      <th>3</th>\n",
       "      <td>-13.649794</td>\n",
       "      <td>-34.558796</td>\n",
       "      <td>SQSVKESEGDLVTPAGNLTLTCTASGSDINDYPISWVRQAPGKGLE...</td>\n",
       "      <td>CLL</td>\n",
       "    </tr>\n",
       "    <tr>\n",
       "      <th>4</th>\n",
       "      <td>8.509829</td>\n",
       "      <td>-4.105756</td>\n",
       "      <td>SGGSLRLSCAASGFTFSDHYMDWVRQAPGKGLEWVGRIRTKARSYT...</td>\n",
       "      <td>CLL</td>\n",
       "    </tr>\n",
       "    <tr>\n",
       "      <th>...</th>\n",
       "      <td>...</td>\n",
       "      <td>...</td>\n",
       "      <td>...</td>\n",
       "      <td>...</td>\n",
       "    </tr>\n",
       "    <tr>\n",
       "      <th>320</th>\n",
       "      <td>27.757563</td>\n",
       "      <td>3.200309</td>\n",
       "      <td>EDQLVESGGGLVQPGESLTLSCVASGFTFSLYWMSWVRQAPGKGLE...</td>\n",
       "      <td>Healthy</td>\n",
       "    </tr>\n",
       "    <tr>\n",
       "      <th>321</th>\n",
       "      <td>-32.974010</td>\n",
       "      <td>2.867043</td>\n",
       "      <td>GSLRLSCTVSGGSISGYYWTWIRQPPGKGLEWVGYIFPSGSTNYNP...</td>\n",
       "      <td>Healthy</td>\n",
       "    </tr>\n",
       "    <tr>\n",
       "      <th>322</th>\n",
       "      <td>32.013103</td>\n",
       "      <td>0.858112</td>\n",
       "      <td>GSLRLSCAASGFSISGYWMNWVRQAPGKGLEWGATIKQDGSEKYYV...</td>\n",
       "      <td>Healthy</td>\n",
       "    </tr>\n",
       "    <tr>\n",
       "      <th>323</th>\n",
       "      <td>-41.571224</td>\n",
       "      <td>1.362382</td>\n",
       "      <td>TLSLTCTVSGYSISSGYYWGWIRQSTGQGLEWIASINHSGTSYYNP...</td>\n",
       "      <td>Healthy</td>\n",
       "    </tr>\n",
       "    <tr>\n",
       "      <th>324</th>\n",
       "      <td>33.146545</td>\n",
       "      <td>-3.973138</td>\n",
       "      <td>EVRLVESGGGLVQPGGSLRLSCAASGFIFSNYEMNWVRQAPGKGLE...</td>\n",
       "      <td>Healthy</td>\n",
       "    </tr>\n",
       "  </tbody>\n",
       "</table>\n",
       "<p>325 rows × 4 columns</p>\n",
       "</div>"
      ],
      "text/plain": [
       "       t-SNE 1    t-SNE 2                                           Sequence  \\\n",
       "0     7.296477 -36.155716  QVQLVQSGAEVKNPGASVKVSCKASGYTFITYAMHWVRQAPGQRLE...   \n",
       "1    32.473263   7.692873  GGSLRLSCAASGFSFSDYDINWVRQAPGKGLEWVSGISGSGDSTYY...   \n",
       "2   -30.096914  -9.730415  EVQLVETGGGLVQPGKSLELTCATSGFIFNTAWMHWVRQSPDKRLE...   \n",
       "3   -13.649794 -34.558796  SQSVKESEGDLVTPAGNLTLTCTASGSDINDYPISWVRQAPGKGLE...   \n",
       "4     8.509829  -4.105756  SGGSLRLSCAASGFTFSDHYMDWVRQAPGKGLEWVGRIRTKARSYT...   \n",
       "..         ...        ...                                                ...   \n",
       "320  27.757563   3.200309  EDQLVESGGGLVQPGESLTLSCVASGFTFSLYWMSWVRQAPGKGLE...   \n",
       "321 -32.974010   2.867043  GSLRLSCTVSGGSISGYYWTWIRQPPGKGLEWVGYIFPSGSTNYNP...   \n",
       "322  32.013103   0.858112  GSLRLSCAASGFSISGYWMNWVRQAPGKGLEWGATIKQDGSEKYYV...   \n",
       "323 -41.571224   1.362382  TLSLTCTVSGYSISSGYYWGWIRQSTGQGLEWIASINHSGTSYYNP...   \n",
       "324  33.146545  -3.973138  EVRLVESGGGLVQPGGSLRLSCAASGFIFSNYEMNWVRQAPGKGLE...   \n",
       "\n",
       "    Disease Label  \n",
       "0             CLL  \n",
       "1             CLL  \n",
       "2             CLL  \n",
       "3             CLL  \n",
       "4             CLL  \n",
       "..            ...  \n",
       "320       Healthy  \n",
       "321       Healthy  \n",
       "322       Healthy  \n",
       "323       Healthy  \n",
       "324       Healthy  \n",
       "\n",
       "[325 rows x 4 columns]"
      ]
     },
     "execution_count": 25,
     "metadata": {},
     "output_type": "execute_result"
    }
   ],
   "source": [
    "df = pd.DataFrame()\n",
    "df.insert(0, 't-SNE 1', X_embedded[:,0])\n",
    "df.insert(1, 't-SNE 2', X_embedded[:,1])\n",
    "df.insert(2, 'Sequence', all_sequences)\n",
    "df.insert(3, 'Disease Label', disease_labels)\n",
    "df"
   ]
  },
  {
   "cell_type": "code",
   "execution_count": 26,
   "id": "7aab42d5-29f2-409c-a534-24e453635936",
   "metadata": {},
   "outputs": [
    {
     "data": {
      "image/png": "[encoded data removed]",
      "text/plain": [
       "<Figure size 1200x1200 with 1 Axes>"
      ]
     },
     "metadata": {},
     "output_type": "display_data"
    }
   ],
   "source": [
    "plt.figure(figsize=(12,12))\n",
    "sns.scatterplot(\n",
    "    x=\"t-SNE 1\", y=\"t-SNE 2\",\n",
    "    hue=\"Disease Label\",\n",
    "    data=df,\n",
    "    legend=\"full\"\n",
    ")\n",
    "plt.show()"
   ]
  },
  {
   "cell_type": "markdown",
   "id": "db14a7af",
   "metadata": {},
   "source": [
    "# Model 3: Averaging Embeddings"
   ]
  },
  {
   "cell_type": "code",
   "execution_count": null,
   "id": "5e4d82be-b95e-4fa8-b69b-8595404f4f86",
   "metadata": {},
   "outputs": [
    {
     "ename": "",
     "evalue": "",
     "output_type": "error",
     "traceback": [
      "\u001b[1;31mFailed to start the Kernel. \n",
      "\u001b[1;31mThe Jupyter notebook server failed to launch in time. \n",
      "\u001b[1;31mView Jupyter <a href='command:jupyter.viewOutput'>log</a> for further details."
     ]
    }
   ],
   "source": [
    "X = np.concatenate((healthy_average_embeddings[:75], cll_average_embeddings))\n",
    "y = np.concatenate((healthy_lables, cll_lables))"
   ]
  },
  {
   "cell_type": "code",
   "execution_count": null,
   "id": "568d6d9a",
   "metadata": {},
   "outputs": [
    {
     "ename": "",
     "evalue": "",
     "output_type": "error",
     "traceback": [
      "\u001b[1;31mFailed to start the Kernel. \n",
      "\u001b[1;31mThe Jupyter notebook server failed to launch in time. \n",
      "\u001b[1;31mView Jupyter <a href='command:jupyter.viewOutput'>log</a> for further details."
     ]
    }
   ],
   "source": [
    "del cll_average_embeddings\n",
    "gc.collect()"
   ]
  },
  {
   "cell_type": "code",
   "execution_count": null,
   "id": "7452eec8-9c73-452a-b112-92a653d1fcbf",
   "metadata": {},
   "outputs": [
    {
     "ename": "",
     "evalue": "",
     "output_type": "error",
     "traceback": [
      "\u001b[1;31mFailed to start the Kernel. \n",
      "\u001b[1;31mThe Jupyter notebook server failed to launch in time. \n",
      "\u001b[1;31mView Jupyter <a href='command:jupyter.viewOutput'>log</a> for further details."
     ]
    }
   ],
   "source": [
    "X_train, X_test, y_train, y_test = train_test_split(X, y, test_size=0.2, random_state=42)"
   ]
  },
  {
   "cell_type": "code",
   "execution_count": null,
   "id": "693c497f",
   "metadata": {},
   "outputs": [
    {
     "ename": "",
     "evalue": "",
     "output_type": "error",
     "traceback": [
      "\u001b[1;31mFailed to start the Kernel. \n",
      "\u001b[1;31mThe Jupyter notebook server failed to launch in time. \n",
      "\u001b[1;31mView Jupyter <a href='command:jupyter.viewOutput'>log</a> for further details."
     ]
    }
   ],
   "source": [
    "print(len(X_train))\n",
    "print(len(X_test))"
   ]
  },
  {
   "cell_type": "code",
   "execution_count": null,
   "id": "cccec52e",
   "metadata": {},
   "outputs": [
    {
     "ename": "",
     "evalue": "",
     "output_type": "error",
     "traceback": [
      "\u001b[1;31mFailed to start the Kernel. \n",
      "\u001b[1;31mThe Jupyter notebook server failed to launch in time. \n",
      "\u001b[1;31mView Jupyter <a href='command:jupyter.viewOutput'>log</a> for further details."
     ]
    }
   ],
   "source": [
    "print(len([i for i in y_test if i == 0]))\n",
    "print(len([i for i in y_test if i == 1]))"
   ]
  },
  {
   "cell_type": "code",
   "execution_count": null,
   "id": "308832ba",
   "metadata": {},
   "outputs": [
    {
     "ename": "",
     "evalue": "",
     "output_type": "error",
     "traceback": [
      "\u001b[1;31mFailed to start the Kernel. \n",
      "\u001b[1;31mThe Jupyter notebook server failed to launch in time. \n",
      "\u001b[1;31mView Jupyter <a href='command:jupyter.viewOutput'>log</a> for further details."
     ]
    }
   ],
   "source": [
    "# val_set = zip(X_val, y_val)\n",
    "# new_y_val = []\n",
    "# new_X_val = []\n",
    "# count = 0\n",
    "# for i in val_set:\n",
    "#     if i[1] == 1:\n",
    "#         new_X_val.append(i[0])\n",
    "#         new_y_val.append(i[1])\n",
    "#     if i[1] == 0 and count < 6:\n",
    "#         new_X_val.append(i[0])\n",
    "#         new_y_val.append(i[1])\n",
    "#         count+=1\n",
    "\n",
    "# c = list(zip(new_X_val, new_y_val))\n",
    "\n",
    "# # random.shuffle(c)\n",
    "\n",
    "# X_val, y_val = zip(*c)\n",
    "# y_val = np.array(y_val)\n",
    "# print(y_val)"
   ]
  },
  {
   "cell_type": "code",
   "execution_count": null,
   "id": "308832ba",
   "metadata": {},
   "outputs": [
    {
     "ename": "",
     "evalue": "",
     "output_type": "error",
     "traceback": [
      "\u001b[1;31mFailed to start the Kernel. \n",
      "\u001b[1;31mThe Jupyter notebook server failed to launch in time. \n",
      "\u001b[1;31mView Jupyter <a href='command:jupyter.viewOutput'>log</a> for further details."
     ]
    }
   ],
   "source": [
    "# test_set = zip(X_test, y_test)\n",
    "# new_y_test = []\n",
    "# new_X_test = []\n",
    "# count = 0\n",
    "# for i in test_set:\n",
    "#     if i[1] == 1:\n",
    "#         new_X_test.append(i[0])\n",
    "#         new_y_test.append(i[1])\n",
    "#     if i[1] == 0 and count < 8:\n",
    "#         new_X_test.append(i[0])\n",
    "#         new_y_test.append(i[1])\n",
    "#         count+=1\n",
    "\n",
    "# c = list(zip(new_X_test, new_y_test))\n",
    "\n",
    "# # random.shuffle(c)\n",
    "\n",
    "# X_test, y_test = zip(*c)\n",
    "# y_test = np.array(y_test)\n",
    "# print(y_test)"
   ]
  },
  {
   "cell_type": "code",
   "execution_count": null,
   "id": "e4d7a8f0",
   "metadata": {},
   "outputs": [
    {
     "ename": "",
     "evalue": "",
     "output_type": "error",
     "traceback": [
      "\u001b[1;31mFailed to start the Kernel. \n",
      "\u001b[1;31mThe Jupyter notebook server failed to launch in time. \n",
      "\u001b[1;31mView Jupyter <a href='command:jupyter.viewOutput'>log</a> for further details."
     ]
    }
   ],
   "source": [
    "X_train = np.concatenate((X_train, healthy_average_embeddings[94:]))\n",
    "y_train = np.concatenate((y_train, [0] * len(healthy_average_embeddings[94:])))"
   ]
  },
  {
   "cell_type": "code",
   "execution_count": null,
   "id": "d7a145b8",
   "metadata": {},
   "outputs": [
    {
     "ename": "",
     "evalue": "",
     "output_type": "error",
     "traceback": [
      "\u001b[1;31mFailed to start the Kernel. \n",
      "\u001b[1;31mThe Jupyter notebook server failed to launch in time. \n",
      "\u001b[1;31mView Jupyter <a href='command:jupyter.viewOutput'>log</a> for further details."
     ]
    }
   ],
   "source": [
    "for i in y_train:\n",
    "    print(i)"
   ]
  },
  {
   "cell_type": "code",
   "execution_count": null,
   "id": "22372ea6",
   "metadata": {},
   "outputs": [
    {
     "ename": "",
     "evalue": "",
     "output_type": "error",
     "traceback": [
      "\u001b[1;31mFailed to start the Kernel. \n",
      "\u001b[1;31mThe Jupyter notebook server failed to launch in time. \n",
      "\u001b[1;31mView Jupyter <a href='command:jupyter.viewOutput'>log</a> for further details."
     ]
    }
   ],
   "source": [
    "del X\n",
    "del y\n",
    "del healthy_average_embeddings\n",
    "gc.collect()"
   ]
  },
  {
   "attachments": {},
   "cell_type": "markdown",
   "id": "9599bc6e",
   "metadata": {},
   "source": [
    "### Using SMOTE"
   ]
  },
  {
   "cell_type": "code",
   "execution_count": null,
   "id": "276f8a17",
   "metadata": {},
   "outputs": [
    {
     "ename": "",
     "evalue": "",
     "output_type": "error",
     "traceback": [
      "\u001b[1;31mFailed to start the Kernel. \n",
      "\u001b[1;31mThe Jupyter notebook server failed to launch in time. \n",
      "\u001b[1;31mView Jupyter <a href='command:jupyter.viewOutput'>log</a> for further details."
     ]
    }
   ],
   "source": [
    "# print(len([i for i in y_train if i == 0]))\n",
    "# sm = SMOTE(random_state=42, sampling_strategy=1.0)\n",
    "# X_train, y_train = sm.fit_resample(X_train, y_train)\n",
    "# print(X_train.shape)"
   ]
  },
  {
   "attachments": {},
   "cell_type": "markdown",
   "id": "2e2054a1",
   "metadata": {},
   "source": [
    "### Using Borderline SMOTE"
   ]
  },
  {
   "cell_type": "code",
   "execution_count": null,
   "id": "276f8a17",
   "metadata": {},
   "outputs": [
    {
     "ename": "",
     "evalue": "",
     "output_type": "error",
     "traceback": [
      "\u001b[1;31mFailed to start the Kernel. \n",
      "\u001b[1;31mThe Jupyter notebook server failed to launch in time. \n",
      "\u001b[1;31mView Jupyter <a href='command:jupyter.viewOutput'>log</a> for further details."
     ]
    }
   ],
   "source": [
    "print(len([i for i in y_train if i == 0]))\n",
    "sm = BorderlineSMOTE(random_state=42, sampling_strategy=1.0)\n",
    "X_train, y_train = sm.fit_resample(X_train, y_train)\n",
    "print(X_train.shape)"
   ]
  },
  {
   "cell_type": "code",
   "execution_count": null,
   "id": "4984af8a",
   "metadata": {},
   "outputs": [
    {
     "ename": "",
     "evalue": "",
     "output_type": "error",
     "traceback": [
      "\u001b[1;31mFailed to start the Kernel. \n",
      "\u001b[1;31mThe Jupyter notebook server failed to launch in time. \n",
      "\u001b[1;31mView Jupyter <a href='command:jupyter.viewOutput'>log</a> for further details."
     ]
    }
   ],
   "source": [
    "for i in y_train:\n",
    "    print(i)"
   ]
  },
  {
   "cell_type": "code",
   "execution_count": null,
   "id": "308832ba",
   "metadata": {},
   "outputs": [
    {
     "ename": "",
     "evalue": "",
     "output_type": "error",
     "traceback": [
      "\u001b[1;31mFailed to start the Kernel. \n",
      "\u001b[1;31mThe Jupyter notebook server failed to launch in time. \n",
      "\u001b[1;31mView Jupyter <a href='command:jupyter.viewOutput'>log</a> for further details."
     ]
    }
   ],
   "source": [
    "c = list(zip(X_train, y_train))\n",
    "\n",
    "random.shuffle(c)\n",
    "\n",
    "X_train, y_train = zip(*c)\n",
    "y_train = np.array(y_train)\n",
    "for i in y_train:\n",
    "    print(i)"
   ]
  },
  {
   "attachments": {},
   "cell_type": "markdown",
   "id": "80239e46",
   "metadata": {},
   "source": [
    "### Model Evaluation"
   ]
  },
  {
   "cell_type": "code",
   "execution_count": null,
   "id": "1b3a957b",
   "metadata": {},
   "outputs": [
    {
     "ename": "",
     "evalue": "",
     "output_type": "error",
     "traceback": [
      "\u001b[1;31mFailed to start the Kernel. \n",
      "\u001b[1;31mThe Jupyter notebook server failed to launch in time. \n",
      "\u001b[1;31mView Jupyter <a href='command:jupyter.viewOutput'>log</a> for further details."
     ]
    }
   ],
   "source": [
    "X_train = np.asarray(X_train).astype('float32')\n",
    "X_test = np.asarray(X_test).astype('float32')"
   ]
  },
  {
   "cell_type": "code",
   "execution_count": null,
   "id": "70aa6227-ef6f-45b8-922c-25ba840a1686",
   "metadata": {},
   "outputs": [
    {
     "ename": "",
     "evalue": "",
     "output_type": "error",
     "traceback": [
      "\u001b[1;31mFailed to start the Kernel. \n",
      "\u001b[1;31mThe Jupyter notebook server failed to launch in time. \n",
      "\u001b[1;31mView Jupyter <a href='command:jupyter.viewOutput'>log</a> for further details."
     ]
    }
   ],
   "source": [
    "model = tf.keras.models.Sequential([\n",
    "  tf.keras.layers.Flatten(input_shape=(1024,)),\n",
    "  tf.keras.layers.Dense(1024, activation='relu'),\n",
    "  tf.keras.layers.Dense(784, activation='relu'),\n",
    "  tf.keras.layers.Dropout(0.5, seed=42),\n",
    "  tf.keras.layers.Dense(512, activation='relu'),\n",
    "  tf.keras.layers.Dense(384, activation='relu'),\n",
    "  tf.keras.layers.Dense(256, activation='relu'),\n",
    "  tf.keras.layers.Dropout(0.5, seed=42),\n",
    "  tf.keras.layers.Dense(128, activation='relu'),\n",
    "  tf.keras.layers.Dense(64, activation='relu'),\n",
    "  # tf.keras.layers.Dense(32, activation='relu'),\n",
    "  tf.keras.layers.Dense(16, activation='relu'),\n",
    "  # tf.keras.layers.Dense(8, activation='relu'),\n",
    "  # tf.keras.layers.Dense(4, activation='relu'),\n",
    "  tf.keras.layers.Dense(1, activation='sigmoid')\n",
    "])\n",
    "\n",
    "# model = tf.keras.models.Sequential([\n",
    "#   tf.keras.layers.Flatten(input_shape=(1024,)),\n",
    "#   tf.keras.layers.Dense(1024, activation='relu'),\n",
    "#   tf.keras.layers.Dense(512, activation='relu'),\n",
    "#   tf.keras.layers.Dropout(0.5, seed=42),\n",
    "#   tf.keras.layers.Dense(256, activation='relu'),\n",
    "#   tf.keras.layers.Dense(128, activation='relu'),\n",
    "#   tf.keras.layers.Dropout(0.5, seed=42),\n",
    "#   tf.keras.layers.Dense(64, activation='relu'),\n",
    "#   tf.keras.layers.Dense(32, activation='relu'),\n",
    "#   tf.keras.layers.Dense(16, activation='relu'),\n",
    "#   # tf.keras.layers.Dense(8, activation='relu'),\n",
    "#   # tf.keras.layers.Dense(4, activation='relu'),\n",
    "#   tf.keras.layers.Dense(1, activation='sigmoid')\n",
    "# ])\n",
    "\n",
    "model.summary()"
   ]
  },
  {
   "cell_type": "code",
   "execution_count": null,
   "id": "22349718-95b0-4c78-b2d6-e3da5b6c2bc3",
   "metadata": {},
   "outputs": [
    {
     "ename": "",
     "evalue": "",
     "output_type": "error",
     "traceback": [
      "\u001b[1;31mFailed to start the Kernel. \n",
      "\u001b[1;31mThe Jupyter notebook server failed to launch in time. \n",
      "\u001b[1;31mView Jupyter <a href='command:jupyter.viewOutput'>log</a> for further details."
     ]
    }
   ],
   "source": [
    "model.compile(optimizer='adam',\n",
    "              loss=tf.keras.losses.binary_crossentropy,\n",
    "              metrics=['accuracy'])"
   ]
  },
  {
   "cell_type": "code",
   "execution_count": null,
   "id": "76e19d4a",
   "metadata": {},
   "outputs": [
    {
     "ename": "",
     "evalue": "",
     "output_type": "error",
     "traceback": [
      "\u001b[1;31mFailed to start the Kernel. \n",
      "\u001b[1;31mThe Jupyter notebook server failed to launch in time. \n",
      "\u001b[1;31mView Jupyter <a href='command:jupyter.viewOutput'>log</a> for further details."
     ]
    }
   ],
   "source": [
    "es = tf.keras.callbacks.EarlyStopping(\n",
    "    monitor='val_accuracy',\n",
    "    patience=50,\n",
    "    mode='auto',\n",
    "    restore_best_weights=True,\n",
    ")"
   ]
  },
  {
   "cell_type": "code",
   "execution_count": null,
   "id": "3ad03e70-4fb2-4dcf-b7cd-7aa75c93013e",
   "metadata": {},
   "outputs": [
    {
     "ename": "",
     "evalue": "",
     "output_type": "error",
     "traceback": [
      "\u001b[1;31mFailed to start the Kernel. \n",
      "\u001b[1;31mThe Jupyter notebook server failed to launch in time. \n",
      "\u001b[1;31mView Jupyter <a href='command:jupyter.viewOutput'>log</a> for further details."
     ]
    }
   ],
   "source": [
    "# With SMOTE\n",
    "history = model.fit(X_train, y_train, epochs=500, validation_data = (X_test, y_test), callbacks=[es])"
   ]
  },
  {
   "cell_type": "code",
   "execution_count": null,
   "id": "0a7ad3f5-b9e7-412b-97e4-157f4b40471e",
   "metadata": {},
   "outputs": [
    {
     "ename": "",
     "evalue": "",
     "output_type": "error",
     "traceback": [
      "\u001b[1;31mFailed to start the Kernel. \n",
      "\u001b[1;31mThe Jupyter notebook server failed to launch in time. \n",
      "\u001b[1;31mView Jupyter <a href='command:jupyter.viewOutput'>log</a> for further details."
     ]
    }
   ],
   "source": [
    "plt.plot(history.history['accuracy'])\n",
    "plt.plot(history.history['val_accuracy'])\n",
    "plt.title('CLL vs. Healthy - Protein LM', fontsize=18)\n",
    "plt.ylabel('Accuracy', fontsize=14)\n",
    "plt.xlabel('Epochs', fontsize=14)\n",
    "plt.yticks(np.arange(0.5, 1.0, 0.04))\n",
    "plt.xticks(np.arange(0, 65, 5.0))\n",
    "plt.legend(['train', 'val'], loc='lower right')\n",
    "plt.show()"
   ]
  },
  {
   "cell_type": "markdown",
   "id": "11da2740",
   "metadata": {},
   "source": [
    "## Model 3 Testing"
   ]
  },
  {
   "cell_type": "code",
   "execution_count": 29,
   "id": "3cfb5a0f",
   "metadata": {},
   "outputs": [],
   "source": [
    "model.save(\"cll_model.h5\")"
   ]
  },
  {
   "cell_type": "code",
   "execution_count": 28,
   "id": "5c8ae687-0304-47b1-8a77-f2eadf1c8cc3",
   "metadata": {},
   "outputs": [
    {
     "name": "stdout",
     "output_type": "stream",
     "text": [
      "1/1 [==============================] - 0s 34ms/step - loss: 0.4092 - accuracy: 0.9333\n"
     ]
    },
    {
     "data": {
      "text/plain": [
       "[0.4091931879520416, 0.9333333969116211]"
      ]
     },
     "execution_count": 28,
     "metadata": {},
     "output_type": "execute_result"
    }
   ],
   "source": [
    "model.evaluate(X_test, y_test)"
   ]
  },
  {
   "cell_type": "code",
   "execution_count": 30,
   "id": "987ab23b",
   "metadata": {},
   "outputs": [],
   "source": [
    "model = tf.keras.models.load_model(\"cll_model.h5\")"
   ]
  },
  {
   "cell_type": "code",
   "execution_count": 31,
   "id": "d3c98555-1d8c-4a73-8dd3-da58926a06e0",
   "metadata": {},
   "outputs": [
    {
     "name": "stdout",
     "output_type": "stream",
     "text": [
      "1/1 [==============================] - 0s 147ms/step\n",
      "1/1 [==============================] - 0s 15ms/step\n",
      "1/1 [==============================] - 0s 15ms/step\n",
      "1/1 [==============================] - 0s 14ms/step\n"
     ]
    },
    {
     "name": "stderr",
     "output_type": "stream",
     "text": [
      "2023-01-26 20:01:06.389842: I tensorflow/core/grappler/optimizers/custom_graph_optimizer_registry.cc:114] Plugin optimizer for device_type GPU is enabled.\n"
     ]
    },
    {
     "name": "stdout",
     "output_type": "stream",
     "text": [
      "1/1 [==============================] - 0s 14ms/step\n",
      "1/1 [==============================] - 0s 15ms/step\n",
      "1/1 [==============================] - 0s 17ms/step\n",
      "1/1 [==============================] - 0s 14ms/step\n",
      "1/1 [==============================] - 0s 15ms/step\n",
      "1/1 [==============================] - 0s 16ms/step\n",
      "1/1 [==============================] - 0s 14ms/step\n",
      "1/1 [==============================] - 0s 14ms/step\n",
      "1/1 [==============================] - 0s 17ms/step\n",
      "1/1 [==============================] - 0s 16ms/step\n",
      "1/1 [==============================] - 0s 16ms/step\n",
      "1/1 [==============================] - 0s 15ms/step\n",
      "1/1 [==============================] - 0s 16ms/step\n",
      "1/1 [==============================] - 0s 15ms/step\n",
      "1/1 [==============================] - 0s 14ms/step\n",
      "1/1 [==============================] - 0s 16ms/step\n",
      "1/1 [==============================] - 0s 15ms/step\n",
      "1/1 [==============================] - 0s 15ms/step\n",
      "1/1 [==============================] - 0s 14ms/step\n",
      "1/1 [==============================] - 0s 16ms/step\n",
      "1/1 [==============================] - 0s 18ms/step\n",
      "1/1 [==============================] - 0s 15ms/step\n",
      "1/1 [==============================] - 0s 16ms/step\n",
      "1/1 [==============================] - 0s 15ms/step\n",
      "1/1 [==============================] - 0s 16ms/step\n",
      "1/1 [==============================] - 0s 17ms/step\n"
     ]
    },
    {
     "data": {
      "text/plain": [
       "[array([[0.]], dtype=float32),\n",
       " array([[0.]], dtype=float32),\n",
       " array([[1.]], dtype=float32),\n",
       " array([[1.]], dtype=float32),\n",
       " array([[1.]], dtype=float32),\n",
       " array([[0.]], dtype=float32),\n",
       " array([[0.]], dtype=float32),\n",
       " array([[0.]], dtype=float32),\n",
       " array([[0.]], dtype=float32),\n",
       " array([[1.]], dtype=float32),\n",
       " array([[1.]], dtype=float32),\n",
       " array([[0.]], dtype=float32),\n",
       " array([[0.]], dtype=float32),\n",
       " array([[0.]], dtype=float32),\n",
       " array([[0.]], dtype=float32),\n",
       " array([[0.]], dtype=float32),\n",
       " array([[1.]], dtype=float32),\n",
       " array([[0.]], dtype=float32),\n",
       " array([[0.]], dtype=float32),\n",
       " array([[1.]], dtype=float32),\n",
       " array([[0.]], dtype=float32),\n",
       " array([[1.]], dtype=float32),\n",
       " array([[0.]], dtype=float32),\n",
       " array([[1.]], dtype=float32),\n",
       " array([[1.]], dtype=float32),\n",
       " array([[1.]], dtype=float32),\n",
       " array([[1.]], dtype=float32),\n",
       " array([[1.]], dtype=float32),\n",
       " array([[0.]], dtype=float32),\n",
       " array([[1.]], dtype=float32)]"
      ]
     },
     "execution_count": 31,
     "metadata": {},
     "output_type": "execute_result"
    }
   ],
   "source": [
    "y_pred = []\n",
    "y_true = y_test\n",
    "\n",
    "for i in X_test:\n",
    "    i = np.expand_dims(i, axis=0)\n",
    "    y_pred.append(np.round(model.predict(i)))\n",
    "\n",
    "y_pred"
   ]
  },
  {
   "cell_type": "code",
   "execution_count": 32,
   "id": "4dd1f721",
   "metadata": {},
   "outputs": [
    {
     "data": {
      "image/png": "[encoded data removed]",
      "text/plain": [
       "<Figure size 1000x800 with 2 Axes>"
      ]
     },
     "metadata": {},
     "output_type": "display_data"
    },
    {
     "name": "stdout",
     "output_type": "stream",
     "text": [
      "tf.Tensor(\n",
      "[[15  1]\n",
      " [ 1 13]], shape=(2, 2), dtype=int32)\n"
     ]
    }
   ],
   "source": [
    "correct_labels = np.array(tf.concat([item for item in y_true], axis = 0))\n",
    "predicted_labels = np.array(tf.concat([item for item in y_pred], axis = 0))\n",
    "\n",
    "confusion_mtx = tf.math.confusion_matrix(correct_labels, predicted_labels)\n",
    "plt.figure(figsize=(10, 8))\n",
    "plt.title('    cll vs. Healthy - Confusion Matrix\\n', fontsize=30)\n",
    "sns.set(font_scale=1.5)\n",
    "\n",
    "cmap = sns.color_palette(\"Blues_r\", as_cmap=True)\n",
    "\n",
    "sns.heatmap(confusion_mtx,\n",
    "            xticklabels=[\"Healthy\", \"cll\"],\n",
    "            yticklabels=[\"Healthy\", \"cll\"],\n",
    "            annot=True, fmt='g', annot_kws={\"size\":40}, cmap=cmap)\n",
    "plt.xlabel('Prediction', fontsize=30)\n",
    "plt.ylabel('Ground Truth', fontsize=30)\n",
    "plt.show()\n",
    "\n",
    "print(confusion_mtx)"
   ]
  },
  {
   "cell_type": "code",
   "execution_count": 33,
   "id": "0526582e",
   "metadata": {},
   "outputs": [
    {
     "data": {
      "text/plain": [
       "<tf.Tensor: shape=(2, 2), dtype=int32, numpy=\n",
       "array([[0, 5],\n",
       "       [0, 0]], dtype=int32)>"
      ]
     },
     "execution_count": 33,
     "metadata": {},
     "output_type": "execute_result"
    }
   ],
   "source": [
    "tf.math.confusion_matrix([0, 0, 0, 0, 0], [1, 1, 1, 1, 1]) # represents # of false positives (0 actual 1 pred)"
   ]
  },
  {
   "cell_type": "code",
   "execution_count": 34,
   "id": "9483ae4f",
   "metadata": {},
   "outputs": [
    {
     "data": {
      "image/png": "[encoded data removed]",
      "text/plain": [
       "<Figure size 640x480 with 1 Axes>"
      ]
     },
     "metadata": {},
     "output_type": "display_data"
    }
   ],
   "source": [
    "fpr, tpr, _ = sklearn.metrics.roc_curve(correct_labels,  predicted_labels)\n",
    "auc = sklearn.metrics.roc_auc_score(correct_labels, predicted_labels)\n",
    "plt.plot(fpr,tpr,label=\"AUC = \"+str(auc))\n",
    "plt.legend(loc=4)\n",
    "plt.show()"
   ]
  },
  {
   "cell_type": "code",
   "execution_count": null,
   "id": "ffe0ac34",
   "metadata": {},
   "outputs": [],
   "source": []
  }
 ],
 "metadata": {
  "kernelspec": {
   "display_name": "Python 3.10.8 ('test_env')",
   "language": "python",
   "name": "python3"
  },
  "language_info": {
   "codemirror_mode": {
    "name": "ipython",
    "version": 3
   },
   "file_extension": ".py",
   "mimetype": "text/x-python",
   "name": "python",
   "nbconvert_exporter": "python",
   "pygments_lexer": "ipython3",
   "version": "3.10.8"
  },
  "vscode": {
   "interpreter": {
    "hash": "c38c8779811d1cfaf4b5a784c97578f212c26cffc36ab1ef679f872ba1fdba43"
   }
  }
 },
 "nbformat": 4,
 "nbformat_minor": 5
}
