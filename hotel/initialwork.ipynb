{
 "cells": [
  {
   "cell_type": "code",
   "execution_count": 1,
   "id": "75bdc7ad-1599-4ccd-8abc-5536833571b1",
   "metadata": {},
   "outputs": [],
   "source": [
    "import tensorflow as tf\n",
    "import pandas as pd\n",
    "import numpy as np\n",
    "from sklearn.model_selection import train_test_split\n",
    "from sklearn.metrics import classification_report\n",
    "import matplotlib.pyplot as plt \n",
    "import seaborn as sns\n",
    "import sklearn\n",
    "from Bio.Seq import Seq\n",
    "from transformers import TFBertModel, BertTokenizer,BertConfig\n",
    "import re\n",
    "import pickle\n",
    "import sys\n",
    "import gc\n",
    "import os\n",
    "\n",
    "# np.random.seed(42)\n",
    "# tf.random.set_seed(42)\n",
    "# os.environ['PYTHONHASHSEED']=str(42)\n",
    "tf.keras.utils.set_random_seed(42)\n"
   ]
  },
  {
   "cell_type": "code",
   "execution_count": 2,
   "id": "c91accfd",
   "metadata": {},
   "outputs": [],
   "source": [
    "tokenizer = BertTokenizer.from_pretrained(\"Rostlab/prot_bert_bfd\", do_lower_case=False )"
   ]
  },
  {
   "cell_type": "code",
   "execution_count": 3,
   "id": "eb4e7ca6",
   "metadata": {},
   "outputs": [
    {
     "name": "stdout",
     "output_type": "stream",
     "text": [
      "Metal device set to: Apple M1 Max\n",
      "\n",
      "systemMemory: 64.00 GB\n",
      "maxCacheSize: 24.00 GB\n",
      "\n"
     ]
    },
    {
     "name": "stderr",
     "output_type": "stream",
     "text": [
      "2023-01-22 12:24:07.282927: I tensorflow/core/common_runtime/pluggable_device/pluggable_device_factory.cc:306] Could not identify NUMA node of platform GPU ID 0, defaulting to 0. Your kernel may not have been built with NUMA support.\n",
      "2023-01-22 12:24:07.283103: I tensorflow/core/common_runtime/pluggable_device/pluggable_device_factory.cc:272] Created TensorFlow device (/job:localhost/replica:0/task:0/device:GPU:0 with 0 MB memory) -> physical PluggableDevice (device: 0, name: METAL, pci bus id: <undefined>)\n",
      "Some weights of the PyTorch model were not used when initializing the TF 2.0 model TFBertModel: ['cls.predictions.transform.LayerNorm.weight', 'cls.predictions.bias', 'cls.seq_relationship.bias', 'cls.predictions.transform.dense.weight', 'cls.predictions.transform.LayerNorm.bias', 'cls.seq_relationship.weight', 'cls.predictions.transform.dense.bias', 'cls.predictions.decoder.weight', 'cls.predictions.decoder.bias']\n",
      "- This IS expected if you are initializing TFBertModel from a PyTorch model trained on another task or with another architecture (e.g. initializing a TFBertForSequenceClassification model from a BertForPreTraining model).\n",
      "- This IS NOT expected if you are initializing TFBertModel from a PyTorch model that you expect to be exactly identical (e.g. initializing a TFBertForSequenceClassification model from a BertForSequenceClassification model).\n",
      "All the weights of TFBertModel were initialized from the PyTorch model.\n",
      "If your task is similar to the task the model of the checkpoint was trained on, you can already use TFBertModel for predictions without further training.\n"
     ]
    }
   ],
   "source": [
    "embedding_model = TFBertModel.from_pretrained(\"Rostlab/prot_bert_bfd\", from_pt=True)"
   ]
  },
  {
   "cell_type": "code",
   "execution_count": 4,
   "id": "e3c7bc12",
   "metadata": {},
   "outputs": [],
   "source": [
    "def get_embeddings(sequence_list):\n",
    "    sequence_list = [re.sub(r\"[UZOB]\", \"X\", sequence) for sequence in sequence_list]\n",
    "    ids = tokenizer.batch_encode_plus(sequence_list, add_special_tokens=True, padding=True, return_tensors=\"tf\")\n",
    "    input_ids = ids['input_ids']\n",
    "    attention_mask = np.asarray(ids['attention_mask'])\n",
    "    embedding = np.asarray(embedding_model(input_ids)[0])\n",
    "    average_embeddings = []\n",
    "    for seq_num in range(len(embedding)):\n",
    "\n",
    "        seq_len = (attention_mask[seq_num] == 1).sum()\n",
    "        residues = embedding[seq_num][1:seq_len-1]\n",
    "        average = np.mean(residues, axis=0)\n",
    "        average_embeddings.append(average)\n",
    "\n",
    "    return np.asarray(average_embeddings)"
   ]
  },
  {
   "cell_type": "code",
   "execution_count": 5,
   "id": "a9072ca2",
   "metadata": {},
   "outputs": [
    {
     "name": "stdout",
     "output_type": "stream",
     "text": [
      "[[ 0.07877532 -0.07100235 -0.03651526 ...  0.02056815  0.052767\n",
      "   0.07941834]\n",
      " [ 0.02623458 -0.10717591 -0.07274815 ... -0.04052575  0.00889488\n",
      "  -0.01958423]]\n"
     ]
    }
   ],
   "source": [
    "sequences_Example = [\"A E T C Z A O\",\"S K T Z P\"]\n",
    "\n",
    "average_embeddings = get_embeddings(sequences_Example)\n",
    "print(average_embeddings)"
   ]
  },
  {
   "cell_type": "code",
   "execution_count": 6,
   "id": "dc83dfee",
   "metadata": {},
   "outputs": [
    {
     "data": {
      "text/plain": [
       "8"
      ]
     },
     "execution_count": 6,
     "metadata": {},
     "output_type": "execute_result"
    }
   ],
   "source": [
    "del average_embeddings\n",
    "gc.collect()"
   ]
  },
  {
   "cell_type": "code",
   "execution_count": 7,
   "id": "55a03e97",
   "metadata": {},
   "outputs": [],
   "source": [
    "# Note that row 10467 of the COVID-19 sequences was deleted due to having an empty HCDR3. The total number of COVID-19 samples is now 11,867"
   ]
  },
  {
   "cell_type": "code",
   "execution_count": 8,
   "id": "0ee94ac9-7196-4112-a22a-6139be9dc26a",
   "metadata": {},
   "outputs": [
    {
     "data": {
      "text/plain": [
       "'2.10.0'"
      ]
     },
     "execution_count": 8,
     "metadata": {},
     "output_type": "execute_result"
    }
   ],
   "source": [
    "tf.__version__"
   ]
  },
  {
   "cell_type": "markdown",
   "id": "4cbc4fbf",
   "metadata": {},
   "source": [
    "# Data Formatting"
   ]
  },
  {
   "cell_type": "code",
   "execution_count": 9,
   "id": "550d85f1-6320-432d-8b20-b6531a0fc845",
   "metadata": {
    "tags": []
   },
   "outputs": [],
   "source": [
    "df = pd.read_csv(\"/Volumes/Seagate Portable Drive/Unpaired_COVID/total.csv\")\n",
    "df = df[[\"sequence_alignment_aa\"]]\n",
    "df = df.sample(200000, random_state=42)"
   ]
  },
  {
   "cell_type": "code",
   "execution_count": 11,
   "id": "ca827dc2-3d2e-4bbd-80ae-08b1ea26e6a4",
   "metadata": {},
   "outputs": [
    {
     "name": "stderr",
     "output_type": "stream",
     "text": [
      "/Users/joseph/miniforge3/envs/test_env/lib/python3.10/site-packages/Bio/Seq.py:3482: BiopythonWarning: Partial codon, len(sequence) not a multiple of three. Explicitly trim the sequence or add trailing N before translation. This may become an error in future.\n",
      "  warnings.warn(\n"
     ]
    },
    {
     "name": "stdout",
     "output_type": "stream",
     "text": [
      "['EVQLVQSGPEVKKPGSSVKVSCKASGGTFSNFAFSWVRQAPGQGLEWMGSVILHLGTSTYAQKFQGRVTITADESTSAAFMDLNALTSDDTAVYYCARVVAVPGRVPYWFDPWGQGTLVTVSS', 'TLSLTCAVYGGSFSGYYWSWIRQPPGKGLEWIGEINHSGSTNYNPSLKSRVTISVDTSKNQFSLKLSSVTAADTAVYYCARVPPTSTVTTLGDDYWGQGTLVTVSS', 'QVQLVQSGPEVKKPGASVRVSCKPSGYPFSNYGISWMRQAPGQGLEWMGWVNIDKGNTKYAQKFQDRVTMTTDTSSSTVYLELRSLRSDDTALYYCARERGGYRYGDYWGQGTLVIVSS', 'TLSLTCAVYGGSFSGYYWSWIRQPPGKGLEWIGEIKHSGSTNYIPSLKSRVTISVDTSKNQFSLKLSSVTAADTAVYYCASRAGAAAASWGQGTLVTVSS', 'SETLSLTCAVHGGSFSDYYWTWIRQPPGKGLEWIGEINHRGGTNYNPSLKSRLNILVDTSKSQFSLKLSSVTAADTAVYFCARERFILIRGLTKYYYYMDVWGKGTTVTVS'] 200000\n"
     ]
    }
   ],
   "source": [
    "dummy = []\n",
    "head = []\n",
    "with open(\"../Data/cAb-rep/cAb-Rep_heavy.nt.txt\") as myfile:\n",
    "    # count = 0\n",
    "    for i in myfile:\n",
    "        # if count <= 1:\n",
    "        #     print(i)\n",
    "        #     if i.find(\">\") == -1 & i.find(\"-\") == -1:\n",
    "        #         print(Seq.translate(i.strip()))\n",
    "        #     count+=1\n",
    "        dummy.append(i)\n",
    "    np.random.shuffle(dummy)\n",
    "    \n",
    "    for i in dummy:\n",
    "        if i.find(\">\") == -1 & i.find(\"-\") == -1 & i.find(\"N\") == -1: # These conditions must be met for a valid sequence, the longest was 141. However, there is no 141 sequence for COVID, the greatest is 138, so we go with that\n",
    "            aa_sequence = Seq.translate(i.strip())\n",
    "            if (len(aa_sequence) <= 138) & (len(aa_sequence) >= 100):\n",
    "                head.append(aa_sequence)\n",
    "                if len(head) >= 200000:\n",
    "                    break\n",
    "print(head[:5], len(head))\n",
    "healthy_sequences = head"
   ]
  },
  {
   "cell_type": "code",
   "execution_count": 12,
   "id": "ee3c0779",
   "metadata": {},
   "outputs": [
    {
     "data": {
      "text/plain": [
       "0"
      ]
     },
     "execution_count": 12,
     "metadata": {},
     "output_type": "execute_result"
    }
   ],
   "source": [
    "del head\n",
    "del myfile\n",
    "del dummy\n",
    "gc.collect()"
   ]
  },
  {
   "cell_type": "code",
   "execution_count": null,
   "id": "67483afe-f027-4dd9-9d03-e62e4145b446",
   "metadata": {
    "tags": []
   },
   "outputs": [
    {
     "name": "stdout",
     "output_type": "stream",
     "text": [
      "139\n"
     ]
    }
   ],
   "source": [
    "covid_sequences = df.to_numpy()\n",
    "covid_sequences = np.squeeze(covid_sequences)\n",
    "# np.random.shuffle(covid_sequences)\n",
    "# print(len(max(healthy_sequences, key=len)))\n",
    "print(len(max(covid_sequences, key=len)))"
   ]
  },
  {
   "cell_type": "code",
   "execution_count": null,
   "id": "a42d88a1",
   "metadata": {},
   "outputs": [
    {
     "data": {
      "text/plain": [
       "0"
      ]
     },
     "execution_count": 14,
     "metadata": {},
     "output_type": "execute_result"
    }
   ],
   "source": [
    "del df\n",
    "gc.collect()"
   ]
  },
  {
   "cell_type": "code",
   "execution_count": null,
   "id": "842f6433-f573-4d33-9280-86f26c1ac116",
   "metadata": {},
   "outputs": [],
   "source": [
    "# order from https://www.ncbi.nlm.nih.gov/Class/MLACourse/Modules/MolBioReview/iupac_aa_abbreviations.html"
   ]
  },
  {
   "cell_type": "markdown",
   "id": "7de76540",
   "metadata": {},
   "source": [
    "# Preprocessing"
   ]
  },
  {
   "cell_type": "code",
   "execution_count": null,
   "id": "863149ba",
   "metadata": {},
   "outputs": [],
   "source": [
    "if os.path.exists('/Volumes/Seagate Portable Drive/healthy_embeddings') == False:\n",
    "    os.mkdir('/Volumes/Seagate Portable Drive/healthy_embeddings')"
   ]
  },
  {
   "cell_type": "code",
   "execution_count": null,
   "id": "863149ba",
   "metadata": {},
   "outputs": [],
   "source": [
    "if os.path.exists('/Volumes/Seagate Portable Drive/covid_embeddings') == False:\n",
    "    os.mkdir('/Volumes/Seagate Portable Drive/covid_embeddings')"
   ]
  },
  {
   "cell_type": "code",
   "execution_count": null,
   "id": "a02f41ad",
   "metadata": {},
   "outputs": [],
   "source": [
    "# for i in range(20):\n",
    "#     covid_sequences_new = [(\" \".join(s)) for s in covid_sequences][round(len(covid_sequences) * 0.05 * i):round(len(covid_sequences) * 0.05 * (i+1))]\n",
    "#     covid_average_embeddings, covid_residue_embeddings = get_embeddings(covid_sequences_new)\n",
    "\n",
    "#     with open(\"/Volumes/Seagate Portable Drive/covid_embeddings/\" + str(i) + \".pkl\", \"wb\") as f:\n",
    "#         pickle.dump([covid_average_embeddings, covid_residue_embeddings], f)\n",
    "\n",
    "#     del covid_sequences_new\n",
    "#     del covid_average_embeddings\n",
    "#     del covid_residue_embeddings\n",
    "#     print(\"Finished embeddings for \" +i+ \" of 100\")\n",
    "#     gc.collect()"
   ]
  },
  {
   "cell_type": "code",
   "execution_count": null,
   "id": "bb01187f",
   "metadata": {},
   "outputs": [],
   "source": [
    "for i in range(100):\n",
    "    healthy_sequences_new = [(\" \".join(s)) for s in healthy_sequences][round(len(healthy_sequences) * 0.01 * i):round(len(healthy_sequences) * 0.01 * (i+1))]\n",
    "    healthy_average_embeddings = get_embeddings(healthy_sequences_new)\n",
    "\n",
    "    with open(\"/Volumes/Seagate Portable Drive/healthy_embeddings/\" + str(i) + \".pkl\", \"wb\") as f:\n",
    "        pickle.dump([healthy_average_embeddings], f)\n",
    "\n",
    "    del healthy_sequences_new\n",
    "    del healthy_average_embeddings\n",
    "    print(\"Finished embeddings for \" +str(i)+ \" of 100\")\n",
    "    gc.collect()"
   ]
  },
  {
   "cell_type": "code",
   "execution_count": null,
   "id": "bb01187f",
   "metadata": {},
   "outputs": [],
   "source": [
    "for i in range(100):\n",
    "    covid_sequences_new = [(\" \".join(s)) for s in covid_sequences][round(len(covid_sequences) * 0.01 * i):round(len(covid_sequences) * 0.01 * (i+1))]\n",
    "    covid_average_embeddings = get_embeddings(covid_sequences_new)\n",
    "\n",
    "    with open(\"/Volumes/Seagate Portable Drive/covid_embeddings/\" + str(i) + \".pkl\", \"wb\") as f:\n",
    "        pickle.dump([covid_average_embeddings], f)\n",
    "\n",
    "    del covid_sequences_new\n",
    "    del covid_average_embeddings\n",
    "    print(\"Finished embeddings for \" +str(i)+ \" of 100\")\n",
    "    gc.collect()"
   ]
  },
  {
   "cell_type": "code",
   "execution_count": null,
   "metadata": {},
   "outputs": [],
   "source": []
  }
 ],
 "metadata": {
  "kernelspec": {
   "display_name": "test_env",
   "language": "python",
   "name": "python3"
  },
  "language_info": {
   "codemirror_mode": {
    "name": "ipython",
    "version": 3
   },
   "file_extension": ".py",
   "mimetype": "text/x-python",
   "name": "python",
   "nbconvert_exporter": "python",
   "pygments_lexer": "ipython3",
   "version": "3.10.8"
  },
  "orig_nbformat": 4,
  "vscode": {
   "interpreter": {
    "hash": "c38c8779811d1cfaf4b5a784c97578f212c26cffc36ab1ef679f872ba1fdba43"
   }
  }
 },
 "nbformat": 4,
 "nbformat_minor": 2
}
