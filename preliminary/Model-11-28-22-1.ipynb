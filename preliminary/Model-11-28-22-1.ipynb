{
 "cells": [
  {
   "cell_type": "code",
   "execution_count": 1,
   "id": "75bdc7ad-1599-4ccd-8abc-5536833571b1",
   "metadata": {},
   "outputs": [],
   "source": [
    "import tensorflow as tf\n",
    "import os\n",
    "import shutil\n",
    "import pandas as pd\n",
    "import numpy as np\n",
    "from sklearn.preprocessing import OneHotEncoder\n",
    "from sklearn.model_selection import train_test_split\n",
    "import matplotlib.pyplot as plt \n",
    "import seaborn as sns\n",
    "import scikitplot as skplt\n",
    "from sklearn.metrics import classification_report\n",
    "import sklearn\n",
    "np.random.seed(42)"
   ]
  },
  {
   "cell_type": "markdown",
   "id": "2fad3e1a",
   "metadata": {},
   "source": [
    "Changes from previous version: I am implementing this with a CLL dataset only CDR3's (since I have data for this)"
   ]
  },
  {
   "cell_type": "code",
   "execution_count": 2,
   "id": "55a03e97",
   "metadata": {},
   "outputs": [],
   "source": [
    "# Note that row 10467 of the cll-19 sequences was deleted due to having an empty HCDR3. The total number of cll-19 samples is now 11,867"
   ]
  },
  {
   "cell_type": "code",
   "execution_count": 3,
   "id": "0ee94ac9-7196-4112-a22a-6139be9dc26a",
   "metadata": {},
   "outputs": [
    {
     "data": {
      "text/plain": [
       "'2.10.0'"
      ]
     },
     "execution_count": 3,
     "metadata": {},
     "output_type": "execute_result"
    }
   ],
   "source": [
    "tf.__version__"
   ]
  },
  {
   "cell_type": "markdown",
   "id": "978f581e",
   "metadata": {},
   "source": [
    "# Preprocessing"
   ]
  },
  {
   "cell_type": "code",
   "execution_count": 4,
   "id": "ca827dc2-3d2e-4bbd-80ae-08b1ea26e6a4",
   "metadata": {},
   "outputs": [
    {
     "name": "stdout",
     "output_type": "stream",
     "text": [
      "['AKGDPGTKVTTNYYGMDV ', 'ARAPVCGGDCYYFDY ', 'ARGGDGYEFDY ', 'CARHIEAIGSVGFDLW\\n', 'CARDLAAVAIDPW\\n'] 1095\n"
     ]
    }
   ],
   "source": [
    "head = []\n",
    "with open(\"../Data/cAb-rep/cAb-Rep_heavy.nt.txt\") as myfile:\n",
    "    for i in myfile:\n",
    "        if i.find(\"cdr3_aa_seq=\") != -1:\n",
    "            if (len(i.split('cdr3_aa_seq=')[-1].split('size=')[0]) > 28):\n",
    "                continue\n",
    "            head.append(i.split('cdr3_aa_seq=')[-1].split('size=')[0])\n",
    "    np.random.shuffle(head)\n",
    "    head = head[:1095]\n",
    "print(head[:5], len(head))\n",
    "healthy_sequences = head"
   ]
  },
  {
   "cell_type": "code",
   "execution_count": 5,
   "id": "550d85f1-6320-432d-8b20-b6531a0fc845",
   "metadata": {
    "tags": []
   },
   "outputs": [
    {
     "data": {
      "text/plain": [
       "0       ARDVDYYDSSGYYRYYYYGMDV\n",
       "1       ARENGYDFWSGYYGDPYYGMDV\n",
       "2       AVADYDFWSGYYPNYYYYGMDV\n",
       "3       ARDKDYDFWSGYYDYYYYGMDV\n",
       "4       ARLQYDFWSGYLNYYYYYGMDV\n",
       "                 ...          \n",
       "1090            ARGANGAVAGTFDY\n",
       "1091            ARGTPGDYSRPFDY\n",
       "1092            ARGCAGDYIFPFDY\n",
       "1093            AKDSAGDYVFPMTY\n",
       "1094            AKGPRGDYVSAFDI\n",
       "Name: VH CDR3 sequence, Length: 1095, dtype: object"
      ]
     },
     "execution_count": 5,
     "metadata": {},
     "output_type": "execute_result"
    }
   ],
   "source": [
    "df = pd.read_excel(\"../Data/CLL/BCellStereotype2012-1.xlsx\")\n",
    "df = df[\"VH CDR3 sequence\"]\n",
    "df = df.str.upper()\n",
    "df\n",
    "# df = pd.read_csv(\"../Data/CoV-AbDab_031022.csv\")\n",
    "# df = df[\"CDRH3\"]\n",
    "# df = df.truncate(before=0, after=1094)\n",
    "# df"
   ]
  },
  {
   "cell_type": "code",
   "execution_count": 6,
   "id": "67483afe-f027-4dd9-9d03-e62e4145b446",
   "metadata": {
    "tags": []
   },
   "outputs": [
    {
     "name": "stdout",
     "output_type": "stream",
     "text": [
      "27\n",
      "27\n"
     ]
    }
   ],
   "source": [
    "cll_sequences = df.to_numpy()\n",
    "cll_sequences = np.squeeze(cll_sequences)\n",
    "# print(healthy_sequences)\n",
    "print(len(max(healthy_sequences, key=len)))\n",
    "print(len(max(cll_sequences, key=len)))\n",
    "\n",
    "# print(cll_sequences)"
   ]
  },
  {
   "cell_type": "code",
   "execution_count": 7,
   "id": "842f6433-f573-4d33-9280-86f26c1ac116",
   "metadata": {},
   "outputs": [],
   "source": [
    "# order from https://www.ncbi.nlm.nih.gov/Class/MLACourse/Modules/MolBioReview/iupac_aa_abbreviations.html"
   ]
  },
  {
   "cell_type": "code",
   "execution_count": 8,
   "id": "9cbddb66-062b-4be0-8384-222413c3aa62",
   "metadata": {
    "tags": []
   },
   "outputs": [
    {
     "name": "stdout",
     "output_type": "stream",
     "text": [
      "1095\n"
     ]
    }
   ],
   "source": [
    "cll_onehot = []\n",
    "healthy_onehot = []\n",
    "\n",
    "order = \"ARNDCQEGHILKMFPSTWYV\"\n",
    "\n",
    "for i in cll_sequences:\n",
    "    i = i.strip()\n",
    "    count = 0\n",
    "    b = np.zeros((27, 20))\n",
    "    for j in i:\n",
    "        b[count, order.index(j)] = 1\n",
    "        count+=1\n",
    "    cll_onehot.append(b)\n",
    "\n",
    "# print(cll_onehot)\n",
    "\n",
    "unique_aa = []\n",
    "\n",
    "for i in healthy_sequences:\n",
    "    i = i.strip()\n",
    "    count = 0\n",
    "    b = np.zeros((27, 20))\n",
    "    unique_aa = list(set(i)) + list(set(unique_aa))\n",
    "    for j in i:\n",
    "        b[count, order.index(j)] = 1\n",
    "        count+=1\n",
    "    healthy_onehot.append(b)\n",
    "    \n",
    "# print(set(unique_aa))\n",
    "\n",
    "# print(healthy_onehot)\n",
    "\n",
    "print(len(cll_onehot))\n",
    "\n",
    "# set infected 1, healthy 0"
   ]
  },
  {
   "cell_type": "code",
   "execution_count": 9,
   "id": "b745d707-e2ff-4562-9e2d-a602b198b1c1",
   "metadata": {
    "tags": []
   },
   "outputs": [],
   "source": [
    "healthy_lables = [0] * 1095\n",
    "cll_lables = [1] * 1095"
   ]
  },
  {
   "cell_type": "code",
   "execution_count": 10,
   "id": "5e4d82be-b95e-4fa8-b69b-8595404f4f86",
   "metadata": {},
   "outputs": [],
   "source": [
    "X = np.concatenate((healthy_onehot, cll_onehot))\n",
    "y = np.concatenate((healthy_lables, cll_lables))"
   ]
  },
  {
   "cell_type": "code",
   "execution_count": 11,
   "id": "7452eec8-9c73-452a-b112-92a653d1fcbf",
   "metadata": {},
   "outputs": [],
   "source": [
    "X_train, X_test, y_train, y_test = train_test_split(X, y, test_size=0.1, random_state=42)\n",
    "    \n",
    "X_train, X_val, y_train, y_val = train_test_split(X_train, y_train, test_size=0.1, random_state=42)"
   ]
  },
  {
   "cell_type": "code",
   "execution_count": 12,
   "id": "f1d2e257",
   "metadata": {},
   "outputs": [
    {
     "name": "stdout",
     "output_type": "stream",
     "text": [
      "[[[1. 0. 0. ... 0. 0. 0.]\n",
      "  [0. 1. 0. ... 0. 0. 0.]\n",
      "  [0. 0. 0. ... 0. 0. 0.]\n",
      "  ...\n",
      "  [0. 0. 0. ... 0. 0. 0.]\n",
      "  [0. 0. 0. ... 0. 0. 0.]\n",
      "  [0. 0. 0. ... 0. 0. 0.]]\n",
      "\n",
      " [[0. 0. 0. ... 0. 0. 0.]\n",
      "  [1. 0. 0. ... 0. 0. 0.]\n",
      "  [0. 0. 0. ... 0. 0. 0.]\n",
      "  ...\n",
      "  [0. 0. 0. ... 0. 0. 0.]\n",
      "  [0. 0. 0. ... 0. 0. 0.]\n",
      "  [0. 0. 0. ... 0. 0. 0.]]\n",
      "\n",
      " [[1. 0. 0. ... 0. 0. 0.]\n",
      "  [0. 1. 0. ... 0. 0. 0.]\n",
      "  [0. 0. 0. ... 0. 0. 0.]\n",
      "  ...\n",
      "  [0. 0. 0. ... 0. 0. 0.]\n",
      "  [0. 0. 0. ... 0. 0. 0.]\n",
      "  [0. 0. 0. ... 0. 0. 0.]]\n",
      "\n",
      " ...\n",
      "\n",
      " [[1. 0. 0. ... 0. 0. 0.]\n",
      "  [0. 1. 0. ... 0. 0. 0.]\n",
      "  [0. 0. 0. ... 0. 0. 0.]\n",
      "  ...\n",
      "  [0. 0. 0. ... 0. 0. 0.]\n",
      "  [0. 0. 0. ... 0. 0. 0.]\n",
      "  [0. 0. 0. ... 0. 0. 0.]]\n",
      "\n",
      " [[1. 0. 0. ... 0. 0. 0.]\n",
      "  [0. 1. 0. ... 0. 0. 0.]\n",
      "  [0. 0. 0. ... 0. 0. 0.]\n",
      "  ...\n",
      "  [0. 0. 0. ... 0. 0. 0.]\n",
      "  [0. 0. 0. ... 0. 0. 0.]\n",
      "  [0. 0. 0. ... 0. 0. 0.]]\n",
      "\n",
      " [[1. 0. 0. ... 0. 0. 0.]\n",
      "  [0. 1. 0. ... 0. 0. 0.]\n",
      "  [0. 0. 0. ... 0. 0. 0.]\n",
      "  ...\n",
      "  [0. 0. 0. ... 0. 0. 0.]\n",
      "  [0. 0. 0. ... 0. 0. 0.]\n",
      "  [0. 0. 0. ... 0. 0. 0.]]]\n",
      "[1 0 0 ... 1 1 1]\n"
     ]
    }
   ],
   "source": [
    "print(X_train)\n",
    "print(y_train)"
   ]
  },
  {
   "cell_type": "markdown",
   "id": "bf83b6d1",
   "metadata": {},
   "source": [
    "# Model"
   ]
  },
  {
   "cell_type": "code",
   "execution_count": 13,
   "id": "70aa6227-ef6f-45b8-922c-25ba840a1686",
   "metadata": {},
   "outputs": [
    {
     "name": "stdout",
     "output_type": "stream",
     "text": [
      "Metal device set to: Apple M1 Max\n",
      "\n",
      "systemMemory: 64.00 GB\n",
      "maxCacheSize: 24.00 GB\n",
      "\n"
     ]
    },
    {
     "name": "stderr",
     "output_type": "stream",
     "text": [
      "2022-12-04 16:21:53.713733: I tensorflow/core/common_runtime/pluggable_device/pluggable_device_factory.cc:306] Could not identify NUMA node of platform GPU ID 0, defaulting to 0. Your kernel may not have been built with NUMA support.\n",
      "2022-12-04 16:21:53.713864: I tensorflow/core/common_runtime/pluggable_device/pluggable_device_factory.cc:272] Created TensorFlow device (/job:localhost/replica:0/task:0/device:GPU:0 with 0 MB memory) -> physical PluggableDevice (device: 0, name: METAL, pci bus id: <undefined>)\n"
     ]
    }
   ],
   "source": [
    "model = tf.keras.models.Sequential([\n",
    "  tf.keras.layers.Flatten(input_shape=(27, 20)),\n",
    "  tf.keras.layers.Dense(256, activation='relu'),\n",
    "  tf.keras.layers.Dense(128, activation='relu'),\n",
    "  tf.keras.layers.Dropout(0.5),\n",
    "  tf.keras.layers.Dense(64, activation='relu'),\n",
    "  tf.keras.layers.Dense(32, activation='relu'),\n",
    "  tf.keras.layers.Dropout(0.5),\n",
    "  tf.keras.layers.Dense(16, activation='relu'),\n",
    "  tf.keras.layers.Dense(4, activation='relu'),\n",
    "  tf.keras.layers.Dense(1, activation='sigmoid')\n",
    "])"
   ]
  },
  {
   "cell_type": "code",
   "execution_count": 14,
   "id": "22349718-95b0-4c78-b2d6-e3da5b6c2bc3",
   "metadata": {},
   "outputs": [],
   "source": [
    "model.compile(optimizer='adam',\n",
    "              loss=tf.keras.losses.binary_crossentropy,\n",
    "              metrics=['accuracy'])"
   ]
  },
  {
   "cell_type": "code",
   "execution_count": 15,
   "id": "3ad03e70-4fb2-4dcf-b7cd-7aa75c93013e",
   "metadata": {},
   "outputs": [
    {
     "name": "stdout",
     "output_type": "stream",
     "text": [
      "Epoch 1/25\n"
     ]
    },
    {
     "name": "stderr",
     "output_type": "stream",
     "text": [
      "2022-12-04 16:21:53.999543: W tensorflow/core/platform/profile_utils/cpu_utils.cc:128] Failed to get CPU frequency: 0 Hz\n",
      "2022-12-04 16:21:54.371610: I tensorflow/core/grappler/optimizers/custom_graph_optimizer_registry.cc:114] Plugin optimizer for device_type GPU is enabled.\n"
     ]
    },
    {
     "name": "stdout",
     "output_type": "stream",
     "text": [
      "56/56 [==============================] - 2s 22ms/step - loss: 0.5860 - accuracy: 0.6182 - val_loss: 0.4298 - val_accuracy: 0.9141\n",
      "Epoch 2/25\n",
      " 1/56 [..............................] - ETA: 0s - loss: 0.5222 - accuracy: 0.8438"
     ]
    },
    {
     "name": "stderr",
     "output_type": "stream",
     "text": [
      "2022-12-04 16:21:55.818499: I tensorflow/core/grappler/optimizers/custom_graph_optimizer_registry.cc:114] Plugin optimizer for device_type GPU is enabled.\n"
     ]
    },
    {
     "name": "stdout",
     "output_type": "stream",
     "text": [
      "56/56 [==============================] - 1s 11ms/step - loss: 0.3902 - accuracy: 0.9239 - val_loss: 0.3529 - val_accuracy: 0.9141\n",
      "Epoch 3/25\n",
      "56/56 [==============================] - 1s 11ms/step - loss: 0.1937 - accuracy: 0.9628 - val_loss: 0.1022 - val_accuracy: 0.9697\n",
      "Epoch 4/25\n",
      "56/56 [==============================] - 1s 11ms/step - loss: 0.0718 - accuracy: 0.9797 - val_loss: 0.1083 - val_accuracy: 0.9646\n",
      "Epoch 5/25\n",
      "56/56 [==============================] - 1s 11ms/step - loss: 0.0485 - accuracy: 0.9865 - val_loss: 0.1280 - val_accuracy: 0.9646\n",
      "Epoch 6/25\n",
      "56/56 [==============================] - 1s 10ms/step - loss: 0.0206 - accuracy: 0.9932 - val_loss: 0.1159 - val_accuracy: 0.9747\n",
      "Epoch 7/25\n",
      "56/56 [==============================] - 1s 10ms/step - loss: 0.0064 - accuracy: 0.9977 - val_loss: 0.1403 - val_accuracy: 0.9646\n",
      "Epoch 8/25\n",
      "56/56 [==============================] - 1s 11ms/step - loss: 0.0023 - accuracy: 0.9994 - val_loss: 0.1266 - val_accuracy: 0.9747\n",
      "Epoch 9/25\n",
      "56/56 [==============================] - 1s 10ms/step - loss: 0.0013 - accuracy: 0.9994 - val_loss: 0.1370 - val_accuracy: 0.9747\n",
      "Epoch 10/25\n",
      "56/56 [==============================] - 1s 11ms/step - loss: 0.0069 - accuracy: 0.9983 - val_loss: 0.1575 - val_accuracy: 0.9646\n",
      "Epoch 11/25\n",
      "56/56 [==============================] - 1s 10ms/step - loss: 0.0074 - accuracy: 0.9972 - val_loss: 0.2347 - val_accuracy: 0.9495\n",
      "Epoch 12/25\n",
      "56/56 [==============================] - 1s 12ms/step - loss: 0.0071 - accuracy: 0.9983 - val_loss: 0.1827 - val_accuracy: 0.9646\n",
      "Epoch 13/25\n",
      "56/56 [==============================] - 1s 12ms/step - loss: 0.0022 - accuracy: 0.9994 - val_loss: 0.1383 - val_accuracy: 0.9747\n",
      "Epoch 14/25\n",
      "56/56 [==============================] - 1s 11ms/step - loss: 0.0072 - accuracy: 0.9972 - val_loss: 0.1190 - val_accuracy: 0.9747\n",
      "Epoch 15/25\n",
      "56/56 [==============================] - 1s 11ms/step - loss: 9.2483e-04 - accuracy: 1.0000 - val_loss: 0.1655 - val_accuracy: 0.9697\n",
      "Epoch 16/25\n",
      "56/56 [==============================] - 1s 11ms/step - loss: 8.5829e-04 - accuracy: 1.0000 - val_loss: 0.1483 - val_accuracy: 0.9747\n",
      "Epoch 17/25\n",
      "56/56 [==============================] - 1s 10ms/step - loss: 5.8298e-04 - accuracy: 1.0000 - val_loss: 0.1849 - val_accuracy: 0.9697\n",
      "Epoch 18/25\n",
      "56/56 [==============================] - 1s 10ms/step - loss: 1.6772e-04 - accuracy: 1.0000 - val_loss: 0.1920 - val_accuracy: 0.9697\n",
      "Epoch 19/25\n",
      "56/56 [==============================] - 1s 10ms/step - loss: 1.1469e-04 - accuracy: 1.0000 - val_loss: 0.1982 - val_accuracy: 0.9697\n",
      "Epoch 20/25\n",
      "56/56 [==============================] - 1s 10ms/step - loss: 1.7415e-04 - accuracy: 1.0000 - val_loss: 0.1974 - val_accuracy: 0.9697\n",
      "Epoch 21/25\n",
      "56/56 [==============================] - 1s 10ms/step - loss: 7.2890e-05 - accuracy: 1.0000 - val_loss: 0.2006 - val_accuracy: 0.9697\n",
      "Epoch 22/25\n",
      "56/56 [==============================] - 1s 10ms/step - loss: 7.0201e-05 - accuracy: 1.0000 - val_loss: 0.2076 - val_accuracy: 0.9697\n",
      "Epoch 23/25\n",
      "56/56 [==============================] - 1s 10ms/step - loss: 7.2207e-05 - accuracy: 1.0000 - val_loss: 0.2138 - val_accuracy: 0.9697\n",
      "Epoch 24/25\n",
      "56/56 [==============================] - 1s 11ms/step - loss: 6.2929e-05 - accuracy: 1.0000 - val_loss: 0.2205 - val_accuracy: 0.9697\n",
      "Epoch 25/25\n",
      "56/56 [==============================] - 1s 10ms/step - loss: 6.5007e-05 - accuracy: 1.0000 - val_loss: 0.2261 - val_accuracy: 0.9697\n"
     ]
    }
   ],
   "source": [
    "history = model.fit(X_train, y_train, epochs=25, validation_data = (X_val, y_val))"
   ]
  },
  {
   "cell_type": "code",
   "execution_count": 16,
   "id": "0a7ad3f5-b9e7-412b-97e4-157f4b40471e",
   "metadata": {},
   "outputs": [
    {
     "data": {
      "image/png": "[encoded data removed]",
      "text/plain": [
       "<Figure size 640x480 with 1 Axes>"
      ]
     },
     "metadata": {},
     "output_type": "display_data"
    }
   ],
   "source": [
    "plt.plot(history.history['accuracy'])\n",
    "plt.plot(history.history['val_accuracy'])\n",
    "plt.title('Model Accuracy')\n",
    "plt.ylabel('Accuracy')\n",
    "plt.xlabel('Epochs')\n",
    "plt.legend(['train', 'val'], loc='lower right')\n",
    "plt.show()"
   ]
  },
  {
   "cell_type": "markdown",
   "id": "11da2740",
   "metadata": {},
   "source": [
    "# Testing"
   ]
  },
  {
   "cell_type": "code",
   "execution_count": 17,
   "id": "5c8ae687-0304-47b1-8a77-f2eadf1c8cc3",
   "metadata": {},
   "outputs": [
    {
     "name": "stdout",
     "output_type": "stream",
     "text": [
      "7/7 [==============================] - 0s 13ms/step - loss: 0.3114 - accuracy: 0.9635\n"
     ]
    },
    {
     "data": {
      "text/plain": [
       "[0.31138309836387634, 0.9634703993797302]"
      ]
     },
     "execution_count": 17,
     "metadata": {},
     "output_type": "execute_result"
    }
   ],
   "source": [
    "model.evaluate(X_test, y_test)"
   ]
  },
  {
   "cell_type": "code",
   "execution_count": 18,
   "id": "d3c98555-1d8c-4a73-8dd3-da58926a06e0",
   "metadata": {},
   "outputs": [
    {
     "name": "stdout",
     "output_type": "stream",
     "text": [
      "1/1 [==============================] - 0s 109ms/step\n",
      "1/1 [==============================] - 0s 15ms/step\n",
      "1/1 [==============================] - 0s 14ms/step\n",
      "1/1 [==============================] - 0s 15ms/step\n"
     ]
    },
    {
     "name": "stderr",
     "output_type": "stream",
     "text": [
      "2022-12-04 16:22:10.905972: I tensorflow/core/grappler/optimizers/custom_graph_optimizer_registry.cc:114] Plugin optimizer for device_type GPU is enabled.\n"
     ]
    },
    {
     "name": "stdout",
     "output_type": "stream",
     "text": [
      "1/1 [==============================] - 0s 14ms/step\n",
      "1/1 [==============================] - 0s 16ms/step\n",
      "1/1 [==============================] - 0s 15ms/step\n",
      "1/1 [==============================] - 0s 15ms/step\n",
      "1/1 [==============================] - 0s 16ms/step\n",
      "1/1 [==============================] - 0s 14ms/step\n",
      "1/1 [==============================] - 0s 14ms/step\n",
      "1/1 [==============================] - 0s 13ms/step\n",
      "1/1 [==============================] - 0s 13ms/step\n",
      "1/1 [==============================] - 0s 13ms/step\n",
      "1/1 [==============================] - 0s 16ms/step\n",
      "1/1 [==============================] - 0s 16ms/step\n",
      "1/1 [==============================] - 0s 15ms/step\n",
      "1/1 [==============================] - 0s 16ms/step\n",
      "1/1 [==============================] - 0s 18ms/step\n",
      "1/1 [==============================] - 0s 14ms/step\n",
      "1/1 [==============================] - 0s 17ms/step\n",
      "1/1 [==============================] - 0s 16ms/step\n",
      "1/1 [==============================] - 0s 17ms/step\n",
      "1/1 [==============================] - 0s 15ms/step\n",
      "1/1 [==============================] - 0s 15ms/step\n",
      "1/1 [==============================] - 0s 17ms/step\n",
      "1/1 [==============================] - 0s 17ms/step\n",
      "1/1 [==============================] - 0s 16ms/step\n",
      "1/1 [==============================] - 0s 15ms/step\n",
      "1/1 [==============================] - 0s 16ms/step\n",
      "1/1 [==============================] - 0s 16ms/step\n",
      "1/1 [==============================] - 0s 15ms/step\n",
      "1/1 [==============================] - 0s 16ms/step\n",
      "1/1 [==============================] - 0s 16ms/step\n",
      "1/1 [==============================] - 0s 14ms/step\n",
      "1/1 [==============================] - 0s 15ms/step\n",
      "1/1 [==============================] - 0s 16ms/step\n",
      "1/1 [==============================] - 0s 16ms/step\n",
      "1/1 [==============================] - 0s 16ms/step\n",
      "1/1 [==============================] - 0s 14ms/step\n",
      "1/1 [==============================] - 0s 13ms/step\n",
      "1/1 [==============================] - 0s 15ms/step\n",
      "1/1 [==============================] - 0s 13ms/step\n",
      "1/1 [==============================] - 0s 14ms/step\n",
      "1/1 [==============================] - 0s 14ms/step\n",
      "1/1 [==============================] - 0s 14ms/step\n",
      "1/1 [==============================] - 0s 14ms/step\n",
      "1/1 [==============================] - 0s 16ms/step\n",
      "1/1 [==============================] - 0s 16ms/step\n",
      "1/1 [==============================] - 0s 15ms/step\n",
      "1/1 [==============================] - 0s 17ms/step\n",
      "1/1 [==============================] - 0s 14ms/step\n",
      "1/1 [==============================] - 0s 16ms/step\n",
      "1/1 [==============================] - 0s 16ms/step\n",
      "1/1 [==============================] - 0s 16ms/step\n",
      "1/1 [==============================] - 0s 14ms/step\n",
      "1/1 [==============================] - 0s 13ms/step\n",
      "1/1 [==============================] - 0s 14ms/step\n",
      "1/1 [==============================] - 0s 15ms/step\n",
      "1/1 [==============================] - 0s 13ms/step\n",
      "1/1 [==============================] - 0s 14ms/step\n",
      "1/1 [==============================] - 0s 14ms/step\n",
      "1/1 [==============================] - 0s 13ms/step\n",
      "1/1 [==============================] - 0s 14ms/step\n",
      "1/1 [==============================] - 0s 13ms/step\n",
      "1/1 [==============================] - 0s 13ms/step\n",
      "1/1 [==============================] - 0s 14ms/step\n",
      "1/1 [==============================] - 0s 13ms/step\n",
      "1/1 [==============================] - 0s 14ms/step\n",
      "1/1 [==============================] - 0s 13ms/step\n",
      "1/1 [==============================] - 0s 14ms/step\n",
      "1/1 [==============================] - 0s 13ms/step\n",
      "1/1 [==============================] - 0s 14ms/step\n",
      "1/1 [==============================] - 0s 14ms/step\n",
      "1/1 [==============================] - 0s 14ms/step\n",
      "1/1 [==============================] - 0s 14ms/step\n",
      "1/1 [==============================] - 0s 14ms/step\n",
      "1/1 [==============================] - 0s 13ms/step\n",
      "1/1 [==============================] - 0s 13ms/step\n",
      "1/1 [==============================] - 0s 13ms/step\n",
      "1/1 [==============================] - 0s 14ms/step\n",
      "1/1 [==============================] - 0s 13ms/step\n",
      "1/1 [==============================] - 0s 14ms/step\n",
      "1/1 [==============================] - 0s 14ms/step\n",
      "1/1 [==============================] - 0s 13ms/step\n",
      "1/1 [==============================] - 0s 14ms/step\n",
      "1/1 [==============================] - 0s 14ms/step\n",
      "1/1 [==============================] - 0s 13ms/step\n",
      "1/1 [==============================] - 0s 13ms/step\n",
      "1/1 [==============================] - 0s 14ms/step\n",
      "1/1 [==============================] - 0s 14ms/step\n",
      "1/1 [==============================] - 0s 14ms/step\n",
      "1/1 [==============================] - 0s 14ms/step\n",
      "1/1 [==============================] - 0s 13ms/step\n",
      "1/1 [==============================] - 0s 14ms/step\n",
      "1/1 [==============================] - 0s 13ms/step\n",
      "1/1 [==============================] - 0s 15ms/step\n",
      "1/1 [==============================] - 0s 15ms/step\n",
      "1/1 [==============================] - 0s 16ms/step\n",
      "1/1 [==============================] - 0s 15ms/step\n",
      "1/1 [==============================] - 0s 15ms/step\n",
      "1/1 [==============================] - 0s 15ms/step\n",
      "1/1 [==============================] - 0s 14ms/step\n",
      "1/1 [==============================] - 0s 15ms/step\n",
      "1/1 [==============================] - 0s 16ms/step\n",
      "1/1 [==============================] - 0s 16ms/step\n",
      "1/1 [==============================] - 0s 15ms/step\n",
      "1/1 [==============================] - 0s 16ms/step\n",
      "1/1 [==============================] - 0s 15ms/step\n",
      "1/1 [==============================] - 0s 13ms/step\n",
      "1/1 [==============================] - 0s 14ms/step\n",
      "1/1 [==============================] - 0s 14ms/step\n",
      "1/1 [==============================] - 0s 16ms/step\n",
      "1/1 [==============================] - 0s 15ms/step\n",
      "1/1 [==============================] - 0s 15ms/step\n",
      "1/1 [==============================] - 0s 15ms/step\n",
      "1/1 [==============================] - 0s 16ms/step\n",
      "1/1 [==============================] - 0s 14ms/step\n",
      "1/1 [==============================] - 0s 14ms/step\n",
      "1/1 [==============================] - 0s 14ms/step\n",
      "1/1 [==============================] - 0s 14ms/step\n",
      "1/1 [==============================] - 0s 14ms/step\n",
      "1/1 [==============================] - 0s 15ms/step\n",
      "1/1 [==============================] - 0s 15ms/step\n",
      "1/1 [==============================] - 0s 16ms/step\n",
      "1/1 [==============================] - 0s 16ms/step\n",
      "1/1 [==============================] - 0s 15ms/step\n",
      "1/1 [==============================] - 0s 15ms/step\n",
      "1/1 [==============================] - 0s 14ms/step\n",
      "1/1 [==============================] - 0s 19ms/step\n",
      "1/1 [==============================] - 0s 15ms/step\n",
      "1/1 [==============================] - 0s 17ms/step\n",
      "1/1 [==============================] - 0s 15ms/step\n",
      "1/1 [==============================] - 0s 15ms/step\n",
      "1/1 [==============================] - 0s 13ms/step\n",
      "1/1 [==============================] - 0s 14ms/step\n",
      "1/1 [==============================] - 0s 13ms/step\n",
      "1/1 [==============================] - 0s 13ms/step\n",
      "1/1 [==============================] - 0s 15ms/step\n",
      "1/1 [==============================] - 0s 14ms/step\n",
      "1/1 [==============================] - 0s 16ms/step\n",
      "1/1 [==============================] - 0s 15ms/step\n",
      "1/1 [==============================] - 0s 15ms/step\n",
      "1/1 [==============================] - 0s 15ms/step\n",
      "1/1 [==============================] - 0s 17ms/step\n",
      "1/1 [==============================] - 0s 16ms/step\n",
      "1/1 [==============================] - 0s 13ms/step\n",
      "1/1 [==============================] - 0s 15ms/step\n",
      "1/1 [==============================] - 0s 16ms/step\n",
      "1/1 [==============================] - 0s 15ms/step\n",
      "1/1 [==============================] - 0s 16ms/step\n",
      "1/1 [==============================] - 0s 15ms/step\n",
      "1/1 [==============================] - 0s 14ms/step\n",
      "1/1 [==============================] - 0s 15ms/step\n",
      "1/1 [==============================] - 0s 14ms/step\n",
      "1/1 [==============================] - 0s 13ms/step\n",
      "1/1 [==============================] - 0s 14ms/step\n",
      "1/1 [==============================] - 0s 14ms/step\n",
      "1/1 [==============================] - 0s 13ms/step\n",
      "1/1 [==============================] - 0s 15ms/step\n",
      "1/1 [==============================] - 0s 15ms/step\n",
      "1/1 [==============================] - 0s 21ms/step\n",
      "1/1 [==============================] - 0s 15ms/step\n",
      "1/1 [==============================] - 0s 15ms/step\n",
      "1/1 [==============================] - 0s 13ms/step\n",
      "1/1 [==============================] - 0s 14ms/step\n",
      "1/1 [==============================] - 0s 13ms/step\n",
      "1/1 [==============================] - 0s 14ms/step\n",
      "1/1 [==============================] - 0s 14ms/step\n",
      "1/1 [==============================] - 0s 16ms/step\n",
      "1/1 [==============================] - 0s 15ms/step\n",
      "1/1 [==============================] - 0s 13ms/step\n",
      "1/1 [==============================] - 0s 15ms/step\n",
      "1/1 [==============================] - 0s 15ms/step\n",
      "1/1 [==============================] - 0s 14ms/step\n",
      "1/1 [==============================] - 0s 14ms/step\n",
      "1/1 [==============================] - 0s 14ms/step\n",
      "1/1 [==============================] - 0s 14ms/step\n",
      "1/1 [==============================] - 0s 15ms/step\n",
      "1/1 [==============================] - 0s 16ms/step\n",
      "1/1 [==============================] - 0s 15ms/step\n",
      "1/1 [==============================] - 0s 14ms/step\n",
      "1/1 [==============================] - 0s 16ms/step\n",
      "1/1 [==============================] - 0s 15ms/step\n",
      "1/1 [==============================] - 0s 15ms/step\n",
      "1/1 [==============================] - 0s 14ms/step\n",
      "1/1 [==============================] - 0s 14ms/step\n",
      "1/1 [==============================] - 0s 15ms/step\n",
      "1/1 [==============================] - 0s 15ms/step\n",
      "1/1 [==============================] - 0s 15ms/step\n",
      "1/1 [==============================] - 0s 14ms/step\n",
      "1/1 [==============================] - 0s 14ms/step\n",
      "1/1 [==============================] - 0s 14ms/step\n",
      "1/1 [==============================] - 0s 14ms/step\n",
      "1/1 [==============================] - 0s 13ms/step\n",
      "1/1 [==============================] - 0s 14ms/step\n",
      "1/1 [==============================] - 0s 14ms/step\n",
      "1/1 [==============================] - 0s 14ms/step\n",
      "1/1 [==============================] - 0s 14ms/step\n",
      "1/1 [==============================] - 0s 16ms/step\n",
      "1/1 [==============================] - 0s 15ms/step\n",
      "1/1 [==============================] - 0s 16ms/step\n",
      "1/1 [==============================] - 0s 14ms/step\n",
      "1/1 [==============================] - 0s 14ms/step\n",
      "1/1 [==============================] - 0s 15ms/step\n",
      "1/1 [==============================] - 0s 14ms/step\n",
      "1/1 [==============================] - 0s 16ms/step\n",
      "1/1 [==============================] - 0s 15ms/step\n",
      "1/1 [==============================] - 0s 14ms/step\n",
      "1/1 [==============================] - 0s 13ms/step\n",
      "1/1 [==============================] - 0s 14ms/step\n",
      "1/1 [==============================] - 0s 14ms/step\n",
      "1/1 [==============================] - 0s 15ms/step\n",
      "1/1 [==============================] - 0s 17ms/step\n",
      "1/1 [==============================] - 0s 16ms/step\n",
      "1/1 [==============================] - 0s 17ms/step\n",
      "1/1 [==============================] - 0s 16ms/step\n",
      "1/1 [==============================] - 0s 16ms/step\n",
      "1/1 [==============================] - 0s 14ms/step\n"
     ]
    },
    {
     "data": {
      "text/plain": [
       "[array([[0.]], dtype=float32),\n",
       " array([[1.]], dtype=float32),\n",
       " array([[1.]], dtype=float32),\n",
       " array([[0.]], dtype=float32),\n",
       " array([[1.]], dtype=float32),\n",
       " array([[0.]], dtype=float32),\n",
       " array([[0.]], dtype=float32),\n",
       " array([[0.]], dtype=float32),\n",
       " array([[1.]], dtype=float32),\n",
       " array([[1.]], dtype=float32),\n",
       " array([[0.]], dtype=float32),\n",
       " array([[0.]], dtype=float32),\n",
       " array([[1.]], dtype=float32),\n",
       " array([[1.]], dtype=float32),\n",
       " array([[1.]], dtype=float32),\n",
       " array([[1.]], dtype=float32),\n",
       " array([[1.]], dtype=float32),\n",
       " array([[0.]], dtype=float32),\n",
       " array([[0.]], dtype=float32),\n",
       " array([[1.]], dtype=float32),\n",
       " array([[0.]], dtype=float32),\n",
       " array([[0.]], dtype=float32),\n",
       " array([[0.]], dtype=float32),\n",
       " array([[1.]], dtype=float32),\n",
       " array([[1.]], dtype=float32),\n",
       " array([[0.]], dtype=float32),\n",
       " array([[0.]], dtype=float32),\n",
       " array([[1.]], dtype=float32),\n",
       " array([[1.]], dtype=float32),\n",
       " array([[1.]], dtype=float32),\n",
       " array([[0.]], dtype=float32),\n",
       " array([[0.]], dtype=float32),\n",
       " array([[1.]], dtype=float32),\n",
       " array([[0.]], dtype=float32),\n",
       " array([[1.]], dtype=float32),\n",
       " array([[0.]], dtype=float32),\n",
       " array([[0.]], dtype=float32),\n",
       " array([[0.]], dtype=float32),\n",
       " array([[0.]], dtype=float32),\n",
       " array([[0.]], dtype=float32),\n",
       " array([[0.]], dtype=float32),\n",
       " array([[0.]], dtype=float32),\n",
       " array([[1.]], dtype=float32),\n",
       " array([[1.]], dtype=float32),\n",
       " array([[1.]], dtype=float32),\n",
       " array([[1.]], dtype=float32),\n",
       " array([[1.]], dtype=float32),\n",
       " array([[0.]], dtype=float32),\n",
       " array([[1.]], dtype=float32),\n",
       " array([[0.]], dtype=float32),\n",
       " array([[1.]], dtype=float32),\n",
       " array([[0.]], dtype=float32),\n",
       " array([[0.]], dtype=float32),\n",
       " array([[1.]], dtype=float32),\n",
       " array([[1.]], dtype=float32),\n",
       " array([[0.]], dtype=float32),\n",
       " array([[0.]], dtype=float32),\n",
       " array([[1.]], dtype=float32),\n",
       " array([[1.]], dtype=float32),\n",
       " array([[0.]], dtype=float32),\n",
       " array([[0.]], dtype=float32),\n",
       " array([[0.]], dtype=float32),\n",
       " array([[0.]], dtype=float32),\n",
       " array([[0.]], dtype=float32),\n",
       " array([[1.]], dtype=float32),\n",
       " array([[1.]], dtype=float32),\n",
       " array([[1.]], dtype=float32),\n",
       " array([[1.]], dtype=float32),\n",
       " array([[1.]], dtype=float32),\n",
       " array([[0.]], dtype=float32),\n",
       " array([[1.]], dtype=float32),\n",
       " array([[0.]], dtype=float32),\n",
       " array([[1.]], dtype=float32),\n",
       " array([[1.]], dtype=float32),\n",
       " array([[1.]], dtype=float32),\n",
       " array([[0.]], dtype=float32),\n",
       " array([[0.]], dtype=float32),\n",
       " array([[0.]], dtype=float32),\n",
       " array([[1.]], dtype=float32),\n",
       " array([[0.]], dtype=float32),\n",
       " array([[0.]], dtype=float32),\n",
       " array([[1.]], dtype=float32),\n",
       " array([[0.]], dtype=float32),\n",
       " array([[1.]], dtype=float32),\n",
       " array([[0.]], dtype=float32),\n",
       " array([[1.]], dtype=float32),\n",
       " array([[1.]], dtype=float32),\n",
       " array([[1.]], dtype=float32),\n",
       " array([[1.]], dtype=float32),\n",
       " array([[1.]], dtype=float32),\n",
       " array([[0.]], dtype=float32),\n",
       " array([[0.]], dtype=float32),\n",
       " array([[1.]], dtype=float32),\n",
       " array([[0.]], dtype=float32),\n",
       " array([[0.]], dtype=float32),\n",
       " array([[1.]], dtype=float32),\n",
       " array([[1.]], dtype=float32),\n",
       " array([[1.]], dtype=float32),\n",
       " array([[1.]], dtype=float32),\n",
       " array([[1.]], dtype=float32),\n",
       " array([[0.]], dtype=float32),\n",
       " array([[0.]], dtype=float32),\n",
       " array([[1.]], dtype=float32),\n",
       " array([[1.]], dtype=float32),\n",
       " array([[1.]], dtype=float32),\n",
       " array([[0.]], dtype=float32),\n",
       " array([[1.]], dtype=float32),\n",
       " array([[1.]], dtype=float32),\n",
       " array([[1.]], dtype=float32),\n",
       " array([[0.]], dtype=float32),\n",
       " array([[1.]], dtype=float32),\n",
       " array([[1.]], dtype=float32),\n",
       " array([[0.]], dtype=float32),\n",
       " array([[0.]], dtype=float32),\n",
       " array([[1.]], dtype=float32),\n",
       " array([[1.]], dtype=float32),\n",
       " array([[1.]], dtype=float32),\n",
       " array([[1.]], dtype=float32),\n",
       " array([[1.]], dtype=float32),\n",
       " array([[1.]], dtype=float32),\n",
       " array([[1.]], dtype=float32),\n",
       " array([[1.]], dtype=float32),\n",
       " array([[0.]], dtype=float32),\n",
       " array([[0.]], dtype=float32),\n",
       " array([[0.]], dtype=float32),\n",
       " array([[0.]], dtype=float32),\n",
       " array([[0.]], dtype=float32),\n",
       " array([[0.]], dtype=float32),\n",
       " array([[1.]], dtype=float32),\n",
       " array([[0.]], dtype=float32),\n",
       " array([[0.]], dtype=float32),\n",
       " array([[1.]], dtype=float32),\n",
       " array([[1.]], dtype=float32),\n",
       " array([[1.]], dtype=float32),\n",
       " array([[0.]], dtype=float32),\n",
       " array([[1.]], dtype=float32),\n",
       " array([[1.]], dtype=float32),\n",
       " array([[0.]], dtype=float32),\n",
       " array([[1.]], dtype=float32),\n",
       " array([[1.]], dtype=float32),\n",
       " array([[1.]], dtype=float32),\n",
       " array([[1.]], dtype=float32),\n",
       " array([[0.]], dtype=float32),\n",
       " array([[0.]], dtype=float32),\n",
       " array([[1.]], dtype=float32),\n",
       " array([[0.]], dtype=float32),\n",
       " array([[1.]], dtype=float32),\n",
       " array([[0.]], dtype=float32),\n",
       " array([[0.]], dtype=float32),\n",
       " array([[1.]], dtype=float32),\n",
       " array([[1.]], dtype=float32),\n",
       " array([[0.]], dtype=float32),\n",
       " array([[1.]], dtype=float32),\n",
       " array([[0.]], dtype=float32),\n",
       " array([[0.]], dtype=float32),\n",
       " array([[1.]], dtype=float32),\n",
       " array([[1.]], dtype=float32),\n",
       " array([[0.]], dtype=float32),\n",
       " array([[0.]], dtype=float32),\n",
       " array([[0.]], dtype=float32),\n",
       " array([[0.]], dtype=float32),\n",
       " array([[1.]], dtype=float32),\n",
       " array([[0.]], dtype=float32),\n",
       " array([[0.]], dtype=float32),\n",
       " array([[0.]], dtype=float32),\n",
       " array([[1.]], dtype=float32),\n",
       " array([[1.]], dtype=float32),\n",
       " array([[1.]], dtype=float32),\n",
       " array([[1.]], dtype=float32),\n",
       " array([[1.]], dtype=float32),\n",
       " array([[0.]], dtype=float32),\n",
       " array([[1.]], dtype=float32),\n",
       " array([[1.]], dtype=float32),\n",
       " array([[0.]], dtype=float32),\n",
       " array([[1.]], dtype=float32),\n",
       " array([[0.]], dtype=float32),\n",
       " array([[1.]], dtype=float32),\n",
       " array([[1.]], dtype=float32),\n",
       " array([[0.]], dtype=float32),\n",
       " array([[0.]], dtype=float32),\n",
       " array([[0.]], dtype=float32),\n",
       " array([[0.]], dtype=float32),\n",
       " array([[1.]], dtype=float32),\n",
       " array([[0.]], dtype=float32),\n",
       " array([[0.]], dtype=float32),\n",
       " array([[0.]], dtype=float32),\n",
       " array([[1.]], dtype=float32),\n",
       " array([[0.]], dtype=float32),\n",
       " array([[0.]], dtype=float32),\n",
       " array([[0.]], dtype=float32),\n",
       " array([[1.]], dtype=float32),\n",
       " array([[1.]], dtype=float32),\n",
       " array([[0.]], dtype=float32),\n",
       " array([[1.]], dtype=float32),\n",
       " array([[1.]], dtype=float32),\n",
       " array([[0.]], dtype=float32),\n",
       " array([[1.]], dtype=float32),\n",
       " array([[0.]], dtype=float32),\n",
       " array([[1.]], dtype=float32),\n",
       " array([[1.]], dtype=float32),\n",
       " array([[0.]], dtype=float32),\n",
       " array([[1.]], dtype=float32),\n",
       " array([[0.]], dtype=float32),\n",
       " array([[0.]], dtype=float32),\n",
       " array([[0.]], dtype=float32),\n",
       " array([[1.]], dtype=float32),\n",
       " array([[0.]], dtype=float32),\n",
       " array([[1.]], dtype=float32),\n",
       " array([[0.]], dtype=float32),\n",
       " array([[0.]], dtype=float32),\n",
       " array([[1.]], dtype=float32),\n",
       " array([[0.]], dtype=float32),\n",
       " array([[0.]], dtype=float32),\n",
       " array([[1.]], dtype=float32),\n",
       " array([[1.]], dtype=float32),\n",
       " array([[1.]], dtype=float32),\n",
       " array([[0.]], dtype=float32),\n",
       " array([[1.]], dtype=float32),\n",
       " array([[0.]], dtype=float32)]"
      ]
     },
     "execution_count": 18,
     "metadata": {},
     "output_type": "execute_result"
    }
   ],
   "source": [
    "y_pred = []\n",
    "y_true = y_test\n",
    "# for i in X_test: print(i[:3000], \"\\n\")\n",
    "\n",
    "for i in X_test:\n",
    "    i = np.expand_dims(i, axis=0)\n",
    "    y_pred.append(np.round(model.predict(i)))\n",
    "\n",
    "y_pred"
   ]
  },
  {
   "cell_type": "code",
   "execution_count": 19,
   "id": "4dd1f721",
   "metadata": {},
   "outputs": [
    {
     "data": {
      "image/png": "[encoded data removed]",
      "text/plain": [
       "<Figure size 1000x800 with 2 Axes>"
      ]
     },
     "metadata": {},
     "output_type": "display_data"
    },
    {
     "name": "stdout",
     "output_type": "stream",
     "text": [
      "tf.Tensor(\n",
      "[[103   5]\n",
      " [  3 108]], shape=(2, 2), dtype=int32)\n"
     ]
    }
   ],
   "source": [
    "correct_labels = np.array(tf.concat([item for item in y_true], axis = 0))\n",
    "predicted_labels = np.array(tf.concat([item for item in y_pred], axis = 0))\n",
    "\n",
    "confusion_mtx = tf.math.confusion_matrix(correct_labels, predicted_labels)\n",
    "plt.figure(figsize=(10, 8))\n",
    "sns.set(font_scale=2)\n",
    "sns.heatmap(confusion_mtx,\n",
    "            xticklabels=[\"Healthy\", \"CLL\"],\n",
    "            yticklabels=[\"Healthy\", \"CLL\"],\n",
    "            annot=True, fmt='g', annot_kws={\"size\":40})\n",
    "plt.xlabel('Prediction')\n",
    "plt.ylabel('Truth')\n",
    "plt.show()\n",
    "\n",
    "print(confusion_mtx)"
   ]
  },
  {
   "cell_type": "code",
   "execution_count": 20,
   "id": "0526582e",
   "metadata": {},
   "outputs": [
    {
     "data": {
      "text/plain": [
       "<tf.Tensor: shape=(2, 2), dtype=int32, numpy=\n",
       "array([[0, 5],\n",
       "       [0, 0]], dtype=int32)>"
      ]
     },
     "execution_count": 20,
     "metadata": {},
     "output_type": "execute_result"
    }
   ],
   "source": [
    "tf.math.confusion_matrix([0, 0, 0, 0, 0], [1, 1, 1, 1, 1]) # represents # of false positives (0 actual 1 pred)"
   ]
  },
  {
   "cell_type": "code",
   "execution_count": 21,
   "id": "9483ae4f",
   "metadata": {},
   "outputs": [
    {
     "data": {
      "image/png": "[encoded data removed]",
      "text/plain": [
       "<Figure size 640x480 with 1 Axes>"
      ]
     },
     "metadata": {},
     "output_type": "display_data"
    }
   ],
   "source": [
    "fpr, tpr, _ = sklearn.metrics.roc_curve(correct_labels,  predicted_labels)\n",
    "auc = sklearn.metrics.roc_auc_score(correct_labels, predicted_labels)\n",
    "plt.plot(fpr,tpr,label=\"AUC = \"+str(auc))\n",
    "plt.legend(loc=4)\n",
    "plt.show()"
   ]
  },
  {
   "cell_type": "code",
   "execution_count": null,
   "id": "999d32d3",
   "metadata": {},
   "outputs": [],
   "source": []
  },
  {
   "cell_type": "code",
   "execution_count": null,
   "id": "1c85b699",
   "metadata": {},
   "outputs": [],
   "source": []
  }
 ],
 "metadata": {
  "kernelspec": {
   "display_name": "Python 3.10.8 ('test_env')",
   "language": "python",
   "name": "python3"
  },
  "language_info": {
   "codemirror_mode": {
    "name": "ipython",
    "version": 3
   },
   "file_extension": ".py",
   "mimetype": "text/x-python",
   "name": "python",
   "nbconvert_exporter": "python",
   "pygments_lexer": "ipython3",
   "version": "3.10.8"
  },
  "vscode": {
   "interpreter": {
    "hash": "c38c8779811d1cfaf4b5a784c97578f212c26cffc36ab1ef679f872ba1fdba43"
   }
  }
 },
 "nbformat": 4,
 "nbformat_minor": 5
}
